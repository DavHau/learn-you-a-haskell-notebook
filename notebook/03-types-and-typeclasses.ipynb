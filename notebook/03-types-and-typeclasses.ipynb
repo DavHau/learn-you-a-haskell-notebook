{
 "cells": [
  {
   "cell_type": "markdown",
   "metadata": {},
   "source": [
    "Types and Typeclasses\n",
    "=====================\n",
    "\n",
    "Believe the type\n",
    "----------------\n",
    "\n",
    "<img src=\"img/cow.png\" title=\"moo\" style=\"\" />\n",
    "\n",
    "Previously we mentioned that Haskell has a static type system. The type\n",
    "of every expression is known at compile time, which leads to safer code.\n",
    "If you write a program where you try to divide a boolean type with some\n",
    "number, it won't even compile. That's good because it's better to catch\n",
    "such errors at compile time instead of having your program crash.\n",
    "Everything in Haskell has a type, so the compiler can reason quite a lot\n",
    "about your program before compiling it.\n",
    "\n",
    "Unlike Java or Pascal, Haskell has type inference. If we write a number,\n",
    "we don't have to tell Haskell it's a number. It can *infer* that on its\n",
    "own, so we don't have to explicitly write out the types of our functions\n",
    "and expressions to get things done. We covered some of the basics of\n",
    "Haskell with only a very superficial glance at types. However,\n",
    "understanding the type system is a very important part of learning\n",
    "Haskell.\n",
    "\n",
    "A type is a kind of label that every expression has. It tells us in\n",
    "which category of things that expression fits. The expression `True` is a\n",
    "boolean, `\"hello\"` is a string, etc.\n",
    "\n",
    "Now we'll use GHCI to examine the types of some expressions. We'll do\n",
    "that by using the `:t` command which, followed by any valid expression,\n",
    "tells us its type. Let's give it a whirl."
   ]
  },
  {
   "cell_type": "code",
   "execution_count": null,
   "metadata": {
    "attributes": {
     "classes": [
      "haskell:",
      "ghci"
     ],
     "id": "",
     "name": "\"code\""
    }
   },
   "outputs": [],
   "source": [
    "ghci> :t 'a'\n",
    "'a' :: Char\n",
    "ghci> :t True\n",
    "True :: Bool\n",
    "ghci> :t \"HELLO!\"\n",
    "\"HELLO!\" :: [Char]\n",
    "ghci> :t (True, 'a')\n",
    "(True, 'a') :: (Bool, Char)\n",
    "ghci> :t 4 == 5\n",
    "4 == 5 :: Bool"
   ]
  },
  {
   "cell_type": "markdown",
   "metadata": {},
   "source": [
    "<img src=\"img/bomb.png\" title=\"bomb\" style=\"\" /> Here we see that doing `:t`\n",
    "on an expression prints out the expression followed by `::` and its type.\n",
    "`::` is read as \"has type of\". Explicit types are always denoted with the\n",
    "first letter in capital case. `'a'`, as it would seem, has a type of `Char`.\n",
    "It's not hard to conclude that it stands for *character*. `True` is of a\n",
    "`Bool` type. That makes sense. But what's this? Examining the type of\n",
    "`\"HELLO!\"` yields a `[Char]`. The square brackets denote a list. So we read\n",
    "that as it being *a list of characters*. Unlike lists, each tuple length\n",
    "has its own type. So the expression of `(True, 'a')` has a type of\n",
    "`(Bool, Char)`, whereas an expression such as `('a','b','c')` would have the\n",
    "type of `(Char, Char, Char)`. `4 == 5` will always return `False`, so its type\n",
    "is `Bool`.\n",
    "\n",
    "Functions also have types. When writing our own functions, we can choose\n",
    "to give them an explicit type declaration. This is generally considered\n",
    "to be good practice except when writing very short functions. From here\n",
    "on, we'll give all the functions that we make type declarations.\n",
    "Remember the list comprehension we made previously that filters a string\n",
    "so that only caps remain? Here's how it looks like with a type\n",
    "declaration."
   ]
  },
  {
   "cell_type": "code",
   "execution_count": null,
   "metadata": {
    "attributes": {
     "classes": [
      "haskell:",
      "hs"
     ],
     "id": "",
     "name": "\"code\""
    }
   },
   "outputs": [],
   "source": [
    "removeNonUppercase :: [Char] -> [Char]\n",
    "removeNonUppercase st = [ c | c <- st, c `elem` ['A'..'Z']]"
   ]
  },
  {
   "cell_type": "markdown",
   "metadata": {},
   "source": [
    "`removeNonUppercase` has a type of `[Char] -> [Char]`, meaning that it maps\n",
    "from a string to a string. That's because it takes one string as a\n",
    "parameter and returns another as a result. The `[Char]` type is synonymous\n",
    "with `String` so it's clearer if we write\n",
    "`removeNonUppercase :: String -> String`.\n",
    "We didn't have to give this function a type declaration because\n",
    "the compiler can infer by itself that it's a function from a string to a\n",
    "string but we did anyway. But how do we write out the type of a function\n",
    "that takes several parameters? Here's a simple function that takes three\n",
    "integers and adds them together:"
   ]
  },
  {
   "cell_type": "code",
   "execution_count": null,
   "metadata": {
    "attributes": {
     "classes": [
      "haskell:",
      "hs"
     ],
     "id": "",
     "name": "\"code\""
    }
   },
   "outputs": [],
   "source": [
    "addThree :: Int -> Int -> Int -> Int\n",
    "addThree x y z = x + y + z"
   ]
  },
  {
   "cell_type": "markdown",
   "metadata": {},
   "source": [
    "The parameters are separated with `->` and there's no special distinction\n",
    "between the parameters and the return type. The return type is the last\n",
    "item in the declaration and the parameters are the first three. Later on\n",
    "we'll see why they're all just separated with `->` instead of having some\n",
    "more explicit distinction between the return types and the parameters\n",
    "like `Int, Int, Int -> Int` or something.\n",
    "\n",
    "If you want to give your function a type declaration but are unsure as\n",
    "to what it should be, you can always just write the function without it\n",
    "and then check it with `:t`. Functions are expressions too, so `:t` works\n",
    "on them without a problem.\n",
    "\n",
    "Here's an overview of some common types.\n",
    "\n",
    "`Int` stands for integer. It's used for whole numbers. `7` can be an `Int` but\n",
    "`7.2` cannot. `Int` is bounded, which means that it has a minimum and a\n",
    "maximum value. Usually on 32-bit machines the maximum possible `Int` is\n",
    "2147483647 and the minimum is -2147483648.\n",
    "\n",
    "`Integer` stands for, er … also integer. The main difference is that it's\n",
    "not bounded so it can be used to represent really really big numbers. I\n",
    "mean like really big. `Int`, however, is more efficient."
   ]
  },
  {
   "cell_type": "code",
   "execution_count": null,
   "metadata": {
    "attributes": {
     "classes": [
      "haskell:",
      "hs"
     ],
     "id": "",
     "name": "\"code\""
    }
   },
   "outputs": [],
   "source": [
    "factorial :: Integer -> Integer\n",
    "factorial n = product [1..n]"
   ]
  },
  {
   "cell_type": "code",
   "execution_count": null,
   "metadata": {
    "attributes": {
     "classes": [
      "haskell:",
      "ghci"
     ],
     "id": "",
     "name": "\"code\""
    }
   },
   "outputs": [],
   "source": [
    "ghci> factorial 50\n",
    "30414093201713378043612608166064768844377641568960512000000000000"
   ]
  },
  {
   "cell_type": "markdown",
   "metadata": {},
   "source": [
    "`Float` is a real floating point with single precision."
   ]
  },
  {
   "cell_type": "code",
   "execution_count": null,
   "metadata": {
    "attributes": {
     "classes": [
      "haskell:",
      "hs"
     ],
     "id": "",
     "name": "\"code\""
    }
   },
   "outputs": [],
   "source": [
    "circumference :: Float -> Float\n",
    "circumference r = 2 * pi * r"
   ]
  },
  {
   "cell_type": "code",
   "execution_count": null,
   "metadata": {
    "attributes": {
     "classes": [
      "haskell:",
      "ghci"
     ],
     "id": "",
     "name": "\"code\""
    }
   },
   "outputs": [],
   "source": [
    "ghci> circumference 4.0\n",
    "25.132742"
   ]
  },
  {
   "cell_type": "markdown",
   "metadata": {},
   "source": [
    "`Double` is a real floating point with double the precision!"
   ]
  },
  {
   "cell_type": "code",
   "execution_count": null,
   "metadata": {
    "attributes": {
     "classes": [
      "haskell:",
      "hs"
     ],
     "id": "",
     "name": "\"code\""
    }
   },
   "outputs": [],
   "source": [
    "circumference' :: Double -> Double\n",
    "circumference' r = 2 * pi * r"
   ]
  },
  {
   "cell_type": "code",
   "execution_count": null,
   "metadata": {
    "attributes": {
     "classes": [
      "haskell:",
      "ghci"
     ],
     "id": "",
     "name": "\"code\""
    }
   },
   "outputs": [],
   "source": [
    "ghci> circumference' 4.0\n",
    "25.132741228718345"
   ]
  },
  {
   "cell_type": "markdown",
   "metadata": {},
   "source": [
    "`Bool` is a boolean type. It can have only two values: `True` and `False`.\n",
    "\n",
    "`Char` represents a character. It's denoted by single quotes. A list of\n",
    "characters is a string.\n",
    "\n",
    "Tuples are types but they are dependent on their length as well as the\n",
    "types of their components, so there is theoretically an infinite number\n",
    "of tuple types, which is too many to cover in this tutorial. Note that\n",
    "the empty tuple `()` is also a type which can only have a single value: `()`\n",
    "\n",
    "Type variables\n",
    "--------------\n",
    "\n",
    "What do you think is the type of the `head` function? Because `head` takes a\n",
    "list of any type and returns the first element, so what could it be?\n",
    "Let's check!"
   ]
  },
  {
   "cell_type": "code",
   "execution_count": null,
   "metadata": {
    "attributes": {
     "classes": [
      "haskell:",
      "ghci"
     ],
     "id": "",
     "name": "\"code\""
    }
   },
   "outputs": [],
   "source": [
    "ghci> :t head\n",
    "head :: [a] -> a"
   ]
  },
  {
   "cell_type": "markdown",
   "metadata": {},
   "source": [
    "<img src=\"img/box.png\" title=\"box\" style=\"\" /> Hmmm! What is this `a`? Is it\n",
    "a type? Remember that we previously stated that types are written in\n",
    "capital case, so it can't exactly be a type. Because it's not in capital\n",
    "case it's actually a *type variable*. That means that `a` can be of any\n",
    "type. This is much like generics in other languages, only in Haskell\n",
    "it's much more powerful because it allows us to easily write very\n",
    "general functions if they don't use any specific behavior of the types\n",
    "in them. Functions that have type variables are called *polymorphic\n",
    "functions*. The type declaration of `head` states that it takes a list of\n",
    "any type and returns one element of that type.\n",
    "\n",
    "Although type variables can have names longer than one character, we\n",
    "usually give them names of a, b, c, d …\n",
    "\n",
    "Remember `fst`? It returns the first component of a pair. Let's examine\n",
    "its type."
   ]
  },
  {
   "cell_type": "code",
   "execution_count": null,
   "metadata": {
    "attributes": {
     "classes": [
      "haskell:",
      "ghci"
     ],
     "id": "",
     "name": "\"code\""
    }
   },
   "outputs": [],
   "source": [
    "ghci> :t fst\n",
    "fst :: (a, b) -> a"
   ]
  },
  {
   "cell_type": "markdown",
   "metadata": {},
   "source": [
    "We see that `fst` takes a tuple which contains two types and returns an\n",
    "element which is of the same type as the pair's first component. That's\n",
    "why we can use `fst` on a pair that contains any two types. Note that just\n",
    "because `a` and `b` are different type variables, they don't have to be\n",
    "different types. It just states that the first component's type and the\n",
    "return value's type are the same.\n",
    "\n",
    "<a name=\"typeclasses-101\"></a>\n",
    "\n",
    "Typeclasses 101\n",
    "---------------\n",
    "\n",
    "<img src=\"img/classes.png\" title=\"class\" style=\"\" />\n",
    "\n",
    "A typeclass is a sort of interface that defines some behavior. If a type\n",
    "is a part of a typeclass, that means that it supports and implements the\n",
    "behavior the typeclass describes. A lot of people coming from OOP get\n",
    "confused by typeclasses because they think they are like classes in\n",
    "object oriented languages. Well, they're not. You can think of them kind\n",
    "of as Java interfaces, only better.\n",
    "\n",
    "What's the type signature of the `==` function?"
   ]
  },
  {
   "cell_type": "code",
   "execution_count": null,
   "metadata": {
    "attributes": {
     "classes": [
      "haskell:",
      "ghci"
     ],
     "id": "",
     "name": "\"code\""
    }
   },
   "outputs": [],
   "source": [
    "ghci> :t (==)\n",
    "(==) :: (Eq a) => a -> a -> Bool"
   ]
  },
  {
   "cell_type": "markdown",
   "metadata": {},
   "source": [
    "> *Note*: the equality operator, `==` is a function. So are `+`, `*`, `-`, `/` and\n",
    "> pretty much all operators. If a function is comprised only of special\n",
    "> characters, it's considered an infix function by default. If we want to\n",
    "> examine its type, pass it to another function or call it as a prefix\n",
    "> function, we have to surround it in parentheses.\n",
    "\n",
    "Interesting. We see a new thing here, the `=>` symbol. Everything before\n",
    "the `=>` symbol is called a *class constraint*. We can read the previous\n",
    "type declaration like this: the equality function takes any two values\n",
    "that are of the same type and returns a `Bool`. The type of those two\n",
    "values must be a member of the `Eq` class (this was the class constraint).\n",
    "\n",
    "The `Eq` typeclass provides an interface for testing for equality. Any\n",
    "type where it makes sense to test for equality between two values of\n",
    "that type should be a member of the `Eq` class. All standard Haskell types\n",
    "except for `IO` (the type for dealing with input and output) and functions\n",
    "are a part of the `Eq` typeclass.\n",
    "\n",
    "The `elem` function has a type of `(Eq a) => a -> [a] -> Bool` because it\n",
    "uses `==` over a list to check whether some value we're looking for is in\n",
    "it.\n",
    "\n",
    "Some basic typeclasses:\n",
    "\n",
    "`Eq` is used for types that support equality testing. The functions its\n",
    "members implement are `==` and `/=`. So if there's an `Eq` class constraint\n",
    "for a type variable in a function, it uses `==` or `/=` somewhere inside its\n",
    "definition. All the types we mentioned previously except for functions\n",
    "are part of `Eq`, so they can be tested for equality."
   ]
  },
  {
   "cell_type": "code",
   "execution_count": null,
   "metadata": {
    "attributes": {
     "classes": [
      "haskell:",
      "ghci"
     ],
     "id": "",
     "name": "\"code\""
    }
   },
   "outputs": [],
   "source": [
    "ghci> 5 == 5\n",
    "True\n",
    "ghci> 5 /= 5\n",
    "False\n",
    "ghci> 'a' == 'a'\n",
    "True\n",
    "ghci> \"Ho Ho\" == \"Ho Ho\"\n",
    "True\n",
    "ghci> 3.432 == 3.432\n",
    "True"
   ]
  },
  {
   "cell_type": "markdown",
   "metadata": {},
   "source": [
    "`Ord` is for types that have an ordering."
   ]
  },
  {
   "cell_type": "code",
   "execution_count": null,
   "metadata": {
    "attributes": {
     "classes": [
      "haskell:",
      "ghci"
     ],
     "id": "",
     "name": "\"code\""
    }
   },
   "outputs": [],
   "source": [
    "ghci> :t (>)\n",
    "(>) :: (Ord a) => a -> a -> Bool"
   ]
  },
  {
   "cell_type": "markdown",
   "metadata": {},
   "source": [
    "All the types we covered so far except for functions are part of `Ord`.\n",
    "`Ord` covers all the standard comparing functions such as `>`, `<`, `>=` and\n",
    "`<=`. The `compare` function takes two `Ord` members of the same type and\n",
    "returns an ordering. `Ordering` is a type that can be `GT`, `LT` or `EQ`,\n",
    "meaning *greater than*, *lesser than* and *equal*, respectively.\n",
    "\n",
    "To be a member of `Ord`, a type must first have membership in the\n",
    "prestigious and exclusive `Eq` club."
   ]
  },
  {
   "cell_type": "code",
   "execution_count": null,
   "metadata": {
    "attributes": {
     "classes": [
      "haskell:",
      "ghci"
     ],
     "id": "",
     "name": "\"code\""
    }
   },
   "outputs": [],
   "source": [
    "ghci> \"Abrakadabra\" < \"Zebra\"\n",
    "True\n",
    "ghci> \"Abrakadabra\" `compare` \"Zebra\"\n",
    "LT\n",
    "ghci> 5 >= 2\n",
    "True\n",
    "ghci> 5 `compare` 3\n",
    "GT"
   ]
  },
  {
   "cell_type": "markdown",
   "metadata": {},
   "source": [
    "Members of `Show` can be presented as strings. All types covered so far\n",
    "except for functions are a part of `Show`. The most used function that\n",
    "deals with the `Show` typeclass is show. It takes a value whose type is a\n",
    "member of `Show` and presents it to us as a string."
   ]
  },
  {
   "cell_type": "code",
   "execution_count": null,
   "metadata": {
    "attributes": {
     "classes": [
      "haskell:",
      "ghci"
     ],
     "id": "",
     "name": "\"code\""
    }
   },
   "outputs": [],
   "source": [
    "ghci> show 3\n",
    "\"3\"\n",
    "ghci> show 5.334\n",
    "\"5.334\"\n",
    "ghci> show True\n",
    "\"True\""
   ]
  },
  {
   "cell_type": "markdown",
   "metadata": {},
   "source": [
    "`Read` is sort of the opposite typeclass of `Show`. The `read` function takes\n",
    "a string and returns a type which is a member of `Read`."
   ]
  },
  {
   "cell_type": "code",
   "execution_count": null,
   "metadata": {
    "attributes": {
     "classes": [
      "haskell:",
      "ghci"
     ],
     "id": "",
     "name": "\"code\""
    }
   },
   "outputs": [],
   "source": [
    "ghci> read \"True\" || False\n",
    "True\n",
    "ghci> read \"8.2\" + 3.8\n",
    "12.0\n",
    "ghci> read \"5\" - 2\n",
    "3\n",
    "ghci> read \"[1,2,3,4]\" ++ [3]\n",
    "[1,2,3,4,3]"
   ]
  },
  {
   "cell_type": "markdown",
   "metadata": {},
   "source": [
    "So far so good. Again, all types covered so far are in this typeclass.\n",
    "But what happens if we try to do just `read \"4\"`?"
   ]
  },
  {
   "cell_type": "code",
   "execution_count": null,
   "metadata": {
    "attributes": {
     "classes": [
      "haskell:",
      "ghci"
     ],
     "id": "",
     "name": "\"code\""
    }
   },
   "outputs": [],
   "source": [
    "ghci> read \"4\"\n",
    "<interactive>:1:0:\n",
    "    Ambiguous type variable `a' in the constraint:\n",
    "      `Read a' arising from a use of `read' at <interactive>:1:0-7\n",
    "    Probable fix: add a type signature that fixes these type variable(s)"
   ]
  },
  {
   "cell_type": "markdown",
   "metadata": {},
   "source": [
    "What GHCI is telling us here is that it doesn't know what we want in\n",
    "return. Notice that in the previous uses of `read` we did something with\n",
    "the result afterwards. That way, GHCI could infer what kind of result we\n",
    "wanted out of our `read`. If we used it as a boolean, it knew it had to\n",
    "return a `Bool`. But now, it knows we want some type that is part of the\n",
    "`Read` class, it just doesn't know which one. Let's take a look at the\n",
    "type signature of `read`."
   ]
  },
  {
   "cell_type": "code",
   "execution_count": null,
   "metadata": {
    "attributes": {
     "classes": [
      "haskell:",
      "ghci"
     ],
     "id": "",
     "name": "\"code\""
    }
   },
   "outputs": [],
   "source": [
    "ghci> :t read\n",
    "read :: (Read a) => String -> a"
   ]
  },
  {
   "cell_type": "markdown",
   "metadata": {},
   "source": [
    "See? It returns a type that's part of `Read` but if we don't try to use it\n",
    "in some way later, it has no way of knowing which type. That's why we\n",
    "can use explicit *type annotations*. Type annotations are a way of\n",
    "explicitly saying what the type of an expression should be. We do that\n",
    "by adding `::` at the end of the expression and then specifying a type.\n",
    "Observe:"
   ]
  },
  {
   "cell_type": "code",
   "execution_count": null,
   "metadata": {
    "attributes": {
     "classes": [
      "haskell:",
      "ghci"
     ],
     "id": "",
     "name": "\"code\""
    }
   },
   "outputs": [],
   "source": [
    "ghci> read \"5\" :: Int\n",
    "5\n",
    "ghci> read \"5\" :: Float\n",
    "5.0\n",
    "ghci> (read \"5\" :: Float) * 4\n",
    "20.0\n",
    "ghci> read \"[1,2,3,4]\" :: [Int]\n",
    "[1,2,3,4]\n",
    "ghci> read \"(3, 'a')\" :: (Int, Char)\n",
    "(3, 'a')"
   ]
  },
  {
   "cell_type": "markdown",
   "metadata": {},
   "source": [
    "Most expressions are such that the compiler can infer what their type is\n",
    "by itself. But sometimes, the compiler doesn't know whether to return a\n",
    "value of type `Int` or `Float` for an expression like `read \"5\"`. To see what\n",
    "the type is, Haskell would have to actually evaluate `read \"5\"`. But since\n",
    "Haskell is a statically typed language, it has to know all the types\n",
    "before the code is compiled (or in the case of GHCI, evaluated). So we\n",
    "have to tell Haskell: \"Hey, this expression should have this type, in\n",
    "case you don't know!\".\n",
    "\n",
    "`Enum` members are sequentially ordered types — they can be enumerated.\n",
    "The main advantage of the `Enum` typeclass is that we can use its types in\n",
    "list ranges. They also have defined successors and predecessors, which\n",
    "you can get with the `succ` and `pred` functions. Types in this class: `()`,\n",
    "`Bool`, `Char`, `Ordering`, `Int`, `Integer`, `Float` and `Double`."
   ]
  },
  {
   "cell_type": "code",
   "execution_count": null,
   "metadata": {
    "attributes": {
     "classes": [
      "haskell:",
      "ghci"
     ],
     "id": "",
     "name": "\"code\""
    }
   },
   "outputs": [],
   "source": [
    "ghci> ['a'..'e']\n",
    "\"abcde\"\n",
    "ghci> [LT .. GT]\n",
    "[LT,EQ,GT]\n",
    "ghci> [3 .. 5]\n",
    "[3,4,5]\n",
    "ghci> succ 'B'\n",
    "'C'"
   ]
  },
  {
   "cell_type": "markdown",
   "metadata": {},
   "source": [
    "`Bounded` members have an upper and a lower bound."
   ]
  },
  {
   "cell_type": "code",
   "execution_count": null,
   "metadata": {
    "attributes": {
     "classes": [
      "haskell:",
      "ghci"
     ],
     "id": "",
     "name": "\"code\""
    }
   },
   "outputs": [],
   "source": [
    "ghci> minBound :: Int\n",
    "-2147483648\n",
    "ghci> maxBound :: Char\n",
    "'\\1114111'\n",
    "ghci> maxBound :: Bool\n",
    "True\n",
    "ghci> minBound :: Bool\n",
    "False"
   ]
  },
  {
   "cell_type": "markdown",
   "metadata": {},
   "source": [
    "`minBound` and `maxBound` are interesting because they have a type of\n",
    "`(Bounded a) => a`. In a sense they are polymorphic constants.\n",
    "\n",
    "All tuples are also part of `Bounded` if the components are also in it."
   ]
  },
  {
   "cell_type": "code",
   "execution_count": null,
   "metadata": {
    "attributes": {
     "classes": [
      "haskell:",
      "ghci"
     ],
     "id": "",
     "name": "\"code\""
    }
   },
   "outputs": [],
   "source": [
    "ghci> maxBound :: (Bool, Int, Char)\n",
    "(True,2147483647,'\\1114111')"
   ]
  },
  {
   "cell_type": "markdown",
   "metadata": {},
   "source": [
    "`Num` is a numeric typeclass. Its members have the property of being able\n",
    "to act like numbers. Let's examine the type of a number."
   ]
  },
  {
   "cell_type": "code",
   "execution_count": null,
   "metadata": {
    "attributes": {
     "classes": [
      "haskell:",
      "ghci"
     ],
     "id": "",
     "name": "\"code\""
    }
   },
   "outputs": [],
   "source": [
    "ghci> :t 20\n",
    "20 :: (Num t) => t"
   ]
  },
  {
   "cell_type": "markdown",
   "metadata": {},
   "source": [
    "It appears that whole numbers are also polymorphic constants. They can\n",
    "act like any type that's a member of the `Num` typeclass."
   ]
  },
  {
   "cell_type": "code",
   "execution_count": null,
   "metadata": {
    "attributes": {
     "classes": [
      "haskell:",
      "ghci"
     ],
     "id": "",
     "name": "\"code\""
    }
   },
   "outputs": [],
   "source": [
    "ghci> 20 :: Int\n",
    "20\n",
    "ghci> 20 :: Integer\n",
    "20\n",
    "ghci> 20 :: Float\n",
    "20.0\n",
    "ghci> 20 :: Double\n",
    "20.0"
   ]
  },
  {
   "cell_type": "markdown",
   "metadata": {},
   "source": [
    "Those are types that are in the `Num` typeclass. If we examine the type of\n",
    "`*`, we'll see that it accepts all numbers."
   ]
  },
  {
   "cell_type": "code",
   "execution_count": null,
   "metadata": {
    "attributes": {
     "classes": [
      "haskell:",
      "ghci"
     ],
     "id": "",
     "name": "\"code\""
    }
   },
   "outputs": [],
   "source": [
    "ghci> :t (*)\n",
    "(*) :: (Num a) => a -> a -> a"
   ]
  },
  {
   "cell_type": "markdown",
   "metadata": {},
   "source": [
    "It takes two numbers of the same type and returns a number of that type.\n",
    "That's why `(5 :: Int) * (6 :: Integer)` will result in a type error\n",
    "whereas `5 * (6 :: Integer)` will work just fine and produce an `Integer`\n",
    "because `5` can act like an `Integer` or an `Int`.\n",
    "\n",
    "To join `Num`, a type must already be friends with `Show` and `Eq`.\n",
    "\n",
    "`Integral` is also a numeric typeclass. `Num` includes all numbers,\n",
    "including real numbers and integral numbers, `Integral` includes only\n",
    "integral (whole) numbers. In this typeclass are `Int` and `Integer`.\n",
    "\n",
    "`Floating` includes only floating point numbers, so `Float` and `Double`.\n",
    "\n",
    "A very useful function for dealing with numbers is `fromIntegral`. It has\n",
    "a type declaration of `fromIntegral :: (Num b, Integral a) => a -> b`.\n",
    "From its type signature we see that it takes an integral number and\n",
    "turns it into a more general number. That's useful when you want\n",
    "integral and floating point types to work together nicely. For instance,\n",
    "the `length` function has a type declaration of `length :: [a] -> Int`\n",
    "instead of having a more general type of\n",
    "`(Num b) => length :: [a] -> b`.\n",
    "I think that's there for historical reasons or something, although in\n",
    "my opinion, it's pretty stupid. Anyway, if we try to get a length of a\n",
    "list and then add it to `3.2`, we'll get an error because we tried to add\n",
    "together an `Int` and a floating point number. So to get around this, we\n",
    "do `fromIntegral (length [1,2,3,4]) + 3.2` and it all works out.\n",
    "\n",
    "Notice that `fromIntegral` has several class constraints in its type\n",
    "signature. That's completely valid and as you can see, the class\n",
    "constraints are separated by commas inside the parentheses."
   ]
  }
 ],
 "metadata": {
  "kernelspec": {
   "display_name": "Haskell",
   "language": "haskell",
   "name": "haskell"
  },
  "language_info": {
   "codemirror_mode": "ihaskell",
   "file_extension": ".hs",
   "name": "haskell",
   "pygments_lexer": "Haskell",
   "version": "8.6.5"
  }
 },
 "nbformat": 4,
 "nbformat_minor": 2
}
