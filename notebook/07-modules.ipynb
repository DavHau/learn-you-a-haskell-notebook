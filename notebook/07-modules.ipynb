{
 "cells": [
  {
   "cell_type": "markdown",
   "metadata": {},
   "source": [
    "Modules\n",
    "=======\n",
    "\n",
    "Loading modules\n",
    "---------------\n",
    "\n",
    "<img src=\"img/modules.png\" title=\"modules\" style=\"\" />\n",
    "\n",
    "A Haskell module is a collection of related functions, types and\n",
    "typeclasses. A Haskell program is a collection of modules where the main\n",
    "module loads up the other modules and then uses the functions defined in\n",
    "them to do something. Having code split up into several modules has\n",
    "quite a lot of advantages. If a module is generic enough, the functions\n",
    "it exports can be used in a multitude of different programs. If your own\n",
    "code is separated into self-contained modules which don't rely on each\n",
    "other too much (we also say they are loosely coupled), you can reuse\n",
    "them later on. It makes the whole deal of writing code more manageable\n",
    "by having it split into several parts, each of which has some sort of\n",
    "purpose.\n",
    "\n",
    "The Haskell standard library is split into modules, each of them\n",
    "contains functions and types that are somehow related and serve some\n",
    "common purpose. There's a module for manipulating lists, a module for\n",
    "concurrent programming, a module for dealing with complex numbers, etc.\n",
    "All the functions, types and typeclasses that we've dealt with so far\n",
    "were part of the `Prelude` module, which is imported by default. In this\n",
    "chapter, we're going to examine a few useful modules and the functions\n",
    "that they have. But first, we're going to see how to import modules.\n",
    "\n",
    "The syntax for importing modules in a Haskell script is\n",
    "`import <module name>`.\n",
    "This must be done before defining any functions, so imports are\n",
    "usually done at the top of the file. One script can, of course, import\n",
    "several modules. Just put each import statement into a separate line.\n",
    "Let's import the `Data.List` module, which has a bunch of useful functions\n",
    "for working with lists and use a function that it exports to create a\n",
    "function that tells us how many unique elements a list has."
   ]
  },
  {
   "cell_type": "code",
   "execution_count": null,
   "metadata": {
    "attributes": {
     "classes": [
      "haskell:hs"
     ],
     "id": "",
     "name": "\"code\""
    }
   },
   "outputs": [],
   "source": [
    "import Data.List\n",
    "\n",
    "numUniques :: (Eq a) => [a] -> Int\n",
    "numUniques = length . nub"
   ]
  },
  {
   "cell_type": "markdown",
   "metadata": {},
   "source": [
    "When you do `import Data.List`, all the functions that `Data.List` exports\n",
    "become available in the global namespace, meaning that you can call them\n",
    "from wherever in the script. `nub` is a function defined in `Data.List` that\n",
    "takes a list and weeds out duplicate elements. Composing `length` and `nub`\n",
    "by doing `length . nub` produces a function that's the equivalent of \n",
    "`\\xs -> length (nub xs)`.\n",
    "\n",
    "You can also put the functions of modules into the global namespace when\n",
    "using GHCI. If you're in GHCI and you want to be able to call the\n",
    "functions exported by `Data.List`, do this:"
   ]
  },
  {
   "cell_type": "code",
   "execution_count": null,
   "metadata": {
    "attributes": {
     "classes": [
      "haskell:ghci"
     ],
     "id": "",
     "name": "\"code\""
    }
   },
   "outputs": [],
   "source": [
    "ghci> :m + Data.List"
   ]
  },
  {
   "cell_type": "markdown",
   "metadata": {},
   "source": [
    "If we want to load up the names from several modules inside GHCI, we\n",
    "don't have to do `:m +` several times, we can just load up several modules\n",
    "at once."
   ]
  },
  {
   "cell_type": "code",
   "execution_count": null,
   "metadata": {
    "attributes": {
     "classes": [
      "haskell:ghci"
     ],
     "id": "",
     "name": "\"code\""
    }
   },
   "outputs": [],
   "source": [
    "ghci> :m + Data.List Data.Map Data.Set"
   ]
  },
  {
   "cell_type": "markdown",
   "metadata": {},
   "source": [
    "However, if you've loaded a script that already imports a module, you\n",
    "don't need to use :m + to get access to it.\n",
    "\n",
    "If you just need a couple of functions from a module, you can\n",
    "selectively import just those functions. If we wanted to import only the\n",
    "`nub` and `sort` functions from `Data.List`, we'd do this:"
   ]
  },
  {
   "cell_type": "code",
   "execution_count": null,
   "metadata": {
    "attributes": {
     "classes": [
      "haskell:hs"
     ],
     "id": "",
     "name": "\"code\""
    }
   },
   "outputs": [],
   "source": [
    "import Data.List (nub, sort)"
   ]
  },
  {
   "cell_type": "markdown",
   "metadata": {},
   "source": [
    "You can also choose to import all of the functions of a module except a\n",
    "few select ones. That's often useful when several modules export\n",
    "functions with the same name and you want to get rid of the offending\n",
    "ones. Say we already have our own function that's called `nub` and we want\n",
    "to import all the functions from `Data.List` except the `nub` function:"
   ]
  },
  {
   "cell_type": "code",
   "execution_count": null,
   "metadata": {
    "attributes": {
     "classes": [
      "haskell:hs"
     ],
     "id": "",
     "name": "\"code\""
    }
   },
   "outputs": [],
   "source": [
    "import Data.List hiding (nub)"
   ]
  },
  {
   "cell_type": "markdown",
   "metadata": {},
   "source": [
    "Another way of dealing with name clashes is to do qualified imports. The\n",
    "`Data.Map` module, which offers a data structure for looking up values by\n",
    "key, exports a bunch of functions with the same name as `Prelude`\n",
    "functions, like `filter` or `null`. So when we import `Data.Map` and then call\n",
    "`filter`, Haskell won't know which function to use. Here's how we solve\n",
    "this:"
   ]
  },
  {
   "cell_type": "code",
   "execution_count": null,
   "metadata": {
    "attributes": {
     "classes": [
      "haskell:hs"
     ],
     "id": "",
     "name": "\"code\""
    }
   },
   "outputs": [],
   "source": [
    "import qualified Data.Map"
   ]
  },
  {
   "cell_type": "markdown",
   "metadata": {},
   "source": [
    "This makes it so that if we want to reference `Data.Map`'s `filter`\n",
    "function, we have to do `Data.Map.filter`, whereas just `filter` still\n",
    "refers to the normal `filter` we all know and love. But typing out\n",
    "`Data.Map` in front of every function from that module is kind of tedious.\n",
    "That's why we can rename the qualified import to something shorter:"
   ]
  },
  {
   "cell_type": "code",
   "execution_count": null,
   "metadata": {
    "attributes": {
     "classes": [
      "haskell:hs"
     ],
     "id": "",
     "name": "\"code\""
    }
   },
   "outputs": [],
   "source": [
    "import qualified Data.Map as M"
   ]
  },
  {
   "cell_type": "markdown",
   "metadata": {},
   "source": [
    "Now, to reference `Data.Map`'s `filter` function, we just use `M.filter`.\n",
    "\n",
    "Use [this handy\n",
    "reference](http://www.haskell.org/ghc/docs/latest/html/libraries/) to\n",
    "see which modules are in the standard library. A great way to pick up\n",
    "new Haskell knowledge is to just click through the standard library\n",
    "reference and explore the modules and their functions. You can also view\n",
    "the Haskell source code for each module. Reading the source code of some\n",
    "modules is a really good way to learn Haskell and get a solid feel for\n",
    "it.\n",
    "\n",
    "To search for functions or to find out where they're located, use\n",
    "[Hoogle](http://haskell.org/hoogle). It's a really awesome Haskell\n",
    "search engine, you can search by name, module name or even type\n",
    "signature.\n",
    "\n",
    "<a name=\"data-list\"></a>\n",
    "\n",
    "Data.List\n",
    "---------\n",
    "\n",
    "The `Data.List` module is all about lists, obviously. It provides some\n",
    "very useful functions for dealing with them. We've already met some of\n",
    "its functions (like `map` and `filter`) because the `Prelude` module exports\n",
    "some functions from `Data.List` for convenience. You don't have to import\n",
    "`Data.List` via a qualified import because it doesn't clash with any\n",
    "`Prelude` names except for those that `Prelude` already steals from\n",
    "`Data.List`. Let's take a look at some of the functions that we haven't\n",
    "met before.\n",
    "\n",
    "`intersperse` takes an element and a list and then puts that element in\n",
    "between each pair of elements in the list. Here's a demonstration:"
   ]
  },
  {
   "cell_type": "code",
   "execution_count": null,
   "metadata": {
    "attributes": {
     "classes": [
      "haskell:ghci"
     ],
     "id": "",
     "name": "\"code\""
    }
   },
   "outputs": [],
   "source": [
    "ghci> intersperse '.' \"MONKEY\"\n",
    "\"M.O.N.K.E.Y\"\n",
    "ghci> intersperse 0 [1,2,3,4,5,6]\n",
    "[1,0,2,0,3,0,4,0,5,0,6]"
   ]
  },
  {
   "cell_type": "markdown",
   "metadata": {},
   "source": [
    "`intercalate` takes a list of lists and a list. It then inserts that list\n",
    "in between all those lists and then flattens the result."
   ]
  },
  {
   "cell_type": "code",
   "execution_count": null,
   "metadata": {
    "attributes": {
     "classes": [
      "haskell:ghci"
     ],
     "id": "",
     "name": "\"code\""
    }
   },
   "outputs": [],
   "source": [
    "ghci> intercalate \" \" [\"hey\",\"there\",\"guys\"]\n",
    "\"hey there guys\"\n",
    "ghci> intercalate [0,0,0] [[1,2,3],[4,5,6],[7,8,9]]\n",
    "[1,2,3,0,0,0,4,5,6,0,0,0,7,8,9]"
   ]
  },
  {
   "cell_type": "markdown",
   "metadata": {},
   "source": [
    "`transpose` transposes a list of lists. If you look at a list of lists as\n",
    "a 2D matrix, the columns become the rows and vice versa."
   ]
  },
  {
   "cell_type": "code",
   "execution_count": null,
   "metadata": {
    "attributes": {
     "classes": [
      "haskell:ghci"
     ],
     "id": "",
     "name": "\"code\""
    }
   },
   "outputs": [],
   "source": [
    "ghci> transpose [[1,2,3],[4,5,6],[7,8,9]]\n",
    "[[1,4,7],[2,5,8],[3,6,9]]\n",
    "ghci> transpose [\"hey\",\"there\",\"guys\"]\n",
    "[\"htg\",\"ehu\",\"yey\",\"rs\",\"e\"]"
   ]
  },
  {
   "cell_type": "markdown",
   "metadata": {},
   "source": [
    "Say we have the polynomials *3x^2^ + 5x + 9*, *10x^3^ + 9* and *8x^3^ +\n",
    "5x^2^ + x - 1* and we want to add them together. We can use the lists\n",
    "`[0,3,5,9]`, `[10,0,0,9]` and `[8,5,1,-1]` to represent them in Haskell. Now,\n",
    "to add them, all we have to do is this:"
   ]
  },
  {
   "cell_type": "code",
   "execution_count": null,
   "metadata": {
    "attributes": {
     "classes": [
      "haskell:ghci"
     ],
     "id": "",
     "name": "\"code\""
    }
   },
   "outputs": [],
   "source": [
    "ghci> map sum $ transpose [[0,3,5,9],[10,0,0,9],[8,5,1,-1]]\n",
    "[18,8,6,17]"
   ]
  },
  {
   "cell_type": "markdown",
   "metadata": {},
   "source": [
    "When we transpose these three lists, the third powers are then in the\n",
    "first row, the second powers in the second one and so on. Mapping `sum` to\n",
    "that produces our desired result.\n",
    "\n",
    "![shopping lists](img/legolists.png)\n",
    "\n",
    "`foldl'` and `foldl1'` are stricter versions of their respective lazy\n",
    "incarnations. When using lazy folds on really big lists, you might often\n",
    "get a stack overflow error. The culprit for that is that due to the lazy\n",
    "nature of the folds, the accumulator value isn't actually updated as the\n",
    "folding happens. What actually happens is that the accumulator kind of\n",
    "makes a promise that it will compute its value when asked to actually\n",
    "produce the result (also called a thunk). That happens for every\n",
    "intermediate accumulator and all those thunks overflow your stack. The\n",
    "strict folds aren't lazy buggers and actually compute the intermediate\n",
    "values as they go along instead of filling up your stack with thunks. So\n",
    "if you ever get stack overflow errors when doing lazy folds, try\n",
    "switching to their strict versions.\n",
    "\n",
    "`concat` flattens a list of lists into just a list of elements."
   ]
  },
  {
   "cell_type": "code",
   "execution_count": null,
   "metadata": {
    "attributes": {
     "classes": [
      "haskell:ghci"
     ],
     "id": "",
     "name": "\"code\""
    }
   },
   "outputs": [],
   "source": [
    "ghci> concat [\"foo\",\"bar\",\"car\"]\n",
    "\"foobarcar\"\n",
    "ghci> concat [[3,4,5],[2,3,4],[2,1,1]]\n",
    "[3,4,5,2,3,4,2,1,1]"
   ]
  },
  {
   "cell_type": "markdown",
   "metadata": {},
   "source": [
    "It will just remove one level of nesting. So if you want to completely\n",
    "flatten `[[[2,3],[3,4,5],[2]],[[2,3],[3,4]]]`, which is a list of lists of\n",
    "lists, you have to concatenate it twice.\n",
    "\n",
    "Doing `concatMap` is the same as first mapping a function to a list and\n",
    "then concatenating the list with `concat`."
   ]
  },
  {
   "cell_type": "code",
   "execution_count": null,
   "metadata": {
    "attributes": {
     "classes": [
      "haskell:ghci"
     ],
     "id": "",
     "name": "\"code\""
    }
   },
   "outputs": [],
   "source": [
    "ghci> concatMap (replicate 4) [1..3]\n",
    "[1,1,1,1,2,2,2,2,3,3,3,3]"
   ]
  },
  {
   "cell_type": "markdown",
   "metadata": {},
   "source": [
    "`and` takes a list of boolean values and returns `True` only if all the\n",
    "values in the list are `True`."
   ]
  },
  {
   "cell_type": "code",
   "execution_count": null,
   "metadata": {
    "attributes": {
     "classes": [
      "haskell:ghci"
     ],
     "id": "",
     "name": "\"code\""
    }
   },
   "outputs": [],
   "source": [
    "ghci> and $ map (>4) [5,6,7,8]\n",
    "True\n",
    "ghci> and $ map (==4) [4,4,4,3,4]\n",
    "False"
   ]
  },
  {
   "cell_type": "markdown",
   "metadata": {},
   "source": [
    "`or` is like `and`, only it returns `True` if any of the boolean values in a\n",
    "list is `True`."
   ]
  },
  {
   "cell_type": "code",
   "execution_count": null,
   "metadata": {
    "attributes": {
     "classes": [
      "haskell:ghci"
     ],
     "id": "",
     "name": "\"code\""
    }
   },
   "outputs": [],
   "source": [
    "ghci> or $ map (==4) [2,3,4,5,6,1]\n",
    "True\n",
    "ghci> or $ map (>4) [1,2,3]\n",
    "False"
   ]
  },
  {
   "cell_type": "markdown",
   "metadata": {},
   "source": [
    "`any` and `all` take a predicate and then check if any or all the elements\n",
    "in a list satisfy the predicate, respectively. Usually we use these two\n",
    "functions instead of mapping over a list and then doing `and` or `or`."
   ]
  },
  {
   "cell_type": "code",
   "execution_count": null,
   "metadata": {
    "attributes": {
     "classes": [
      "haskell:ghci"
     ],
     "id": "",
     "name": "\"code\""
    }
   },
   "outputs": [],
   "source": [
    "ghci> any (==4) [2,3,5,6,1,4]\n",
    "True\n",
    "ghci> all (>4) [6,9,10]\n",
    "True\n",
    "ghci> all (`elem` ['A'..'Z']) \"HEYGUYSwhatsup\"\n",
    "False\n",
    "ghci> any (`elem` ['A'..'Z']) \"HEYGUYSwhatsup\"\n",
    "True"
   ]
  },
  {
   "cell_type": "markdown",
   "metadata": {},
   "source": [
    "`iterate` takes a function and a starting value. It applies the function\n",
    "to the starting value, then it applies that function to the result, then\n",
    "it applies the function to that result again, etc. It returns all the\n",
    "results in the form of an infinite list."
   ]
  },
  {
   "cell_type": "code",
   "execution_count": null,
   "metadata": {
    "attributes": {
     "classes": [
      "haskell:ghci"
     ],
     "id": "",
     "name": "\"code\""
    }
   },
   "outputs": [],
   "source": [
    "ghci> take 10 $ iterate (*2) 1\n",
    "[1,2,4,8,16,32,64,128,256,512]\n",
    "ghci> take 3 $ iterate (++ \"haha\") \"haha\"\n",
    "[\"haha\",\"hahahaha\",\"hahahahahaha\"]"
   ]
  },
  {
   "cell_type": "markdown",
   "metadata": {},
   "source": [
    "`splitAt` takes a number and a list. It then splits the list at that many\n",
    "elements, returning the resulting two lists in a tuple."
   ]
  },
  {
   "cell_type": "code",
   "execution_count": null,
   "metadata": {
    "attributes": {
     "classes": [
      "haskell:ghci"
     ],
     "id": "",
     "name": "\"code\""
    }
   },
   "outputs": [],
   "source": [
    "ghci> splitAt 3 \"heyman\"\n",
    "(\"hey\",\"man\")\n",
    "ghci> splitAt 100 \"heyman\"\n",
    "(\"heyman\",\"\")\n",
    "ghci> splitAt (-3) \"heyman\"\n",
    "(\"\",\"heyman\")\n",
    "ghci> let (a,b) = splitAt 3 \"foobar\" in b ++ a\n",
    "\"barfoo\""
   ]
  },
  {
   "cell_type": "markdown",
   "metadata": {},
   "source": [
    "`takeWhile` is a really useful little function. It takes elements from a\n",
    "list while the predicate holds and then when an element is encountered\n",
    "that doesn't satisfy the predicate, it's cut off. It turns out this is\n",
    "very useful."
   ]
  },
  {
   "cell_type": "code",
   "execution_count": null,
   "metadata": {
    "attributes": {
     "classes": [
      "haskell:ghci"
     ],
     "id": "",
     "name": "\"code\""
    }
   },
   "outputs": [],
   "source": [
    "ghci> takeWhile (>3) [6,5,4,3,2,1,2,3,4,5,4,3,2,1]\n",
    "[6,5,4]\n",
    "ghci> takeWhile (/=' ') \"This is a sentence\"\n",
    "\"This\""
   ]
  },
  {
   "cell_type": "markdown",
   "metadata": {},
   "source": [
    "Say we wanted to know the sum of all third powers that are under 10,000.\n",
    "We can't map `(^3)` to `[1..]`, apply a filter and then try to sum that up\n",
    "because filtering an infinite list never finishes. You may know that all\n",
    "the elements here are ascending but Haskell doesn't. That's why we can\n",
    "do this:"
   ]
  },
  {
   "cell_type": "code",
   "execution_count": null,
   "metadata": {
    "attributes": {
     "classes": [
      "haskell:ghci"
     ],
     "id": "",
     "name": "\"code\""
    }
   },
   "outputs": [],
   "source": [
    "ghci> sum $ takeWhile (<10000) $ map (^3) [1..]\n",
    "53361"
   ]
  },
  {
   "cell_type": "markdown",
   "metadata": {},
   "source": [
    "We apply `(^3)` to an infinite list and then once an element that's over\n",
    "10,000 is encountered, the list is cut off. Now we can sum it up easily.\n",
    "\n",
    "`dropWhile` is similar, only it drops all the elements while the predicate\n",
    "is true. Once predicate equates to `False`, it returns the rest of the\n",
    "list. An extremely useful and lovely function!"
   ]
  },
  {
   "cell_type": "code",
   "execution_count": null,
   "metadata": {
    "attributes": {
     "classes": [
      "haskell:ghci"
     ],
     "id": "",
     "name": "\"code\""
    }
   },
   "outputs": [],
   "source": [
    "ghci> dropWhile (/=' ') \"This is a sentence\"\n",
    "\" is a sentence\"\n",
    "ghci> dropWhile (<3) [1,2,2,2,3,4,5,4,3,2,1]\n",
    "[3,4,5,4,3,2,1]"
   ]
  },
  {
   "cell_type": "markdown",
   "metadata": {},
   "source": [
    "We're given a list that represents the value of a stock by date. The\n",
    "list is made of tuples whose first component is the stock value, the\n",
    "second is the year, the third is the month and the fourth is the date.\n",
    "We want to know when the stock value first exceeded one thousand\n",
    "dollars!"
   ]
  },
  {
   "cell_type": "code",
   "execution_count": null,
   "metadata": {
    "attributes": {
     "classes": [
      "haskell:ghci"
     ],
     "id": "",
     "name": "\"code\""
    }
   },
   "outputs": [],
   "source": [
    "ghci> let stock = [(994.4,2008,9,1),(995.2,2008,9,2),(999.2,2008,9,3),(1001.4,2008,9,4),(998.3,2008,9,5)]\n",
    "ghci> head (dropWhile (\\(val,y,m,d) -> val < 1000) stock)\n",
    "(1001.4,2008,9,4)"
   ]
  },
  {
   "cell_type": "markdown",
   "metadata": {},
   "source": [
    "`span` is kind of like `takeWhile`, only it returns a pair of lists. The\n",
    "first list contains everything the resulting list from `takeWhile` would\n",
    "contain if it were called with the same predicate and the same list. The\n",
    "second list contains the part of the list that would have been dropped."
   ]
  },
  {
   "cell_type": "code",
   "execution_count": null,
   "metadata": {
    "attributes": {
     "classes": [
      "haskell:ghci"
     ],
     "id": "",
     "name": "\"code\""
    }
   },
   "outputs": [],
   "source": [
    "ghci> let (fw, rest) = span (/=' ') \"This is a sentence\" in \"First word:\" ++ fw ++ \", the rest:\" ++ rest\n",
    "\"First word: This, the rest: is a sentence\""
   ]
  },
  {
   "cell_type": "markdown",
   "metadata": {},
   "source": [
    "Whereas `span` spans the list while the predicate is true, `break` breaks it\n",
    "when the predicate is first true. Doing `break p` is the equivalent of\n",
    "doing `span (not . p)`."
   ]
  },
  {
   "cell_type": "code",
   "execution_count": null,
   "metadata": {
    "attributes": {
     "classes": [
      "haskell:ghci"
     ],
     "id": "",
     "name": "\"code\""
    }
   },
   "outputs": [],
   "source": [
    "ghci> break (==4) [1,2,3,4,5,6,7]\n",
    "([1,2,3],[4,5,6,7])\n",
    "ghci> span (/=4) [1,2,3,4,5,6,7]\n",
    "([1,2,3],[4,5,6,7])"
   ]
  },
  {
   "cell_type": "markdown",
   "metadata": {},
   "source": [
    "When using `break`, the second list in the result will start with the\n",
    "first element that satisfies the predicate.\n",
    "\n",
    "`sort` simply sorts a list. The type of the elements in the list has to be\n",
    "part of the `Ord` typeclass, because if the elements of a list can't be\n",
    "put in some kind of order, then the list can't be sorted."
   ]
  },
  {
   "cell_type": "code",
   "execution_count": null,
   "metadata": {
    "attributes": {
     "classes": [
      "haskell:ghci"
     ],
     "id": "",
     "name": "\"code\""
    }
   },
   "outputs": [],
   "source": [
    "ghci> sort [8,5,3,2,1,6,4,2]\n",
    "[1,2,2,3,4,5,6,8]\n",
    "ghci> sort \"This will be sorted soon\"\n",
    "\"    Tbdeehiillnooorssstw\""
   ]
  },
  {
   "cell_type": "markdown",
   "metadata": {},
   "source": [
    "`group` takes a list and groups adjacent elements into sublists if they\n",
    "are equal."
   ]
  },
  {
   "cell_type": "code",
   "execution_count": null,
   "metadata": {
    "attributes": {
     "classes": [
      "haskell:ghci"
     ],
     "id": "",
     "name": "\"code\""
    }
   },
   "outputs": [],
   "source": [
    "ghci> group [1,1,1,1,2,2,2,2,3,3,2,2,2,5,6,7]\n",
    "[[1,1,1,1],[2,2,2,2],[3,3],[2,2,2],[5],[6],[7]]"
   ]
  },
  {
   "cell_type": "markdown",
   "metadata": {},
   "source": [
    "If we sort a list before grouping it, we can find out how many times\n",
    "each element appears in the list."
   ]
  },
  {
   "cell_type": "code",
   "execution_count": null,
   "metadata": {
    "attributes": {
     "classes": [
      "haskell:ghci"
     ],
     "id": "",
     "name": "\"code\""
    }
   },
   "outputs": [],
   "source": [
    "ghci> map (\\l@(x:xs) -> (x,length l)) . group . sort $ [1,1,1,1,2,2,2,2,3,3,2,2,2,5,6,7]\n",
    "[(1,4),(2,7),(3,2),(5,1),(6,1),(7,1)]"
   ]
  },
  {
   "cell_type": "markdown",
   "metadata": {},
   "source": [
    "`inits` and `tails` are like `init` and `tail`, only they recursively apply that\n",
    "to a list until there's nothing left. Observe."
   ]
  },
  {
   "cell_type": "code",
   "execution_count": null,
   "metadata": {
    "attributes": {
     "classes": [
      "haskell:ghci"
     ],
     "id": "",
     "name": "\"code\""
    }
   },
   "outputs": [],
   "source": [
    "ghci> inits \"w00t\"\n",
    "[\"\",\"w\",\"w0\",\"w00\",\"w00t\"]\n",
    "ghci> tails \"w00t\"\n",
    "[\"w00t\",\"00t\",\"0t\",\"t\",\"\"]\n",
    "ghci> let w = \"w00t\" in zip (inits w) (tails w)\n",
    "[(\"\",\"w00t\"),(\"w\",\"00t\"),(\"w0\",\"0t\"),(\"w00\",\"t\"),(\"w00t\",\"\")]"
   ]
  },
  {
   "cell_type": "markdown",
   "metadata": {},
   "source": [
    "Let's use a fold to implement searching a list for a sublist."
   ]
  },
  {
   "cell_type": "code",
   "execution_count": null,
   "metadata": {
    "attributes": {
     "classes": [
      "haskell:hs"
     ],
     "id": "",
     "name": "\"code\""
    }
   },
   "outputs": [],
   "source": [
    "search :: (Eq a) => [a] -> [a] -> Bool\n",
    "search needle haystack =\n",
    "    let nlen = length needle\n",
    "    in  foldl (\\acc x -> if take nlen x == needle then True else acc) False (tails haystack)"
   ]
  },
  {
   "cell_type": "markdown",
   "metadata": {},
   "source": [
    "First we call `tails` with the list in which we're searching. Then we go\n",
    "over each tail and see if it starts with what we're looking for.\n",
    "\n",
    "With that, we actually just made a function that behaves like `isInfixOf`.\n",
    "`isInfixOf` searches for a sublist within a list and returns `True` if the\n",
    "sublist we're looking for is somewhere inside the target list."
   ]
  },
  {
   "cell_type": "code",
   "execution_count": null,
   "metadata": {
    "attributes": {
     "classes": [
      "haskell:ghci"
     ],
     "id": "",
     "name": "\"code\""
    }
   },
   "outputs": [],
   "source": [
    "ghci> \"cat\" `isInfixOf` \"im a cat burglar\"\n",
    "True\n",
    "ghci> \"Cat\" `isInfixOf` \"im a cat burglar\"\n",
    "False\n",
    "ghci> \"cats\" `isInfixOf` \"im a cat burglar\"\n",
    "False"
   ]
  },
  {
   "cell_type": "markdown",
   "metadata": {},
   "source": [
    "`isPrefixOf` and `isSuffixOf` search for a sublist at the beginning and at\n",
    "the end of a list, respectively."
   ]
  },
  {
   "cell_type": "code",
   "execution_count": null,
   "metadata": {
    "attributes": {
     "classes": [
      "haskell:ghci"
     ],
     "id": "",
     "name": "\"code\""
    }
   },
   "outputs": [],
   "source": [
    "ghci> \"hey\" `isPrefixOf` \"hey there!\"\n",
    "True\n",
    "ghci> \"hey\" `isPrefixOf` \"oh hey there!\"\n",
    "False\n",
    "ghci> \"there!\" `isSuffixOf` \"oh hey there!\"\n",
    "True\n",
    "ghci> \"there!\" `isSuffixOf` \"oh hey there\"\n",
    "False"
   ]
  },
  {
   "cell_type": "markdown",
   "metadata": {},
   "source": [
    "`elem` and `notElem` check if an element is or isn't inside a list.\n",
    "\n",
    "`partition` takes a list and a predicate and returns a pair of lists. The\n",
    "first list in the result contains all the elements that satisfy the\n",
    "predicate, the second contains all the ones that don't."
   ]
  },
  {
   "cell_type": "code",
   "execution_count": null,
   "metadata": {
    "attributes": {
     "classes": [
      "haskell:ghci"
     ],
     "id": "",
     "name": "\"code\""
    }
   },
   "outputs": [],
   "source": [
    "ghci> partition (`elem` ['A'..'Z']) \"BOBsidneyMORGANeddy\"\n",
    "(\"BOBMORGAN\",\"sidneyeddy\")\n",
    "ghci> partition (>3) [1,3,5,6,3,2,1,0,3,7]\n",
    "([5,6,7],[1,3,3,2,1,0,3])"
   ]
  },
  {
   "cell_type": "markdown",
   "metadata": {},
   "source": [
    "It's important to understand how this is different from `span` and `break`:"
   ]
  },
  {
   "cell_type": "code",
   "execution_count": null,
   "metadata": {
    "attributes": {
     "classes": [
      "haskell:ghci"
     ],
     "id": "",
     "name": "\"code\""
    }
   },
   "outputs": [],
   "source": [
    "ghci> span (`elem` ['A'..'Z']) \"BOBsidneyMORGANeddy\"\n",
    "(\"BOB\",\"sidneyMORGANeddy\")"
   ]
  },
  {
   "cell_type": "markdown",
   "metadata": {},
   "source": [
    "While `span` and `break` are done once they encounter the first element that\n",
    "doesn't and does satisfy the predicate, `partition` goes through the whole\n",
    "list and splits it up according to the predicate.\n",
    "\n",
    "`find` takes a list and a predicate and returns the first element that\n",
    "satisfies the predicate. But it returns that element wrapped in a `Maybe`\n",
    "value. We'll be covering algebraic data types more in depth in the next\n",
    "chapter but for now, this is what you need to know: a `Maybe` value can\n",
    "either be `Just something` or `Nothing`. Much like a list can be either an\n",
    "empty list or a list with some elements, a `Maybe` value can be either no\n",
    "elements or a single element. And like the type of a list of, say,\n",
    "integers is `[Int]`, the type of maybe having an integer is `Maybe Int`.\n",
    "Anyway, let's take our `find` function for a spin."
   ]
  },
  {
   "cell_type": "code",
   "execution_count": null,
   "metadata": {
    "attributes": {
     "classes": [
      "haskell:ghci"
     ],
     "id": "",
     "name": "\"code\""
    }
   },
   "outputs": [],
   "source": [
    "ghci> find (>4) [1,2,3,4,5,6]\n",
    "Just 5\n",
    "ghci> find (>9) [1,2,3,4,5,6]\n",
    "Nothing\n",
    "ghci> :t find\n",
    "find :: (a -> Bool) -> [a] -> Maybe a"
   ]
  },
  {
   "cell_type": "markdown",
   "metadata": {},
   "source": [
    "Notice the type of `find`. Its result is `Maybe a`. That's kind of like\n",
    "having the type of `[a]`, only a value of the type `Maybe` can contain\n",
    "either no elements or one element, whereas a list can contain no\n",
    "elements, one element or several elements.\n",
    "\n",
    "Remember when we were searching for the first time our stock went over\n",
    "\\$1000. We did `head (dropWhile (\\(val,y,m,d) -> val < 1000) stock)`.\n",
    "Remember that `head` is not really safe. What would happen if our stock\n",
    "never went over \\$1000? Our application of `dropWhile` would return an\n",
    "empty list and getting the head of an empty list would result in an\n",
    "error. However, if we rewrote that as\n",
    "`find (\\(val,y,m,d) -> val > 1000)`\n",
    "stock, we'd be much safer. If our stock never went over \\$1000 (so\n",
    "if no element satisfied the predicate), we'd get back a `Nothing`. But\n",
    "there was a valid answer in that list, we'd get, say,\n",
    "`Just (1001.4,2008,9,4)`.\n",
    "\n",
    "`elemIndex` is kind of like `elem`, only it doesn't return a boolean value.\n",
    "It maybe returns the index of the element we're looking for. If that\n",
    "element isn't in our list, it returns a `Nothing`."
   ]
  },
  {
   "cell_type": "code",
   "execution_count": null,
   "metadata": {
    "attributes": {
     "classes": [
      "haskell:ghci"
     ],
     "id": "",
     "name": "\"code\""
    }
   },
   "outputs": [],
   "source": [
    "ghci> :t elemIndex\n",
    "elemIndex :: (Eq a) => a -> [a] -> Maybe Int\n",
    "ghci> 4 `elemIndex` [1,2,3,4,5,6]\n",
    "Just 3\n",
    "ghci> 10 `elemIndex` [1,2,3,4,5,6]\n",
    "Nothing"
   ]
  },
  {
   "cell_type": "markdown",
   "metadata": {},
   "source": [
    "`elemIndices` is like `elemIndex`, only it returns a list of indices, in\n",
    "case the element we're looking for crops up in our list several times.\n",
    "Because we're using a list to represent the indices, we don't need a\n",
    "`Maybe` type, because failure can be represented as the empty list, which\n",
    "is very much synonymous to `Nothing`."
   ]
  },
  {
   "cell_type": "code",
   "execution_count": null,
   "metadata": {
    "attributes": {
     "classes": [
      "haskell:ghci"
     ],
     "id": "",
     "name": "\"code\""
    }
   },
   "outputs": [],
   "source": [
    "ghci> ' ' `elemIndices` \"Where are the spaces?\"\n",
    "[5,9,13]"
   ]
  },
  {
   "cell_type": "markdown",
   "metadata": {},
   "source": [
    "`findIndex` is like find, but it maybe returns the index of the first\n",
    "element that satisfies the predicate. `findIndices` returns the indices of\n",
    "all elements that satisfy the predicate in the form of a list."
   ]
  },
  {
   "cell_type": "code",
   "execution_count": null,
   "metadata": {
    "attributes": {
     "classes": [
      "haskell:ghci"
     ],
     "id": "",
     "name": "\"code\""
    }
   },
   "outputs": [],
   "source": [
    "ghci> findIndex (==4) [5,3,2,1,6,4]\n",
    "Just 5\n",
    "ghci> findIndex (==7) [5,3,2,1,6,4]\n",
    "Nothing\n",
    "ghci> findIndices (`elem` ['A'..'Z']) \"Where Are The Caps?\"\n",
    "[0,6,10,14]"
   ]
  },
  {
   "cell_type": "markdown",
   "metadata": {},
   "source": [
    "We already covered `zip` and `zipWith`. We noted that they zip together two\n",
    "lists, either in a tuple or with a binary function (meaning such a\n",
    "function that takes two parameters). But what if we want to zip together\n",
    "three lists? Or zip three lists with a function that takes three\n",
    "parameters? Well, for that, we have `zip3`, `zip4`, etc. and `zipWith3`,\n",
    "`zipWith4`, etc. These variants go up to 7. While this may look like a\n",
    "hack, it works out pretty fine, because there aren't many times when you\n",
    "want to zip 8 lists together. There's also a very clever way for zipping\n",
    "infinite numbers of lists, but we're not advanced enough to cover that\n",
    "just yet."
   ]
  },
  {
   "cell_type": "code",
   "execution_count": null,
   "metadata": {
    "attributes": {
     "classes": [
      "haskell:ghci"
     ],
     "id": "",
     "name": "\"code\""
    }
   },
   "outputs": [],
   "source": [
    "ghci> zipWith3 (\\x y z -> x + y + z) [1,2,3] [4,5,2,2] [2,2,3]\n",
    "[7,9,8]\n",
    "ghci> zip4 [2,3,3] [2,2,2] [5,5,3] [2,2,2]\n",
    "[(2,2,5,2),(3,2,5,2),(3,2,3,2)]"
   ]
  },
  {
   "cell_type": "markdown",
   "metadata": {},
   "source": [
    "Just like with normal zipping, lists that are longer than the shortest\n",
    "list that's being zipped are cut down to size.\n",
    "\n",
    "`lines` is a useful function when dealing with files or input from\n",
    "somewhere. It takes a string and returns every line of that string in a\n",
    "separate list."
   ]
  },
  {
   "cell_type": "code",
   "execution_count": null,
   "metadata": {
    "attributes": {
     "classes": [
      "haskell:ghci"
     ],
     "id": "",
     "name": "\"code\""
    }
   },
   "outputs": [],
   "source": [
    "ghci> lines \"first line\\nsecond line\\nthird line\"\n",
    "[\"first line\",\"second line\",\"third line\"]"
   ]
  },
  {
   "cell_type": "markdown",
   "metadata": {},
   "source": [
    "`'\\n'` is the character for a unix newline. Backslashes have special\n",
    "meaning in Haskell strings and characters.\n",
    "\n",
    "`unlines` is the inverse function of `lines`. It takes a list of strings and\n",
    "joins them together using a `'\\n'`."
   ]
  },
  {
   "cell_type": "code",
   "execution_count": null,
   "metadata": {
    "attributes": {
     "classes": [
      "haskell:ghci"
     ],
     "id": "",
     "name": "\"code\""
    }
   },
   "outputs": [],
   "source": [
    "ghci> unlines [\"first line\", \"second line\", \"third line\"]\n",
    "\"first line\\nsecond line\\nthird line\\n\""
   ]
  },
  {
   "cell_type": "markdown",
   "metadata": {},
   "source": [
    "`words` and `unwords` are for splitting a line of text into words or joining\n",
    "a list of words into a text. Very useful."
   ]
  },
  {
   "cell_type": "code",
   "execution_count": null,
   "metadata": {
    "attributes": {
     "classes": [
      "haskell:ghci"
     ],
     "id": "",
     "name": "\"code\""
    }
   },
   "outputs": [],
   "source": [
    "ghci> words \"hey these are the words in this sentence\"\n",
    "[\"hey\",\"these\",\"are\",\"the\",\"words\",\"in\",\"this\",\"sentence\"]\n",
    "ghci> words \"hey these           are    the words in this\\nsentence\"\n",
    "[\"hey\",\"these\",\"are\",\"the\",\"words\",\"in\",\"this\",\"sentence\"]\n",
    "ghci> unwords [\"hey\",\"there\",\"mate\"]\n",
    "\"hey there mate\""
   ]
  },
  {
   "cell_type": "markdown",
   "metadata": {},
   "source": [
    "We've already mentioned `nub`. It takes a list and weeds out the duplicate\n",
    "elements, returning a list whose every element is a unique snowflake!\n",
    "The function does have a kind of strange name. It turns out that \"nub\"\n",
    "means a small lump or essential part of something. In my opinion, they\n",
    "should use real words for function names instead of old-people words."
   ]
  },
  {
   "cell_type": "code",
   "execution_count": null,
   "metadata": {
    "attributes": {
     "classes": [
      "haskell:ghci"
     ],
     "id": "",
     "name": "\"code\""
    }
   },
   "outputs": [],
   "source": [
    "ghci> nub [1,2,3,4,3,2,1,2,3,4,3,2,1]\n",
    "[1,2,3,4]\n",
    "ghci> nub \"Lots of words and stuff\"\n",
    "\"Lots fwrdanu\""
   ]
  },
  {
   "cell_type": "markdown",
   "metadata": {},
   "source": [
    "`delete` takes an element and a list and deletes the first occurrence of\n",
    "that element in the list."
   ]
  },
  {
   "cell_type": "code",
   "execution_count": null,
   "metadata": {
    "attributes": {
     "classes": [
      "haskell:ghci"
     ],
     "id": "",
     "name": "\"code\""
    }
   },
   "outputs": [],
   "source": [
    "ghci> delete 'h' \"hey there ghang!\"\n",
    "\"ey there ghang!\"\n",
    "ghci> delete 'h' . delete 'h' $ \"hey there ghang!\"\n",
    "\"ey tere ghang!\"\n",
    "ghci> delete 'h' . delete 'h' . delete 'h' $ \"hey there ghang!\"\n",
    "\"ey tere gang!\""
   ]
  },
  {
   "cell_type": "markdown",
   "metadata": {},
   "source": [
    "`\\\\` is the list difference function. It acts like a set difference,\n",
    "basically. For every element in the right-hand list, it removes a\n",
    "matching element in the left one."
   ]
  },
  {
   "cell_type": "code",
   "execution_count": null,
   "metadata": {
    "attributes": {
     "classes": [
      "haskell:ghci"
     ],
     "id": "",
     "name": "\"code\""
    }
   },
   "outputs": [],
   "source": [
    "ghci> [1..10] \\\\ [2,5,9]\n",
    "[1,3,4,6,7,8,10]\n",
    "ghci> \"Im a big baby\" \\\\ \"big\"\n",
    "\"Im a  baby\""
   ]
  },
  {
   "cell_type": "markdown",
   "metadata": {},
   "source": [
    "Doing `[1..10] \\\\ [2,5,9]` is like doing\n",
    "`delete 2 . delete 5 . delete 9 $ [1..10]`.\n",
    "\n",
    "`union` also acts like a function on sets. It returns the union of two\n",
    "lists. It pretty much goes over every element in the second list and\n",
    "appends it to the first one if it isn't already in yet. Watch out\n",
    "though, duplicates are removed from the second list!"
   ]
  },
  {
   "cell_type": "code",
   "execution_count": null,
   "metadata": {
    "attributes": {
     "classes": [
      "haskell:ghci"
     ],
     "id": "",
     "name": "\"code\""
    }
   },
   "outputs": [],
   "source": [
    "ghci> \"hey man\" `union` \"man what's up\"\n",
    "\"hey manwt'sup\"\n",
    "ghci> [1..7] `union` [5..10]\n",
    "[1,2,3,4,5,6,7,8,9,10]"
   ]
  },
  {
   "cell_type": "markdown",
   "metadata": {},
   "source": [
    "`intersect` works like set intersection. It returns only the elements that\n",
    "are found in both lists."
   ]
  },
  {
   "cell_type": "code",
   "execution_count": null,
   "metadata": {
    "attributes": {
     "classes": [
      "haskell:ghci"
     ],
     "id": "",
     "name": "\"code\""
    }
   },
   "outputs": [],
   "source": [
    "ghci> [1..7] `intersect` [5..10]\n",
    "[5,6,7]"
   ]
  },
  {
   "cell_type": "markdown",
   "metadata": {},
   "source": [
    "`insert` takes an element and a list of elements that can be sorted and\n",
    "inserts it into the last position where it's still less than or equal to\n",
    "the next element. In other words, `insert` will start at the beginning of\n",
    "the list and then keep going until it finds an element that's equal to\n",
    "or greater than the element that we're inserting and it will insert it\n",
    "just before the element."
   ]
  },
  {
   "cell_type": "code",
   "execution_count": null,
   "metadata": {
    "attributes": {
     "classes": [
      "haskell:ghci"
     ],
     "id": "",
     "name": "\"code\""
    }
   },
   "outputs": [],
   "source": [
    "ghci> insert 4 [3,5,1,2,8,2]\n",
    "[3,4,5,1,2,8,2]\n",
    "ghci> insert 4 [1,3,4,4,1]\n",
    "[1,3,4,4,4,1]"
   ]
  },
  {
   "cell_type": "markdown",
   "metadata": {},
   "source": [
    "The `4` is inserted right after the `3` and before the `5` in the first\n",
    "example and in between the `3` and `4` in the second example.\n",
    "\n",
    "If we use `insert` to insert into a sorted list, the resulting list will\n",
    "be kept sorted."
   ]
  },
  {
   "cell_type": "code",
   "execution_count": null,
   "metadata": {
    "attributes": {
     "classes": [
      "haskell:ghci"
     ],
     "id": "",
     "name": "\"code\""
    }
   },
   "outputs": [],
   "source": [
    "ghci> insert 4 [1,2,3,5,6,7]\n",
    "[1,2,3,4,5,6,7]\n",
    "ghci> insert 'g' $ ['a'..'f'] ++ ['h'..'z']\n",
    "\"abcdefghijklmnopqrstuvwxyz\"\n",
    "ghci> insert 3 [1,2,4,3,2,1]\n",
    "[1,2,3,4,3,2,1]"
   ]
  },
  {
   "cell_type": "markdown",
   "metadata": {},
   "source": [
    "What `length`, `take`, `drop`, `splitAt`, `!!` and `replicate` have in common is\n",
    "that they take an `Int` as one of their parameters (or return an `Int`),\n",
    "even though they could be more generic and usable if they just took any\n",
    "type that's part of the `Integral` or `Num` typeclasses (depending on the\n",
    "functions). They do that for historical reasons. However, fixing that\n",
    "would probably break a lot of existing code. That's why `Data.List` has\n",
    "their more generic equivalents, named `genericLength`, `genericTake`,\n",
    "`genericDrop`, `genericSplitAt`, `genericIndex` and `genericReplicate`. For\n",
    "instance, `length` has a type signature of `length :: [a] -> Int`. If we\n",
    "try to get the average of a list of numbers by doing\n",
    "`let xs = [1..6] in sum xs / length xs`,\n",
    "we get a type error, because you can't use `/` with an `Int`.\n",
    "`genericLength`, on the other hand, has a type signature of\n",
    "`genericLength :: (Num a) => [b] -> a`. Because a `Num` can act like a\n",
    "floating point number, getting the average by doing\n",
    "`let xs = [1..6] in sum xs / genericLength xs` works out just fine.\n",
    "\n",
    "The `nub`, `delete`, `union`, `intersect` and `group` functions all have their\n",
    "more general counterparts called `nubBy`, `deleteBy`, `unionBy`, `intersectBy`\n",
    "and `groupBy`. The difference between them is that the first set of\n",
    "functions use `==` to test for equality, whereas the *By* ones also take\n",
    "an equality function and then compare them by using that equality\n",
    "function. `group` is the same as `groupBy (==)`.\n",
    "\n",
    "For instance, say we have a list that describes the value of a function\n",
    "for every second. We want to segment it into sublists based on when the\n",
    "value was below zero and when it went above. If we just did a normal\n",
    "`group`, it would just group the equal adjacent values together. But what\n",
    "we want is to group them by whether they are negative or not. That's\n",
    "where `groupBy` comes in! The equality function supplied to the *By*\n",
    "functions should take two elements of the same type and return `True` if\n",
    "it considers them equal by its standards."
   ]
  },
  {
   "cell_type": "code",
   "execution_count": null,
   "metadata": {
    "attributes": {
     "classes": [
      "haskell:ghci"
     ],
     "id": "",
     "name": "\"code\""
    }
   },
   "outputs": [],
   "source": [
    "ghci> let values = [-4.3, -2.4, -1.2, 0.4, 2.3, 5.9, 10.5, 29.1, 5.3, -2.4, -14.5, 2.9, 2.3]\n",
    "ghci> groupBy (\\x y -> (x > 0) == (y > 0)) values\n",
    "[[-4.3,-2.4,-1.2],[0.4,2.3,5.9,10.5,29.1,5.3],[-2.4,-14.5],[2.9,2.3]]"
   ]
  },
  {
   "cell_type": "markdown",
   "metadata": {},
   "source": [
    "From this, we clearly see which sections are positive and which are\n",
    "negative. The equality function supplied takes two elements and then\n",
    "returns `True` only if they're both negative or if they're both positive.\n",
    "This equality function can also be written as\n",
    "`\\x y -> (x > 0) && (y > 0) || (x <= 0) && (y <= 0)`, although I think the first way is more\n",
    "readable. An even clearer way to write equality functions for the *By*\n",
    "functions is if you import the `on` function from Data.Function. `on` is\n",
    "defined like this:"
   ]
  },
  {
   "cell_type": "code",
   "execution_count": null,
   "metadata": {
    "attributes": {
     "classes": [
      "haskell:ghci"
     ],
     "id": "",
     "name": "\"code\""
    }
   },
   "outputs": [],
   "source": [
    "on :: (b -> b -> c) -> (a -> b) -> a -> a -> c\n",
    "f `on` g = \\x y -> f (g x) (g y)"
   ]
  },
  {
   "cell_type": "markdown",
   "metadata": {},
   "source": [
    "So doing ``(==) `on` (> 0)`` returns an equality function that looks like\n",
    "`\\x y -> (x > 0) == (y > 0)`. `on` is used a lot with the *By* functions\n",
    "because with it, we can do:"
   ]
  },
  {
   "cell_type": "code",
   "execution_count": null,
   "metadata": {
    "attributes": {
     "classes": [
      "haskell:ghci"
     ],
     "id": "",
     "name": "\"code\""
    }
   },
   "outputs": [],
   "source": [
    "ghci> groupBy ((==) `on` (> 0)) values\n",
    "[[-4.3,-2.4,-1.2],[0.4,2.3,5.9,10.5,29.1,5.3],[-2.4,-14.5],[2.9,2.3]]"
   ]
  },
  {
   "cell_type": "markdown",
   "metadata": {},
   "source": [
    "Very readable indeed! You can read it out loud: Group this by equality\n",
    "on whether the elements are greater than zero.\n",
    "\n",
    "Similarly, the `sort`, `insert`, `maximum` and `minimum` also have their more\n",
    "general equivalents. Functions like `groupBy` take a function that\n",
    "determines when two elements are equal. `sortBy`, `insertBy`, `maximumBy` and\n",
    "`minimumBy` take a function that determine if one element is greater,\n",
    "smaller or equal to the other. The type signature of `sortBy` is\n",
    "`sortBy :: (a -> a -> Ordering) -> [a] -> [a]`.\n",
    "If you remember from before, the\n",
    "`Ordering` type can have a value of `LT`, `EQ` or `GT`. `sort` is the equivalent\n",
    "of `sortBy compare`, because compare just takes two elements whose type is\n",
    "in the `Ord` typeclass and returns their ordering relationship.\n",
    "\n",
    "Lists can be compared, but when they are, they are compared\n",
    "lexicographically. What if we have a list of lists and we want to sort\n",
    "it not based on the inner lists' contents but on their lengths? Well, as\n",
    "you've probably guessed, we'll use the `sortBy` function."
   ]
  },
  {
   "cell_type": "code",
   "execution_count": null,
   "metadata": {
    "attributes": {
     "classes": [
      "haskell:ghci"
     ],
     "id": "",
     "name": "\"code\""
    }
   },
   "outputs": [],
   "source": [
    "ghci> let xs = [[5,4,5,4,4],[1,2,3],[3,5,4,3],[],[2],[2,2]]\n",
    "ghci> sortBy (compare `on` length) xs\n",
    "[[],[2],[2,2],[1,2,3],[3,5,4,3],[5,4,5,4,4]]"
   ]
  },
  {
   "cell_type": "markdown",
   "metadata": {},
   "source": [
    "Awesome! ``compare `on` length`` ... man, that reads almost like real\n",
    "English! If you're not sure how exactly the `on` works here,\n",
    "``compare `on` length`` is the equivalent of\n",
    "``\\x y -> length x `compare` length y``.\n",
    "When you're dealing with *By* functions that take an equality\n",
    "function, you usually do ``(==) `on` something`` and when you're dealing\n",
    "with *By* functions that take an ordering function, you usually do\n",
    "``compare `on` something``.\n",
    "\n",
    "Data.Char\n",
    "---------\n",
    "\n",
    "![lego char](img/legochar.png)\n",
    "\n",
    "The `Data.Char` module does what its name suggests. It exports functions\n",
    "that deal with characters. It's also helpful when filtering and mapping\n",
    "over strings because they're just lists of characters.\n",
    "\n",
    "`Data.Char` exports a bunch of predicates over characters. That is,\n",
    "functions that take a character and tell us whether some assumption\n",
    "about it is true or false. Here's what they are:\n",
    "\n",
    "`isControl` checks whether a character is a control character.\n",
    "\n",
    "`isSpace` checks whether a character is a white-space characters. That\n",
    "includes spaces, tab characters, newlines, etc.\n",
    "\n",
    "`isLower` checks whether a character is lower-cased.\n",
    "\n",
    "`isUpper` checks whether a character is upper-cased.\n",
    "\n",
    "`isAlpha` checks whether a character is a letter.\n",
    "\n",
    "`isAlphaNum` checks whether a character is a letter or a number.\n",
    "\n",
    "`isPrint` checks whether a character is printable. Control characters, for\n",
    "instance, are not printable.\n",
    "\n",
    "`isDigit` checks whether a character is a digit.\n",
    "\n",
    "`isOctDigit` checks whether a character is an octal digit.\n",
    "\n",
    "`isHexDigit` checks whether a character is a hex digit.\n",
    "\n",
    "`isLetter` checks whether a character is a letter.\n",
    "\n",
    "`isMark` checks for Unicode mark characters. Those are characters that\n",
    "combine with preceding letters to form letters with accents. Use this if\n",
    "you are French.\n",
    "\n",
    "`isNumber` checks whether a character is numeric.\n",
    "\n",
    "`isPunctuation` checks whether a character is punctuation.\n",
    "\n",
    "`isSymbol` checks whether a character is a fancy mathematical or currency\n",
    "symbol.\n",
    "\n",
    "`isSeparator` checks for Unicode spaces and separators.\n",
    "\n",
    "`isAscii` checks whether a character falls into the first 128 characters\n",
    "of the Unicode character set.\n",
    "\n",
    "`isLatin1` checks whether a character falls into the first 256 characters\n",
    "of Unicode.\n",
    "\n",
    "`isAsciiUpper` checks whether a character is ASCII and upper-case.\n",
    "\n",
    "`isAsciiLower` checks whether a character is ASCII and lower-case.\n",
    "\n",
    "All these predicates have a type signature of `Char -> Bool`. Most of the\n",
    "time you'll use this to filter out strings or something like that. For\n",
    "instance, let's say we're making a program that takes a username and the\n",
    "username can only be comprised of alphanumeric characters. We can use\n",
    "the `Data.List` function `all` in combination with the `Data.Char` predicates\n",
    "to determine if the username is alright."
   ]
  },
  {
   "cell_type": "code",
   "execution_count": null,
   "metadata": {
    "attributes": {
     "classes": [
      "haskell:ghci"
     ],
     "id": "",
     "name": "\"code\""
    }
   },
   "outputs": [],
   "source": [
    "ghci> all isAlphaNum \"bobby283\"\n",
    "True\n",
    "ghci> all isAlphaNum \"eddy the fish!\"\n",
    "False"
   ]
  },
  {
   "cell_type": "markdown",
   "metadata": {},
   "source": [
    "Kewl. In case you don't remember, `all` takes a predicate and a list and\n",
    "returns `True` only if that predicate holds for every element in the list.\n",
    "\n",
    "We can also use `isSpace` to simulate the `Data.List` function `words`."
   ]
  },
  {
   "cell_type": "code",
   "execution_count": null,
   "metadata": {
    "attributes": {
     "classes": [
      "haskell:ghci"
     ],
     "id": "",
     "name": "\"code\""
    }
   },
   "outputs": [],
   "source": [
    "ghci> words \"hey guys its me\"\n",
    "[\"hey\",\"guys\",\"its\",\"me\"]\n",
    "ghci> groupBy ((==) `on` isSpace) \"hey guys its me\"\n",
    "[\"hey\",\" \",\"guys\",\" \",\"its\",\" \",\"me\"]\n",
    "ghci>"
   ]
  },
  {
   "cell_type": "markdown",
   "metadata": {},
   "source": [
    "Hmmm, well, it kind of does what `words` does but we're left with elements\n",
    "of only spaces. Hmm, whatever shall we do? I know, let's filter that\n",
    "sucker."
   ]
  },
  {
   "cell_type": "code",
   "execution_count": null,
   "metadata": {
    "attributes": {
     "classes": [
      "haskell:ghci"
     ],
     "id": "",
     "name": "\"code\""
    }
   },
   "outputs": [],
   "source": [
    "ghci> filter (not . any isSpace) . groupBy ((==) `on` isSpace) $ \"hey guys its me\"\n",
    "[\"hey\",\"guys\",\"its\",\"me\"]"
   ]
  },
  {
   "cell_type": "markdown",
   "metadata": {},
   "source": [
    "Ah.\n",
    "\n",
    "The `Data.Char` also exports a datatype that's kind of like `Ordering`. The\n",
    "`Ordering` type can have a value of `LT`, `EQ` or `GT`. It's a sort of\n",
    "enumeration. It describes a few possible results that can arise from\n",
    "comparing two elements. The `GeneralCategory` type is also an enumeration.\n",
    "It presents us with a few possible categories that a character can fall\n",
    "into. The main function for getting the general category of a character\n",
    "is `generalCategory`. It has a type of\n",
    "`generalCategory :: Char -> GeneralCategory`.\n",
    "There are about 31 categories so we won't list them all\n",
    "here, but let's play around with the function."
   ]
  },
  {
   "cell_type": "code",
   "execution_count": null,
   "metadata": {
    "attributes": {
     "classes": [
      "haskell:ghci"
     ],
     "id": "",
     "name": "\"code\""
    }
   },
   "outputs": [],
   "source": [
    "ghci> generalCategory ' '\n",
    "Space\n",
    "ghci> generalCategory 'A'\n",
    "UppercaseLetter\n",
    "ghci> generalCategory 'a'\n",
    "LowercaseLetter\n",
    "ghci> generalCategory '.'\n",
    "OtherPunctuation\n",
    "ghci> generalCategory '9'\n",
    "DecimalNumber\n",
    "ghci> map generalCategory \" \\t\\nA9?|\"\n",
    "[Space,Control,Control,UppercaseLetter,DecimalNumber,OtherPunctuation,MathSymbol]"
   ]
  },
  {
   "cell_type": "markdown",
   "metadata": {},
   "source": [
    "Since the `GeneralCategory` type is part of the `Eq` typeclass, we can also\n",
    "test for stuff like `generalCategory c == Space`.\n",
    "\n",
    "`toUpper` converts a character to upper-case. Spaces, numbers, and the\n",
    "like remain unchanged.\n",
    "\n",
    "`toLower` converts a character to lower-case.\n",
    "\n",
    "`toTitle` converts a character to title-case. For most characters,\n",
    "title-case is the same as upper-case.\n",
    "\n",
    "`digitToInt` converts a character to an `Int`.\n",
    "To succeed, the character must be in the ranges '0'..'9', 'a'..'f' or 'A'..'F'."
   ]
  },
  {
   "cell_type": "code",
   "execution_count": null,
   "metadata": {
    "attributes": {
     "classes": [
      "haskell:ghci"
     ],
     "id": "",
     "name": "\"code\""
    }
   },
   "outputs": [],
   "source": [
    "ghci> map digitToInt \"34538\"\n",
    "[3,4,5,3,8]\n",
    "ghci> map digitToInt \"FF85AB\"\n",
    "[15,15,8,5,10,11]"
   ]
  },
  {
   "cell_type": "markdown",
   "metadata": {},
   "source": [
    "`intToDigit` is the inverse function of `digitToInt`. It takes an `Int` in the\n",
    "range of `0..15` and converts it to a lower-case character."
   ]
  },
  {
   "cell_type": "code",
   "execution_count": null,
   "metadata": {
    "attributes": {
     "classes": [
      "haskell:ghci"
     ],
     "id": "",
     "name": "\"code\""
    }
   },
   "outputs": [],
   "source": [
    "ghci> intToDigit 15\n",
    "'f'\n",
    "ghci> intToDigit 5\n",
    "'5'"
   ]
  },
  {
   "cell_type": "markdown",
   "metadata": {},
   "source": [
    "The `ord` and `chr` functions convert characters to their corresponding\n",
    "numbers and vice versa:"
   ]
  },
  {
   "cell_type": "code",
   "execution_count": null,
   "metadata": {
    "attributes": {
     "classes": [
      "haskell:ghci"
     ],
     "id": "",
     "name": "\"code\""
    }
   },
   "outputs": [],
   "source": [
    "ghci> ord 'a'\n",
    "97\n",
    "ghci> chr 97\n",
    "'a'\n",
    "ghci> map ord \"abcdefgh\"\n",
    "[97,98,99,100,101,102,103,104]"
   ]
  },
  {
   "cell_type": "markdown",
   "metadata": {},
   "source": [
    "The difference between the `ord` values of two characters is equal to how\n",
    "far apart they are in the Unicode table.\n",
    "\n",
    "The Caesar cipher is a primitive method of encoding messages by shifting\n",
    "each character in them by a fixed number of positions in the alphabet.\n",
    "We can easily create a sort of Caesar cipher of our own, only we won't\n",
    "constrict ourselves to the alphabet."
   ]
  },
  {
   "cell_type": "code",
   "execution_count": null,
   "metadata": {
    "attributes": {
     "classes": [
      "haskell:hs"
     ],
     "id": "",
     "name": "\"code\""
    }
   },
   "outputs": [],
   "source": [
    "encode :: Int -> String -> String\n",
    "encode shift msg =\n",
    "    let ords = map ord msg\n",
    "        shifted = map (+ shift) ords\n",
    "    in  map chr shifted"
   ]
  },
  {
   "cell_type": "markdown",
   "metadata": {},
   "source": [
    "Here, we first convert the string to a list of numbers. Then we add the\n",
    "shift amount to each number before converting the list of numbers back\n",
    "to characters. If you're a composition cowboy, you could write the body\n",
    "of this function as `map (chr . (+ shift) . ord) msg`. Let's try encoding\n",
    "a few messages."
   ]
  },
  {
   "cell_type": "code",
   "execution_count": null,
   "metadata": {
    "attributes": {
     "classes": [
      "haskell:ghci"
     ],
     "id": "",
     "name": "\"code\""
    }
   },
   "outputs": [],
   "source": [
    "ghci> encode 3 \"Heeeeey\"\n",
    "\"Khhhhh|\"\n",
    "ghci> encode 4 \"Heeeeey\"\n",
    "\"Liiiii}\"\n",
    "ghci> encode 1 \"abcd\"\n",
    "\"bcde\"\n",
    "ghci> encode 5 \"Marry Christmas! Ho ho ho!\"\n",
    "\"Rfww~%Hmwnxyrfx&%Mt%mt%mt&\""
   ]
  },
  {
   "cell_type": "markdown",
   "metadata": {},
   "source": [
    "That's encoded alright. Decoding a message is basically just shifting it\n",
    "back by the number of places it was shifted by in the first place."
   ]
  },
  {
   "cell_type": "code",
   "execution_count": null,
   "metadata": {
    "attributes": {
     "classes": [
      "haskell:hs"
     ],
     "id": "",
     "name": "\"code\""
    }
   },
   "outputs": [],
   "source": [
    "decode :: Int -> String -> String\n",
    "decode shift msg = encode (negate shift) msg"
   ]
  },
  {
   "cell_type": "code",
   "execution_count": null,
   "metadata": {
    "attributes": {
     "classes": [
      "haskell:ghci"
     ],
     "id": "",
     "name": "\"code\""
    }
   },
   "outputs": [],
   "source": [
    "ghci> encode 3 \"Im a little teapot\"\n",
    "\"Lp#d#olwwoh#whdsrw\"\n",
    "ghci> decode 3 \"Lp#d#olwwoh#whdsrw\"\n",
    "\"Im a little teapot\"\n",
    "ghci> decode 5 . encode 5 $ \"This is a sentence\"\n",
    "\"This is a sentence\""
   ]
  },
  {
   "cell_type": "markdown",
   "metadata": {},
   "source": [
    "Data.Map\n",
    "--------\n",
    "\n",
    "Association lists (also called dictionaries) are lists that are used to\n",
    "store key-value pairs where ordering doesn't matter. For instance, we\n",
    "might use an association list to store phone numbers, where phone\n",
    "numbers would be the values and people's names would be the keys. We\n",
    "don't care in which order they're stored, we just want to get the right\n",
    "phone number for the right person.\n",
    "\n",
    "The most obvious way to represent association lists in Haskell would be\n",
    "by having a list of pairs. The first component in the pair would be the\n",
    "key, the second component the value. Here's an example of an association\n",
    "list with phone numbers:"
   ]
  },
  {
   "cell_type": "code",
   "execution_count": null,
   "metadata": {
    "attributes": {
     "classes": [
      "haskell:hs"
     ],
     "id": "",
     "name": "\"code\""
    }
   },
   "outputs": [],
   "source": [
    "phoneBook =\n",
    "    [(\"betty\",\"555-2938\")\n",
    "    ,(\"bonnie\",\"452-2928\")\n",
    "    ,(\"patsy\",\"493-2928\")\n",
    "    ,(\"lucille\",\"205-2928\")\n",
    "    ,(\"wendy\",\"939-8282\")\n",
    "    ,(\"penny\",\"853-2492\")\n",
    "    ]"
   ]
  },
  {
   "cell_type": "markdown",
   "metadata": {},
   "source": [
    "Despite this seemingly odd indentation, this is just a list of pairs of\n",
    "strings. The most common task when dealing with association lists is\n",
    "looking up some value by key. Let's make a function that looks up some\n",
    "value given a key."
   ]
  },
  {
   "cell_type": "code",
   "execution_count": null,
   "metadata": {
    "attributes": {
     "classes": [
      "haskell:hs"
     ],
     "id": "",
     "name": "\"code\""
    }
   },
   "outputs": [],
   "source": [
    "findKey :: (Eq k) => k -> [(k,v)] -> v\n",
    "findKey key xs = snd . head . filter (\\(k,v) -> key == k) $ xs"
   ]
  },
  {
   "cell_type": "markdown",
   "metadata": {},
   "source": [
    "Pretty simple. The function that takes a key and a list, filters the\n",
    "list so that only matching keys remain, gets the first key-value that\n",
    "matches and returns the value. But what happens if the key we're looking\n",
    "for isn't in the association list? Hmm. Here, if a key isn't in the\n",
    "association list, we'll end up trying to get the head of an empty list,\n",
    "which throws a runtime error. However, we should avoid making our\n",
    "programs so easy to crash, so let's use the `Maybe` data type. If we don't\n",
    "find the key, we'll return a `Nothing`. If we find it, we'll return\n",
    "`Just something`, where something is the value corresponding to that key."
   ]
  },
  {
   "cell_type": "code",
   "execution_count": null,
   "metadata": {
    "attributes": {
     "classes": [
      "haskell:hs"
     ],
     "id": "",
     "name": "\"code\""
    }
   },
   "outputs": [],
   "source": [
    "findKey :: (Eq k) => k -> [(k,v)] -> Maybe v\n",
    "findKey key [] = Nothing\n",
    "findKey key ((k,v):xs) = if key == k\n",
    "                            then Just v\n",
    "                            else findKey key xs"
   ]
  },
  {
   "cell_type": "markdown",
   "metadata": {},
   "source": [
    "Look at the type declaration. It takes a key that can be equated, an\n",
    "association list and then it maybe produces a value. Sounds about right.\n",
    "\n",
    "This is a textbook recursive function that operates on a list. Edge\n",
    "case, splitting a list into a head and a tail, recursive calls, they're\n",
    "all there. This is the classic fold pattern, so let's see how this would\n",
    "be implemented as a fold."
   ]
  },
  {
   "cell_type": "code",
   "execution_count": null,
   "metadata": {
    "attributes": {
     "classes": [
      "haskell:hs"
     ],
     "id": "",
     "name": "\"code\""
    }
   },
   "outputs": [],
   "source": [
    "findKey :: (Eq k) => k -> [(k,v)] -> Maybe v\n",
    "findKey key = foldr (\\(k,v) acc -> if key == k then Just v else acc) Nothing"
   ]
  },
  {
   "cell_type": "markdown",
   "metadata": {},
   "source": [
    "> *Note:* It's usually better to use folds for this standard list\n",
    "> recursion pattern instead of explicitly writing the recursion because\n",
    "> they're easier to read and identify. Everyone knows it's a fold when\n",
    "> they see the `foldr` call, but it takes some more thinking to read\n",
    "> explicit recursion."
   ]
  },
  {
   "cell_type": "code",
   "execution_count": null,
   "metadata": {
    "attributes": {
     "classes": [
      "haskell:ghci"
     ],
     "id": "",
     "name": "\"code\""
    }
   },
   "outputs": [],
   "source": [
    "ghci> findKey \"penny\" phoneBook\n",
    "Just \"853-2492\"\n",
    "ghci> findKey \"betty\" phoneBook\n",
    "Just \"555-2938\"\n",
    "ghci> findKey \"wilma\" phoneBook\n",
    "Nothing"
   ]
  },
  {
   "cell_type": "markdown",
   "metadata": {},
   "source": [
    "<img src=\"img/legomap.png\" title=\"legomap\" style=\"\" />\n",
    "\n",
    "Works like a charm! If we have the girl's phone number, we `Just` get the\n",
    "number, otherwise we get `Nothing`.\n",
    "\n",
    "We just implemented the `lookup` function from `Data.List`. If we want to\n",
    "find the corresponding value to a key, we have to traverse all the\n",
    "elements of the list until we find it. The `Data.Map` module offers\n",
    "association lists that are much faster (because they're internally\n",
    "implemented with trees) and also it provides a lot of utility functions.\n",
    "From now on, we'll say we're working with maps instead of association\n",
    "lists.\n",
    "\n",
    "Because `Data.Map` exports functions that clash with the `Prelude` and\n",
    "`Data.List` ones, we'll do a qualified import."
   ]
  },
  {
   "cell_type": "code",
   "execution_count": null,
   "metadata": {
    "attributes": {
     "classes": [
      "haskell:hs"
     ],
     "id": "",
     "name": "\"code\""
    }
   },
   "outputs": [],
   "source": [
    "import qualified Data.Map as Map"
   ]
  },
  {
   "cell_type": "markdown",
   "metadata": {},
   "source": [
    "Put this import statement into a script and then load the script via\n",
    "GHCI.\n",
    "\n",
    "Let's go ahead and see what `Data.Map` has in store for us! Here's the\n",
    "basic rundown of its functions.\n",
    "\n",
    "The `fromList` function takes an association list (in the form of a list)\n",
    "and returns a map with the same associations."
   ]
  },
  {
   "cell_type": "code",
   "execution_count": null,
   "metadata": {
    "attributes": {
     "classes": [
      "haskell:ghci"
     ],
     "id": "",
     "name": "\"code\""
    }
   },
   "outputs": [],
   "source": [
    "ghci> Map.fromList [(\"betty\",\"555-2938\"),(\"bonnie\",\"452-2928\"),(\"lucille\",\"205-2928\")]\n",
    "fromList [(\"betty\",\"555-2938\"),(\"bonnie\",\"452-2928\"),(\"lucille\",\"205-2928\")]\n",
    "ghci> Map.fromList [(1,2),(3,4),(3,2),(5,5)]\n",
    "fromList [(1,2),(3,2),(5,5)]"
   ]
  },
  {
   "cell_type": "markdown",
   "metadata": {},
   "source": [
    "If there are duplicate keys in the original association list, the\n",
    "duplicates are just discarded. This is the type signature of `fromList`"
   ]
  },
  {
   "cell_type": "code",
   "execution_count": null,
   "metadata": {
    "attributes": {
     "classes": [
      "haskell:hs"
     ],
     "id": "",
     "name": "\"code\""
    }
   },
   "outputs": [],
   "source": [
    "Map.fromList :: (Ord k) => [(k, v)] -> Map.Map k v"
   ]
  },
  {
   "cell_type": "markdown",
   "metadata": {},
   "source": [
    "It says that it takes a list of pairs of type `k` and `v` and returns a map\n",
    "that maps from keys of type `k` to type `v`. Notice that when we were doing\n",
    "association lists with normal lists, the keys only had to be equatable\n",
    "(their type belonging to the `Eq` typeclass) but now they have to be\n",
    "orderable. That's an essential constraint in the `Data.Map` module. It\n",
    "needs the keys to be orderable so it can arrange them in a tree.\n",
    "\n",
    "You should always use `Data.Map` for key-value associations unless you\n",
    "have keys that aren't part of the `Ord` typeclass.\n",
    "\n",
    "`empty` represents an empty map. It takes no arguments, it just returns an\n",
    "empty map."
   ]
  },
  {
   "cell_type": "code",
   "execution_count": null,
   "metadata": {
    "attributes": {
     "classes": [
      "haskell:ghci"
     ],
     "id": "",
     "name": "\"code\""
    }
   },
   "outputs": [],
   "source": [
    "ghci> Map.empty\n",
    "fromList []"
   ]
  },
  {
   "cell_type": "markdown",
   "metadata": {},
   "source": [
    "`insert` takes a key, a value and a map and returns a new map that's just\n",
    "like the old one, only with the key and value inserted."
   ]
  },
  {
   "cell_type": "code",
   "execution_count": null,
   "metadata": {
    "attributes": {
     "classes": [
      "haskell:ghci"
     ],
     "id": "",
     "name": "\"code\""
    }
   },
   "outputs": [],
   "source": [
    "ghci> Map.empty\n",
    "fromList []\n",
    "ghci> Map.insert 3 100 Map.empty\n",
    "fromList [(3,100)]\n",
    "ghci> Map.insert 5 600 (Map.insert 4 200 ( Map.insert 3 100  Map.empty))\n",
    "fromList [(3,100),(4,200),(5,600)]\n",
    "ghci> Map.insert 5 600 . Map.insert 4 200 . Map.insert 3 100 $ Map.empty\n",
    "fromList [(3,100),(4,200),(5,600)]"
   ]
  },
  {
   "cell_type": "markdown",
   "metadata": {},
   "source": [
    "We can implement our own `fromList` by using the empty map, `insert` and a\n",
    "fold. Watch:"
   ]
  },
  {
   "cell_type": "code",
   "execution_count": null,
   "metadata": {
    "attributes": {
     "classes": [
      "haskell:ghci"
     ],
     "id": "",
     "name": "\"code\""
    }
   },
   "outputs": [],
   "source": [
    "fromList' :: (Ord k) => [(k,v)] -> Map.Map k v\n",
    "fromList' = foldr (\\(k,v) acc -> Map.insert k v acc) Map.empty"
   ]
  },
  {
   "cell_type": "markdown",
   "metadata": {},
   "source": [
    "It's a pretty straightforward fold. We start of with an empty map and we\n",
    "fold it up from the right, inserting the key value pairs into the\n",
    "accumulator as we go along.\n",
    "\n",
    "`null` checks if a map is empty."
   ]
  },
  {
   "cell_type": "code",
   "execution_count": null,
   "metadata": {
    "attributes": {
     "classes": [
      "haskell:ghci"
     ],
     "id": "",
     "name": "\"code\""
    }
   },
   "outputs": [],
   "source": [
    "ghci> Map.null Map.empty\n",
    "True\n",
    "ghci> Map.null $ Map.fromList [(2,3),(5,5)]\n",
    "False"
   ]
  },
  {
   "cell_type": "markdown",
   "metadata": {},
   "source": [
    "`size` reports the size of a map."
   ]
  },
  {
   "cell_type": "code",
   "execution_count": null,
   "metadata": {
    "attributes": {
     "classes": [
      "haskell:ghci"
     ],
     "id": "",
     "name": "\"code\""
    }
   },
   "outputs": [],
   "source": [
    "ghci> Map.size Map.empty\n",
    "0\n",
    "ghci> Map.size $ Map.fromList [(2,4),(3,3),(4,2),(5,4),(6,4)]\n",
    "5"
   ]
  },
  {
   "cell_type": "markdown",
   "metadata": {},
   "source": [
    "`singleton` takes a key and a value and creates a map that has exactly one\n",
    "mapping."
   ]
  },
  {
   "cell_type": "code",
   "execution_count": null,
   "metadata": {
    "attributes": {
     "classes": [
      "haskell:ghci"
     ],
     "id": "",
     "name": "\"code\""
    }
   },
   "outputs": [],
   "source": [
    "ghci> Map.singleton 3 9\n",
    "fromList [(3,9)]\n",
    "ghci> Map.insert 5 9 $ Map.singleton 3 9\n",
    "fromList [(3,9),(5,9)]"
   ]
  },
  {
   "cell_type": "markdown",
   "metadata": {},
   "source": [
    "`lookup` works like the `Data.List` `lookup`, only it operates on maps. It\n",
    "returns `Just something` if it finds something for the key and `Nothing` if\n",
    "it doesn't.\n",
    "\n",
    "`member` is a predicate takes a key and a map and reports whether the key\n",
    "is in the map or not."
   ]
  },
  {
   "cell_type": "code",
   "execution_count": null,
   "metadata": {
    "attributes": {
     "classes": [
      "haskell:ghci"
     ],
     "id": "",
     "name": "\"code\""
    }
   },
   "outputs": [],
   "source": [
    "ghci> Map.member 3 $ Map.fromList [(3,6),(4,3),(6,9)]\n",
    "True\n",
    "ghci> Map.member 3 $ Map.fromList [(2,5),(4,5)]\n",
    "False"
   ]
  },
  {
   "cell_type": "markdown",
   "metadata": {},
   "source": [
    "`map` and `filter` work much like their list equivalents."
   ]
  },
  {
   "cell_type": "code",
   "execution_count": null,
   "metadata": {
    "attributes": {
     "classes": [
      "haskell:ghci"
     ],
     "id": "",
     "name": "\"code\""
    }
   },
   "outputs": [],
   "source": [
    "ghci> Map.map (*100) $ Map.fromList [(1,1),(2,4),(3,9)]\n",
    "fromList [(1,100),(2,400),(3,900)]\n",
    "ghci> Map.filter isUpper $ Map.fromList [(1,'a'),(2,'A'),(3,'b'),(4,'B')]\n",
    "fromList [(2,'A'),(4,'B')]"
   ]
  },
  {
   "cell_type": "markdown",
   "metadata": {},
   "source": [
    "`toList` is the inverse of `fromList`."
   ]
  },
  {
   "cell_type": "code",
   "execution_count": null,
   "metadata": {
    "attributes": {
     "classes": [
      "haskell:ghci"
     ],
     "id": "",
     "name": "\"code\""
    }
   },
   "outputs": [],
   "source": [
    "ghci> Map.toList . Map.insert 9 2 $ Map.singleton 4 3\n",
    "[(4,3),(9,2)]"
   ]
  },
  {
   "cell_type": "markdown",
   "metadata": {},
   "source": [
    "`keys` and `elems` return lists of keys and values respectively. `keys` is the\n",
    "equivalent of map fst . Map.toList and elems is the equivalent of map\n",
    "snd . Map.toList.\n",
    "\n",
    "`fromListWith` is a cool little function. It acts like `fromList`, only it\n",
    "doesn't discard duplicate keys but it uses a function supplied to it to\n",
    "decide what to do with them. Let's say that a girl can have several\n",
    "numbers and we have an association list set up like this."
   ]
  },
  {
   "cell_type": "code",
   "execution_count": null,
   "metadata": {
    "attributes": {
     "classes": [
      "haskell:hs"
     ],
     "id": "",
     "name": "\"code\""
    }
   },
   "outputs": [],
   "source": [
    "phoneBook =\n",
    "    [(\"betty\",\"555-2938\")\n",
    "    ,(\"betty\",\"342-2492\")\n",
    "    ,(\"bonnie\",\"452-2928\")\n",
    "    ,(\"patsy\",\"493-2928\")\n",
    "    ,(\"patsy\",\"943-2929\")\n",
    "    ,(\"patsy\",\"827-9162\")\n",
    "    ,(\"lucille\",\"205-2928\")\n",
    "    ,(\"wendy\",\"939-8282\")\n",
    "    ,(\"penny\",\"853-2492\")\n",
    "    ,(\"penny\",\"555-2111\")\n",
    "    ]"
   ]
  },
  {
   "cell_type": "markdown",
   "metadata": {},
   "source": [
    "Now if we just use `fromList` to put that into a map, we'll lose a few\n",
    "numbers! So here's what we'll do:"
   ]
  },
  {
   "cell_type": "code",
   "execution_count": null,
   "metadata": {
    "attributes": {
     "classes": [
      "haskell:hs"
     ],
     "id": "",
     "name": "\"code\""
    }
   },
   "outputs": [],
   "source": [
    "phoneBookToMap :: (Ord k) => [(k, String)] -> Map.Map k String\n",
    "phoneBookToMap xs = Map.fromListWith (\\number1 number2 -> number1 ++ \", \" ++ number2) xs"
   ]
  },
  {
   "cell_type": "code",
   "execution_count": null,
   "metadata": {
    "attributes": {
     "classes": [
      "haskell:hs"
     ],
     "id": "",
     "name": "\"code\""
    }
   },
   "outputs": [],
   "source": [
    "ghci> Map.lookup \"patsy\" $ phoneBookToMap phoneBook\n",
    "\"827-9162, 943-2929, 493-2928\"\n",
    "ghci> Map.lookup \"wendy\" $ phoneBookToMap phoneBook\n",
    "\"939-8282\"\n",
    "ghci> Map.lookup \"betty\" $ phoneBookToMap phoneBook\n",
    "\"342-2492, 555-2938\""
   ]
  },
  {
   "cell_type": "markdown",
   "metadata": {},
   "source": [
    "If a duplicate key is found, the function we pass is used to combine the\n",
    "values of those keys into some other value. We could also first make all\n",
    "the values in the association list singleton lists and then we can use\n",
    "`++` to combine the numbers."
   ]
  },
  {
   "cell_type": "code",
   "execution_count": null,
   "metadata": {
    "attributes": {
     "classes": [
      "haskell:hs"
     ],
     "id": "",
     "name": "\"code\""
    }
   },
   "outputs": [],
   "source": [
    "phoneBookToMap :: (Ord k) => [(k, a)] -> Map.Map k [a]\n",
    "phoneBookToMap xs = Map.fromListWith (++) $ map (\\(k,v) -> (k,[v])) xs"
   ]
  },
  {
   "cell_type": "code",
   "execution_count": null,
   "metadata": {
    "attributes": {
     "classes": [
      "haskell:ghci"
     ],
     "id": "",
     "name": "\"code\""
    }
   },
   "outputs": [],
   "source": [
    "ghci> Map.lookup \"patsy\" $ phoneBookToMap phoneBook\n",
    "[\"827-9162\",\"943-2929\",\"493-2928\"]"
   ]
  },
  {
   "cell_type": "markdown",
   "metadata": {},
   "source": [
    "Pretty neat! Another use case is if we're making a map from an\n",
    "association list of numbers and when a duplicate key is found, we want\n",
    "the biggest value for the key to be kept."
   ]
  },
  {
   "cell_type": "code",
   "execution_count": null,
   "metadata": {
    "attributes": {
     "classes": [
      "haskell:ghci"
     ],
     "id": "",
     "name": "\"code\""
    }
   },
   "outputs": [],
   "source": [
    "ghci> Map.fromListWith max [(2,3),(2,5),(2,100),(3,29),(3,22),(3,11),(4,22),(4,15)]\n",
    "fromList [(2,100),(3,29),(4,22)]"
   ]
  },
  {
   "cell_type": "markdown",
   "metadata": {},
   "source": [
    "Or we could choose to add together values on the same keys."
   ]
  },
  {
   "cell_type": "code",
   "execution_count": null,
   "metadata": {
    "attributes": {
     "classes": [
      "haskell:ghci"
     ],
     "id": "",
     "name": "\"code\""
    }
   },
   "outputs": [],
   "source": [
    "ghci> Map.fromListWith (+) [(2,3),(2,5),(2,100),(3,29),(3,22),(3,11),(4,22),(4,15)]\n",
    "fromList [(2,108),(3,62),(4,37)]"
   ]
  },
  {
   "cell_type": "markdown",
   "metadata": {},
   "source": [
    "`insertWith` is to `insert` what `fromListWith` is to `fromList`. It inserts a\n",
    "key-value pair into a map, but if that map already contains the key, it\n",
    "uses the function passed to it to determine what to do."
   ]
  },
  {
   "cell_type": "code",
   "execution_count": null,
   "metadata": {
    "attributes": {
     "classes": [
      "haskell:ghci"
     ],
     "id": "",
     "name": "\"code\""
    }
   },
   "outputs": [],
   "source": [
    "ghci> Map.insertWith (+) 3 100 $ Map.fromList [(3,4),(5,103),(6,339)]\n",
    "fromList [(3,104),(5,103),(6,339)]"
   ]
  },
  {
   "cell_type": "markdown",
   "metadata": {},
   "source": [
    "These were just a few functions from `Data.Map`. You can see a complete\n",
    "list of functions in the\n",
    "[documentation](http://www.haskell.org/ghc/docs/latest/html/libraries/containers/Data-Map.html#v%3Aassocs).\n",
    "\n",
    "Data.Set\n",
    "--------\n",
    "\n",
    "<img src=\"img/legosets.png\" title=\"legosets\" style=\"\" />\n",
    "\n",
    "The `Data.Set` module offers us, well, sets. Like sets from mathematics.\n",
    "Sets are kind of like a cross between lists and maps. All the elements\n",
    "in a set are unique. And because they're internally implemented with\n",
    "trees (much like maps in `Data.Map`), they're ordered. Checking for\n",
    "membership, inserting, deleting, etc. is much faster than doing the same\n",
    "thing with lists. The most common operation when dealing with sets are\n",
    "inserting into a set, checking for membership and converting a set to a\n",
    "list.\n",
    "\n",
    "Because the names in `Data.Set` clash with a lot of `Prelude` and `Data.List`\n",
    "names, we do a qualified import.\n",
    "\n",
    "Put this import statement in a script:"
   ]
  },
  {
   "cell_type": "code",
   "execution_count": null,
   "metadata": {
    "attributes": {
     "classes": [
      "haskell:ghci"
     ],
     "id": "",
     "name": "\"code\""
    }
   },
   "outputs": [],
   "source": [
    "import qualified Data.Set as Set"
   ]
  },
  {
   "cell_type": "markdown",
   "metadata": {},
   "source": [
    "And then load the script via GHCI.\n",
    "\n",
    "Let's say we have two pieces of text. We want to find out which\n",
    "characters were used in both of them."
   ]
  },
  {
   "cell_type": "code",
   "execution_count": null,
   "metadata": {
    "attributes": {
     "classes": [
      "haskell:ghci"
     ],
     "id": "",
     "name": "\"code\""
    }
   },
   "outputs": [],
   "source": [
    "text1 = \"I just had an anime dream. Anime... Reality... Are they so different?\"\n",
    "text2 = \"The old man left his garbage can out and now his trash is all over my lawn!\""
   ]
  },
  {
   "cell_type": "markdown",
   "metadata": {},
   "source": [
    "The `fromList` function works much like you would expect. It takes a list\n",
    "and converts it into a set."
   ]
  },
  {
   "cell_type": "code",
   "execution_count": null,
   "metadata": {
    "attributes": {
     "classes": [
      "haskell:ghci"
     ],
     "id": "",
     "name": "\"code\""
    }
   },
   "outputs": [],
   "source": [
    "ghci> let set1 = Set.fromList text1\n",
    "ghci> let set2 = Set.fromList text2\n",
    "ghci> set1\n",
    "fromList \" .?AIRadefhijlmnorstuy\"\n",
    "ghci> set2\n",
    "fromList \" !Tabcdefghilmnorstuvwy\""
   ]
  },
  {
   "cell_type": "markdown",
   "metadata": {},
   "source": [
    "As you can see, the items are ordered and each element is unique. Now\n",
    "let's use the `intersection` function to see which elements they both\n",
    "share."
   ]
  },
  {
   "cell_type": "code",
   "execution_count": null,
   "metadata": {
    "attributes": {
     "classes": [
      "haskell:ghci"
     ],
     "id": "",
     "name": "\"code\""
    }
   },
   "outputs": [],
   "source": [
    "ghci> Set.intersection set1 set2\n",
    "fromList \" adefhilmnorstuy\""
   ]
  },
  {
   "cell_type": "markdown",
   "metadata": {},
   "source": [
    "We can use the `difference` function to see which letters are in the first\n",
    "set but aren't in the second one and vice versa."
   ]
  },
  {
   "cell_type": "code",
   "execution_count": null,
   "metadata": {
    "attributes": {
     "classes": [
      "haskell:ghci"
     ],
     "id": "",
     "name": "\"code\""
    }
   },
   "outputs": [],
   "source": [
    "ghci> Set.difference set1 set2\n",
    "fromList \".?AIRj\"\n",
    "ghci> Set.difference set2 set1\n",
    "fromList \"!Tbcgvw\""
   ]
  },
  {
   "cell_type": "markdown",
   "metadata": {},
   "source": [
    "Or we can see all the unique letters used in both sentences by using\n",
    "`union`."
   ]
  },
  {
   "cell_type": "code",
   "execution_count": null,
   "metadata": {
    "attributes": {
     "classes": [
      "haskell:ghci"
     ],
     "id": "",
     "name": "\"code\""
    }
   },
   "outputs": [],
   "source": [
    "ghci> Set.union set1 set2\n",
    "fromList \" !.?AIRTabcdefghijlmnorstuvwy\""
   ]
  },
  {
   "cell_type": "markdown",
   "metadata": {},
   "source": [
    "The `null`, `size`, `member`, `empty`, `singleton`, `insert` and `delete` functions\n",
    "all work like you'd expect them to."
   ]
  },
  {
   "cell_type": "code",
   "execution_count": null,
   "metadata": {
    "attributes": {
     "classes": [
      "haskell:ghci"
     ],
     "id": "",
     "name": "\"code\""
    }
   },
   "outputs": [],
   "source": [
    "ghci> Set.null Set.empty\n",
    "True\n",
    "ghci> Set.null $ Set.fromList [3,4,5,5,4,3]\n",
    "False\n",
    "ghci> Set.size $ Set.fromList [3,4,5,3,4,5]\n",
    "3\n",
    "ghci> Set.singleton 9\n",
    "fromList [9]\n",
    "ghci> Set.insert 4 $ Set.fromList [9,3,8,1]\n",
    "fromList [1,3,4,8,9]\n",
    "ghci> Set.insert 8 $ Set.fromList [5..10]\n",
    "fromList [5,6,7,8,9,10]\n",
    "ghci> Set.delete 4 $ Set.fromList [3,4,5,4,3,4,5]\n",
    "fromList [3,5]"
   ]
  },
  {
   "cell_type": "markdown",
   "metadata": {},
   "source": [
    "We can also check for subsets or proper subset. Set A is a subset of set\n",
    "B if B contains all the elements that A does. Set A is a proper subset\n",
    "of set B if B contains all the elements that A does but has more\n",
    "elements."
   ]
  },
  {
   "cell_type": "code",
   "execution_count": null,
   "metadata": {
    "attributes": {
     "classes": [
      "haskell:ghci"
     ],
     "id": "",
     "name": "\"code\""
    }
   },
   "outputs": [],
   "source": [
    "ghci> Set.fromList [2,3,4] `Set.isSubsetOf` Set.fromList [1,2,3,4,5]\n",
    "True\n",
    "ghci> Set.fromList [1,2,3,4,5] `Set.isSubsetOf` Set.fromList [1,2,3,4,5]\n",
    "True\n",
    "ghci> Set.fromList [1,2,3,4,5] `Set.isProperSubsetOf` Set.fromList [1,2,3,4,5]\n",
    "False\n",
    "ghci> Set.fromList [2,3,4,8] `Set.isSubsetOf` Set.fromList [1,2,3,4,5]\n",
    "False"
   ]
  },
  {
   "cell_type": "markdown",
   "metadata": {},
   "source": [
    "We can also `map` over sets and `filter` them."
   ]
  },
  {
   "cell_type": "code",
   "execution_count": null,
   "metadata": {
    "attributes": {
     "classes": [
      "haskell:ghci"
     ],
     "id": "",
     "name": "\"code\""
    }
   },
   "outputs": [],
   "source": [
    "ghci> Set.filter odd $ Set.fromList [3,4,5,6,7,2,3,4]\n",
    "fromList [3,5,7]\n",
    "ghci> Set.map (+1) $ Set.fromList [3,4,5,6,7,2,3,4]\n",
    "fromList [3,4,5,6,7,8]"
   ]
  },
  {
   "cell_type": "markdown",
   "metadata": {},
   "source": [
    "Sets are often used to weed a list of duplicates from a list by first\n",
    "making it into a set with `fromList` and then converting it back to a list\n",
    "with `toList`. The `Data.List` function `nub` already does that, but weeding\n",
    "out duplicates for large lists is much faster if you cram them into a\n",
    "set and then convert them back to a list than using `nub`. But using `nub`\n",
    "only requires the type of the list's elements to be part of the `Eq`\n",
    "typeclass, whereas if you want to cram elements into a set, the type of\n",
    "the list has to be in `Ord`."
   ]
  },
  {
   "cell_type": "code",
   "execution_count": null,
   "metadata": {
    "attributes": {
     "classes": [
      "haskell:ghci"
     ],
     "id": "",
     "name": "\"code\""
    }
   },
   "outputs": [],
   "source": [
    "ghci> let setNub xs = Set.toList $ Set.fromList xs\n",
    "ghci> setNub \"HEY WHATS CRACKALACKIN\"\n",
    "\" ACEHIKLNRSTWY\"\n",
    "ghci> nub \"HEY WHATS CRACKALACKIN\"\n",
    "\"HEY WATSCRKLIN\""
   ]
  },
  {
   "cell_type": "markdown",
   "metadata": {},
   "source": [
    "`setNub` is generally faster than `nub` on big lists but as you can see, `nub`\n",
    "preserves the ordering of the list's elements, while `setNub` does not.\n",
    "\n",
    "Making our own modules\n",
    "----------------------\n",
    "\n",
    "![making modules](img/making_modules.png)\n",
    "\n",
    "We've looked at some cool modules so far, but how do we make our own\n",
    "module? Almost every programming language enables you to split your code\n",
    "up into several files and Haskell is no different. When making programs,\n",
    "it's good practice to take functions and types that work towards a\n",
    "similar purpose and put them in a module. That way, you can easily reuse\n",
    "those functions in other programs by just importing your module.\n",
    "\n",
    "Let's see how we can make our own modules by making a little module that\n",
    "provides some functions for calculating the volume and area of a few\n",
    "geometrical objects. We'll start by creating a file called `Geometry.hs`.\n",
    "\n",
    "We say that a module *exports* functions. What that means is that when I\n",
    "import a module, I can use the functions that it exports. It can define\n",
    "functions that its functions call internally, but we can only see and\n",
    "use the ones that it exports.\n",
    "\n",
    "At the beginning of a module, we specify the module name. If we have a\n",
    "file called `Geometry.hs`, then we should name our module `Geometry`. Then,\n",
    "we specify the functions that it exports and after that, we can start\n",
    "writing the functions. So we'll start with this."
   ]
  },
  {
   "cell_type": "code",
   "execution_count": null,
   "metadata": {
    "attributes": {
     "classes": [
      "haskell:ghci"
     ],
     "id": "",
     "name": "\"code\""
    }
   },
   "outputs": [],
   "source": [
    "module Geometry\n",
    "( sphereVolume\n",
    ", sphereArea\n",
    ", cubeVolume\n",
    ", cubeArea\n",
    ", cuboidArea\n",
    ", cuboidVolume\n",
    ") where"
   ]
  },
  {
   "cell_type": "markdown",
   "metadata": {},
   "source": [
    "As you can see, we'll be doing areas and volumes for spheres, cubes and\n",
    "cuboids. Let's go ahead and define our functions then:"
   ]
  },
  {
   "cell_type": "code",
   "execution_count": null,
   "metadata": {
    "attributes": {
     "classes": [
      "haskell:ghci"
     ],
     "id": "",
     "name": "\"code\""
    }
   },
   "outputs": [],
   "source": [
    "module Geometry\n",
    "( sphereVolume\n",
    ", sphereArea\n",
    ", cubeVolume\n",
    ", cubeArea\n",
    ", cuboidArea\n",
    ", cuboidVolume\n",
    ") where\n",
    "\n",
    "sphereVolume :: Float -> Float\n",
    "sphereVolume radius = (4.0 / 3.0) * pi * (radius ^ 3)\n",
    "\n",
    "sphereArea :: Float -> Float\n",
    "sphereArea radius = 4 * pi * (radius ^ 2)\n",
    "\n",
    "cubeVolume :: Float -> Float\n",
    "cubeVolume side = cuboidVolume side side side\n",
    "\n",
    "cubeArea :: Float -> Float\n",
    "cubeArea side = cuboidArea side side side\n",
    "\n",
    "cuboidVolume :: Float -> Float -> Float -> Float\n",
    "cuboidVolume a b c = rectangleArea a b * c\n",
    "\n",
    "cuboidArea :: Float -> Float -> Float -> Float\n",
    "cuboidArea a b c = rectangleArea a b * 2 + rectangleArea a c * 2 + rectangleArea c b * 2\n",
    "\n",
    "rectangleArea :: Float -> Float -> Float\n",
    "rectangleArea a b = a * b"
   ]
  },
  {
   "cell_type": "markdown",
   "metadata": {},
   "source": [
    "Pretty standard geometry right here. There are a few things to take note\n",
    "of though. Because a cube is only a special case of a cuboid, we defined\n",
    "its area and volume by treating it as a cuboid whose sides are all of\n",
    "the same length. We also defined a helper function called `rectangleArea`,\n",
    "which calculates a rectangle's area based on the lengths of its sides.\n",
    "It's rather trivial because it's just multiplication. Notice that we\n",
    "used it in our functions in the module (namely `cuboidArea` and\n",
    "`cuboidVolume`) but we didn't export it! Because we want our module to\n",
    "just present functions for dealing with three dimensional objects, we\n",
    "used `rectangleArea` but we didn't export it.\n",
    "\n",
    "When making a module, we usually export only those functions that act as\n",
    "a sort of interface to our module so that the implementation is hidden.\n",
    "If someone is using our `Geometry` module, they don't have to concern\n",
    "themselves with functions that we don't export. We can decide to change\n",
    "those functions completely or delete them in a newer version (we could\n",
    "delete `rectangleArea` and just use `*` instead) and no one will mind\n",
    "because we weren't exporting them in the first place.\n",
    "\n",
    "To use our module, we just do:"
   ]
  },
  {
   "cell_type": "code",
   "execution_count": null,
   "metadata": {
    "attributes": {
     "classes": [
      "haskell:ghci"
     ],
     "id": "",
     "name": "\"code\""
    }
   },
   "outputs": [],
   "source": [
    "import Geometry"
   ]
  },
  {
   "cell_type": "markdown",
   "metadata": {},
   "source": [
    "`Geometry.hs` has to be in the same folder that the program that's\n",
    "importing it is in, though.\n",
    "\n",
    "Modules can also be given a hierarchical structures. Each module can\n",
    "have a number of sub-modules and they can have sub-modules of their own.\n",
    "Let's section these functions off so that `Geometry` is a module that has\n",
    "three sub-modules, one for each type of object.\n",
    "\n",
    "First, we'll make a folder called `Geometry`. Mind the capital G. In it,\n",
    "we'll place three files: `Sphere.hs`, `Cuboid.hs`, and `Cube.hs`. Here's what\n",
    "the files will contain:\n",
    "\n",
    "`Sphere.hs`"
   ]
  },
  {
   "cell_type": "code",
   "execution_count": null,
   "metadata": {
    "attributes": {
     "classes": [
      "haskell:ghci"
     ],
     "id": "",
     "name": "\"code\""
    }
   },
   "outputs": [],
   "source": [
    "module Geometry.Sphere\n",
    "( volume\n",
    ", area\n",
    ") where\n",
    "\n",
    "volume :: Float -> Float\n",
    "volume radius = (4.0 / 3.0) * pi * (radius ^ 3)\n",
    "\n",
    "area :: Float -> Float\n",
    "area radius = 4 * pi * (radius ^ 2)"
   ]
  },
  {
   "cell_type": "markdown",
   "metadata": {},
   "source": [
    "`Cuboid.hs`"
   ]
  },
  {
   "cell_type": "code",
   "execution_count": null,
   "metadata": {
    "attributes": {
     "classes": [
      "haskell:ghci"
     ],
     "id": "",
     "name": "\"code\""
    }
   },
   "outputs": [],
   "source": [
    "module Geometry.Cuboid\n",
    "( volume\n",
    ", area\n",
    ") where\n",
    "\n",
    "volume :: Float -> Float -> Float -> Float\n",
    "volume a b c = rectangleArea a b * c\n",
    "\n",
    "area :: Float -> Float -> Float -> Float\n",
    "area a b c = rectangleArea a b * 2 + rectangleArea a c * 2 + rectangleArea c b * 2\n",
    "\n",
    "rectangleArea :: Float -> Float -> Float\n",
    "rectangleArea a b = a * b"
   ]
  },
  {
   "cell_type": "markdown",
   "metadata": {},
   "source": [
    "`Cube.hs`"
   ]
  },
  {
   "cell_type": "code",
   "execution_count": null,
   "metadata": {
    "attributes": {
     "classes": [
      "haskell:ghci"
     ],
     "id": "",
     "name": "\"code\""
    }
   },
   "outputs": [],
   "source": [
    "module Geometry.Cube\n",
    "( volume\n",
    ", area\n",
    ") where\n",
    "\n",
    "import qualified Geometry.Cuboid as Cuboid\n",
    "\n",
    "volume :: Float -> Float\n",
    "volume side = Cuboid.volume side side side\n",
    "\n",
    "area :: Float -> Float\n",
    "area side = Cuboid.area side side side"
   ]
  },
  {
   "cell_type": "markdown",
   "metadata": {},
   "source": [
    "Alright! So first is `Geometry.Sphere`. Notice how we placed it in a\n",
    "folder called `Geometry` and then defined the module name as\n",
    "`Geometry.Sphere`. We did the same for the cuboid. Also notice how in all\n",
    "three sub-modules, we defined functions with the same names. We can do\n",
    "this because they're separate modules. We want to use functions from\n",
    "`Geometry.Cuboid` in `Geometry.Cube` but we can't just straight up do\n",
    "`import Geometry.Cuboid` because it exports functions with the same names as\n",
    "`Geometry.Cube`. That's why we do a qualified import and all is well.\n",
    "\n",
    "So now if we're in a file that's on the same level as the `Geometry`\n",
    "folder, we can do, say:"
   ]
  },
  {
   "cell_type": "code",
   "execution_count": null,
   "metadata": {
    "attributes": {
     "classes": [
      "haskell:ghci"
     ],
     "id": "",
     "name": "\"code\""
    }
   },
   "outputs": [],
   "source": [
    "import Geometry.Sphere"
   ]
  },
  {
   "cell_type": "markdown",
   "metadata": {},
   "source": [
    "And then we can call `area` and `volume` and they'll give us the area and\n",
    "volume for a sphere. And if we want to juggle two or more of these\n",
    "modules, we have to do qualified imports because they export functions\n",
    "with the same names. So we just do something like:"
   ]
  },
  {
   "cell_type": "code",
   "execution_count": null,
   "metadata": {
    "attributes": {
     "classes": [
      "haskell:ghci"
     ],
     "id": "",
     "name": "\"code\""
    }
   },
   "outputs": [],
   "source": [
    "import qualified Geometry.Sphere as Sphere\n",
    "import qualified Geometry.Cuboid as Cuboid\n",
    "import qualified Geometry.Cube as Cube"
   ]
  },
  {
   "cell_type": "markdown",
   "metadata": {},
   "source": [
    "And then we can call `Sphere.area`, `Sphere.volume`, `Cuboid.area`, etc. and\n",
    "each will calculate the area or volume for their corresponding object.\n",
    "\n",
    "The next time you find yourself writing a file that's really big and has\n",
    "a lot of functions, try to see which functions serve some common purpose\n",
    "and then see if you can put them in their own module. You'll be able to\n",
    "just import your module the next time you're writing a program that\n",
    "requires some of the same functionality."
   ]
  }
 ],
 "metadata": {
  "kernelspec": {
   "display_name": "Haskell",
   "language": "haskell",
   "name": "haskell"
  },
  "language_info": {
   "codemirror_mode": "ihaskell",
   "file_extension": ".hs",
   "name": "haskell",
   "pygments_lexer": "Haskell",
   "version": "8.6.5"
  }
 },
 "nbformat": 4,
 "nbformat_minor": 2
}
