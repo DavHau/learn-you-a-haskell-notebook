{
 "cells": [
  {
   "cell_type": "markdown",
   "metadata": {},
   "source": [
    "For a Few Monads More\n",
    "=====================\n",
    "\n",
    "![there are two kinds of people in the world, my friend. those who learn\n",
    "them a haskell and those who have the job of coding\n",
    "java](img/clint.png)\n",
    "\n",
    "We've seen how monads can be used to take values with contexts and apply\n",
    "them to functions and how using `>>=` or `do` notation allows us to focus\n",
    "on the values themselves while the context gets handled for us.\n",
    "\n",
    "We've met the `Maybe` monad and seen how it adds a context of possible\n",
    "failure to values. We've learned about the list monad and saw how it\n",
    "lets us easily introduce non-determinism into our programs. We've also\n",
    "learned how to work in the `IO` monad, even before we knew what a monad\n",
    "was!\n",
    "\n",
    "In this chapter, we're going to learn about a few other monads. We'll\n",
    "see how they can make our programs clearer by letting us treat all sorts\n",
    "of values as monadic ones. Exploring a few monads more will also\n",
    "solidify our intuition for monads.\n",
    "\n",
    "The monads that we'll be exploring are all part of the `mtl` package. A\n",
    "Haskell package is a collection of modules. The `mtl` package comes with\n",
    "the Haskell Platform, so you probably already have it. To check if you\n",
    "do, type `ghc-pkg list` in the command-line. This will show which Haskell\n",
    "packages you have installed and one of them should be `mtl`, followed by a\n",
    "version number.\n",
    "\n",
    "Writer? I hardly know her!\n",
    "--------------------------\n",
    "\n",
    "We've loaded our gun with the `Maybe` monad, the list monad and the `IO`\n",
    "monad. Now let's put the `Writer` monad in the chamber and see what\n",
    "happens when we fire it!\n",
    "\n",
    "Whereas `Maybe` is for values with an added context of failure and the\n",
    "list is for non-deterministic values, the `Writer` monad is for values\n",
    "that have another value attached that acts as a sort of log value.\n",
    "`Writer` allows us to do computations while making sure that all the log\n",
    "values are combined into one log value that then gets attached to the\n",
    "result.\n",
    "\n",
    "For instance, we might want to equip our values with strings that\n",
    "explain what's going on, probably for debugging purposes. Consider a\n",
    "function that takes a number of bandits in a gang and tells us if that's\n",
    "a big gang or not. That's a very simple function:"
   ]
  },
  {
   "cell_type": "code",
   "execution_count": null,
   "metadata": {
    "attributes": {
     "classes": [
      "haskell:hs"
     ],
     "id": "",
     "name": "\"code\""
    }
   },
   "outputs": [],
   "source": [
    "isBigGang :: Int -> Bool\n",
    "isBigGang x = x > 9"
   ]
  },
  {
   "cell_type": "markdown",
   "metadata": {},
   "source": [
    "Now, what if instead of just giving us a `True` or `False` value, we want it\n",
    "to also return a log string that says what it did? Well, we just make\n",
    "that string and return it alongside our `Bool`:"
   ]
  },
  {
   "cell_type": "code",
   "execution_count": null,
   "metadata": {
    "attributes": {
     "classes": [
      "haskell:hs"
     ],
     "id": "",
     "name": "\"code\""
    }
   },
   "outputs": [],
   "source": [
    "isBigGang :: Int -> (Bool, String)\n",
    "isBigGang x = (x > 9, \"Compared gang size to 9.\")"
   ]
  },
  {
   "cell_type": "markdown",
   "metadata": {},
   "source": [
    "So now instead of just returning a `Bool`, we return a tuple where the\n",
    "first component of the tuple is the actual value and the second\n",
    "component is the string that accompanies that value. There's some added\n",
    "context to our value now. Let's give this a go:"
   ]
  },
  {
   "cell_type": "code",
   "execution_count": null,
   "metadata": {
    "attributes": {
     "classes": [
      "haskell:hs"
     ],
     "id": "",
     "name": "\"code\""
    }
   },
   "outputs": [],
   "source": [
    "ghci> isBigGang 3\n",
    "(False,\"Compared gang size to 9.\")\n",
    "ghci> isBigGang 30\n",
    "(True,\"Compared gang size to 9.\")"
   ]
  },
  {
   "cell_type": "markdown",
   "metadata": {},
   "source": [
    "![when you have to poop, poop, don't\n",
    "talk](img/tuco.png)\n",
    "\n",
    "So far so good. `isBigGang` takes a normal value and returns a value with\n",
    "a context. As we've just seen, feeding it a normal value is not a\n",
    "problem. Now what if we already have a value that has a log string\n",
    "attached to it, such as `(3, \"Smallish gang.\")`, and we want to feed it to\n",
    "`isBigGang`? It seems like once again, we're faced with this question: if\n",
    "we have a function that takes a normal value and returns a value with a\n",
    "context, how do we take a value with a context and feed it to the\n",
    "function?\n",
    "\n",
    "When we were exploring the `Maybe` monad, we made a function `applyMaybe`,\n",
    "which took a `Maybe a` value and a function of type `a -> Maybe b` and fed\n",
    "that `Maybe a` value into the function, even though the function takes a\n",
    "normal `a` instead of a `Maybe a`. It did this by minding the context that\n",
    "comes with `Maybe a` values, which is that they are values with possible\n",
    "failure. But inside the `a -> Maybe b` function, we were able to treat\n",
    "that value as just a normal value, because `applyMaybe` (which later\n",
    "became `>>=`) took care of checking if it was a `Nothing` or a `Just` value.\n",
    "\n",
    "In the same vein, let's make a function that takes a value with an\n",
    "attached log, that is, an `(a,String)` value and a function of type\n",
    "`a -> (b,String)` and feeds that value into the function. We'll call it\n",
    "`applyLog`. But because an `(a,String)` value doesn't carry with it a\n",
    "context of possible failure, but rather a context of an additional log\n",
    "value, `applyLog` is going to make sure that the log of the original value\n",
    "isn't lost, but is joined together with the log of the value that\n",
    "results from the function. Here's the implementation of `applyLog`:"
   ]
  },
  {
   "cell_type": "code",
   "execution_count": null,
   "metadata": {
    "attributes": {
     "classes": [
      "haskell:hs"
     ],
     "id": "",
     "name": "\"code\""
    }
   },
   "outputs": [],
   "source": [
    "applyLog :: (a,String) -> (a -> (b,String)) -> (b,String)\n",
    "applyLog (x,log) f = let (y,newLog) = f x in (y,log ++ newLog)"
   ]
  },
  {
   "cell_type": "markdown",
   "metadata": {},
   "source": [
    "When we have a value with a context and we want to feed it to a\n",
    "function, we usually try to separate the actual value from the context\n",
    "and then try to apply the function to the value and then see that the\n",
    "context is taken care of. In the `Maybe` monad, we checked if the value\n",
    "was a `Just x` and if it was, we took that `x` and applied the function to\n",
    "it. In this case, it's very easy to find the actual value, because we're\n",
    "dealing with a pair where one component is the value and the other a\n",
    "log. So first we just take the value, which is `x` and we apply the\n",
    "function `f` to it. We get a pair of `(y,newLog)`, where `y` is the new result\n",
    "and `newLog` the new log. But if we returned that as the result, the old\n",
    "log value wouldn't be included in the result, so we return a pair of\n",
    "`(y,log ++ newLog)`. We use `++` to append the new log to the old one.\n",
    "\n",
    "Here's `applyLog` in action:"
   ]
  },
  {
   "cell_type": "code",
   "execution_count": null,
   "metadata": {
    "attributes": {
     "classes": [
      "haskell:hs"
     ],
     "id": "",
     "name": "\"code\""
    }
   },
   "outputs": [],
   "source": [
    "ghci> (3, \"Smallish gang.\") `applyLog` isBigGang\n",
    "(False,\"Smallish gang.Compared gang size to 9\")\n",
    "ghci> (30, \"A freaking platoon.\") `applyLog` isBigGang\n",
    "(True,\"A freaking platoon.Compared gang size to 9\")"
   ]
  },
  {
   "cell_type": "markdown",
   "metadata": {},
   "source": [
    "The results are similar to before, only now the number of people in the\n",
    "gang had its accompanying log and it got included in the result log.\n",
    "Here are a few more examples of using `applyLog`:"
   ]
  },
  {
   "cell_type": "code",
   "execution_count": null,
   "metadata": {
    "attributes": {
     "classes": [
      "haskell:hs"
     ],
     "id": "",
     "name": "\"code\""
    }
   },
   "outputs": [],
   "source": [
    "ghci> (\"Tobin\",\"Got outlaw name.\") `applyLog` (\\x -> (length x, \"Applied length.\"))\n",
    "(5,\"Got outlaw name.Applied length.\")\n",
    "ghci> (\"Bathcat\",\"Got outlaw name.\") `applyLog` (\\x -> (length x, \"Applied length\"))\n",
    "(7,\"Got outlaw name.Applied length\")"
   ]
  },
  {
   "cell_type": "markdown",
   "metadata": {},
   "source": [
    "See how inside the lambda, `x` is just a normal string and not a tuple and\n",
    "how `applyLog` takes care of appending the logs.\n",
    "\n",
    "### Monoids to the rescue\n",
    "\n",
    "> Be sure you know what [monoids](#monoids) are at this point! Cheers.\n",
    "\n",
    "Right now, `applyLog` takes values of type `(a,String)`, but is there a\n",
    "reason that the log has to be a `String`? It uses `++` to append the logs,\n",
    "so wouldn't this work on any kind of list, not just a list of\n",
    "characters? Sure it would. We can go ahead and change its type to this:"
   ]
  },
  {
   "cell_type": "code",
   "execution_count": null,
   "metadata": {
    "attributes": {
     "classes": [
      "haskell:hs"
     ],
     "id": "",
     "name": "\"code\""
    }
   },
   "outputs": [],
   "source": [
    "applyLog :: (a,[c]) -> (a -> (b,[c])) -> (b,[c])"
   ]
  },
  {
   "cell_type": "markdown",
   "metadata": {},
   "source": [
    "Now, the log is a list. The type of values contained in the list has to\n",
    "be the same for the original list as well as for the list that the\n",
    "function returns, otherwise we wouldn't be able to use `++` to stick them\n",
    "together.\n",
    "\n",
    "Would this work for bytestrings? There's no reason it shouldn't.\n",
    "However, the type we have now only works for lists. It seems like we'd\n",
    "have to make a separate `applyLog` for bytestrings. But wait! Both lists\n",
    "and bytestrings are monoids. As such, they are both instances of the\n",
    "`Monoid` type class, which means that they implement the `mappend` function.\n",
    "And for both lists and bytestrings, `mappend` is for appending. Watch:"
   ]
  },
  {
   "cell_type": "code",
   "execution_count": null,
   "metadata": {
    "attributes": {
     "classes": [
      "haskell:hs"
     ],
     "id": "",
     "name": "\"code\""
    }
   },
   "outputs": [],
   "source": [
    "ghci> [1,2,3] `mappend` [4,5,6]\n",
    "[1,2,3,4,5,6]\n",
    "ghci> B.pack [99,104,105] `mappend` B.pack [104,117,97,104,117,97]\n",
    "Chunk \"chi\" (Chunk \"huahua\" Empty)"
   ]
  },
  {
   "cell_type": "markdown",
   "metadata": {},
   "source": [
    "Cool! Now our `applyLog` can work for any monoid. We have to change the\n",
    "type to reflect this, as well as the implementation, because we have to\n",
    "change `++` to `mappend`:"
   ]
  },
  {
   "cell_type": "code",
   "execution_count": null,
   "metadata": {
    "attributes": {
     "classes": [
      "haskell:hs"
     ],
     "id": "",
     "name": "\"code\""
    }
   },
   "outputs": [],
   "source": [
    "applyLog :: (Monoid m) => (a,m) -> (a -> (b,m)) -> (b,m)\n",
    "applyLog (x,log) f = let (y,newLog) = f x in (y,log `mappend` newLog)"
   ]
  },
  {
   "cell_type": "markdown",
   "metadata": {},
   "source": [
    "Because the accompanying value can now be any monoid value, we no longer\n",
    "have to think of the tuple as a value and a log, but now we can think of\n",
    "it as a value with an accompanying monoid value. For instance, we can\n",
    "have a tuple that has an item name and an item price as the monoid\n",
    "value. We just use the `Sum` newtype to make sure that the prices get\n",
    "added as we operate with the items. Here's a function that adds drink to\n",
    "some cowboy food:"
   ]
  },
  {
   "cell_type": "code",
   "execution_count": null,
   "metadata": {
    "attributes": {
     "classes": [
      "haskell:hs"
     ],
     "id": "",
     "name": "\"code\""
    }
   },
   "outputs": [],
   "source": [
    "import Data.Monoid\n",
    "\n",
    "type Food = String\n",
    "type Price = Sum Int\n",
    "\n",
    "addDrink :: Food -> (Food,Price)\n",
    "addDrink \"beans\" = (\"milk\", Sum 25)\n",
    "addDrink \"jerky\" = (\"whiskey\", Sum 99)\n",
    "addDrink _ = (\"beer\", Sum 30)"
   ]
  },
  {
   "cell_type": "markdown",
   "metadata": {},
   "source": [
    "We use strings to represent foods and an `Int` in a `Sum` `newtype` wrapper to\n",
    "keep track of how many cents something costs. Just a reminder, doing\n",
    "`mappend` with `Sum` results in the wrapped values getting added together:"
   ]
  },
  {
   "cell_type": "code",
   "execution_count": null,
   "metadata": {
    "attributes": {
     "classes": [
      "haskell:hs"
     ],
     "id": "",
     "name": "\"code\""
    }
   },
   "outputs": [],
   "source": [
    "ghci> Sum 3 `mappend` Sum 9\n",
    "Sum {getSum = 12}"
   ]
  },
  {
   "cell_type": "markdown",
   "metadata": {},
   "source": [
    "The `addDrink` function is pretty simple. If we're eating beans, it\n",
    "returns `\"milk\"` along with `Sum 25`, so 25 cents wrapped in `Sum`. If we're\n",
    "eating jerky we drink whiskey and if we're eating anything else we drink\n",
    "beer. Just normally applying this function to a food wouldn't be\n",
    "terribly interesting right now, but using `applyLog` to feed a food that\n",
    "comes with a price itself into this function is interesting:"
   ]
  },
  {
   "cell_type": "code",
   "execution_count": null,
   "metadata": {
    "attributes": {
     "classes": [
      "haskell:hs"
     ],
     "id": "",
     "name": "\"code\""
    }
   },
   "outputs": [],
   "source": [
    "ghci> (\"beans\", Sum 10) `applyLog` addDrink\n",
    "(\"milk\",Sum {getSum = 35})\n",
    "ghci> (\"jerky\", Sum 25) `applyLog` addDrink\n",
    "(\"whiskey\",Sum {getSum = 124})\n",
    "ghci> (\"dogmeat\", Sum 5) `applyLog` addDrink\n",
    "(\"beer\",Sum {getSum = 35})"
   ]
  },
  {
   "cell_type": "markdown",
   "metadata": {},
   "source": [
    "Milk costs `25` cents, but if we eat it with beans that cost `10` cents,\n",
    "we'll end up paying `35` cents. Now it's clear how the attached value\n",
    "doesn't always have to be a log, it can be any monoid value and how two\n",
    "such values are combined into one depends on the monoid. When we were\n",
    "doing logs, they got appended, but now, the numbers are being added up.\n",
    "\n",
    "Because the value that `addDrink` returns is a tuple of type `(Food,Price)`,\n",
    "we can feed that result to `addDrink` again, so that it tells us what we\n",
    "should drink along with our drink and how much that will cost us. Let's\n",
    "give it a shot:"
   ]
  },
  {
   "cell_type": "code",
   "execution_count": null,
   "metadata": {
    "attributes": {
     "classes": [
      "haskell:hs"
     ],
     "id": "",
     "name": "\"code\""
    }
   },
   "outputs": [],
   "source": [
    "ghci> (\"dogmeat\", Sum 5) `applyLog` addDrink `applyLog` addDrink\n",
    "(\"beer\",Sum {getSum = 65})"
   ]
  },
  {
   "cell_type": "markdown",
   "metadata": {},
   "source": [
    "Adding a drink to some dog meat results in a beer and an additional `30`\n",
    "cents, so `(\"beer\", Sum 35)`. And if we use `applyLog` to feed that to\n",
    "`addDrink`, we get another beer and the result is `(\"beer\", Sum 65)`.\n",
    "\n",
    "### The `Writer` type\n",
    "\n",
    "Now that we've seen that a value with an attached monoid acts like a\n",
    "monadic value, let's examine the `Monad` instance for types of such\n",
    "values. The `Control.Monad.Writer` module exports the `Writer w a` type\n",
    "along with its `Monad` instance and some useful functions for dealing with\n",
    "values of this type.\n",
    "\n",
    "First, let's examine the type itself. To attach a monoid to a value, we\n",
    "just need to put them together in a tuple. The `Writer w a` type is just a\n",
    "`newtype` wrapper for this. Its definition is very simple:"
   ]
  },
  {
   "cell_type": "code",
   "execution_count": null,
   "metadata": {
    "attributes": {
     "classes": [
      "haskell:hs"
     ],
     "id": "",
     "name": "\"code\""
    }
   },
   "outputs": [],
   "source": [
    "newtype Writer w a = Writer { runWriter :: (a, w) }"
   ]
  },
  {
   "cell_type": "markdown",
   "metadata": {},
   "source": [
    "It's wrapped in a `newtype` so that it can be made an instance of `Monad`\n",
    "and that its type is separate from a normal tuple. The `a` type parameter\n",
    "represents the type of the value and the `w` type parameter the type of\n",
    "the attached monoid value.\n",
    "\n",
    "Its `Monad` instance is defined like so:"
   ]
  },
  {
   "cell_type": "code",
   "execution_count": null,
   "metadata": {
    "attributes": {
     "classes": [
      "haskell:hs"
     ],
     "id": "",
     "name": "\"code\""
    }
   },
   "outputs": [],
   "source": [
    "instance (Monoid w) => Monad (Writer w) where\n",
    "    return x = Writer (x, mempty)\n",
    "    (Writer (x,v)) >>= f = let (Writer (y, v')) = f x in Writer (y, v `mappend` v')"
   ]
  },
  {
   "cell_type": "markdown",
   "metadata": {},
   "source": [
    "![when you have to poop, poop, don't\n",
    "talk](img/angeleyes.png)\n",
    "\n",
    "First off, let's examine `>>=`. Its implementation is essentially the\n",
    "same as `applyLog`, only now that our tuple is wrapped in the\n",
    "`Writer newtype`, we have to unwrap it when pattern matching. We take the value `x`\n",
    "and apply the function `f` to it. This gives us a `Writer w a` value and we\n",
    "use a `let` expression to pattern match on it. We present `y` as the new\n",
    "result and use `mappend` to combine the old monoid value with the new one.\n",
    "We pack that up with the result value in a tuple and then wrap that with\n",
    "the `Writer` constructor so that our result is a `Writer` value instead of\n",
    "just an unwrapped tuple.\n",
    "\n",
    "So, what about `return`? It has to take a value and put it in a default\n",
    "minimal context that still presents that value as the result. So what\n",
    "would such a context be for `Writer` values? If we want the accompanying\n",
    "monoid value to affect other monoid values as little as possible, it\n",
    "makes sense to use `mempty`. `mempty` is used to present identity monoid\n",
    "values, such as `\"\"` and `Sum 0` and empty bytestrings. Whenever we use\n",
    "`mappend` between `mempty` and some other monoid value, the result is that\n",
    "other monoid value. So if we use `return` to make a `Writer` value and then\n",
    "use `>>=` to feed that value to a function, the resulting monoid value\n",
    "will be only what the function returns. Let's use `return` on the number `3`\n",
    "a bunch of times, only we'll pair it with a different monoid every time:"
   ]
  },
  {
   "cell_type": "code",
   "execution_count": null,
   "metadata": {
    "attributes": {
     "classes": [
      "haskell:hs"
     ],
     "id": "",
     "name": "\"code\""
    }
   },
   "outputs": [],
   "source": [
    "ghci> runWriter (return 3 :: Writer String Int)\n",
    "(3,\"\")\n",
    "ghci> runWriter (return 3 :: Writer (Sum Int) Int)\n",
    "(3,Sum {getSum = 0})\n",
    "ghci> runWriter (return 3 :: Writer (Product Int) Int)\n",
    "(3,Product {getProduct = 1})"
   ]
  },
  {
   "cell_type": "markdown",
   "metadata": {},
   "source": [
    "Because `Writer` doesn't have a `Show` instance, we had to use `runWriter` to\n",
    "convert our `Writer` values to normal tuples that can be shown. For\n",
    "`String`, the monoid value is the empty string. With `Sum`, it's `0`, because\n",
    "if we add 0 to something, that something stays the same. For `Product`,\n",
    "the identity is `1`.\n",
    "\n",
    "The `Writer` instance doesn't feature an implementation for `fail`, so if a\n",
    "pattern match fails in `do` notation, `error` is called.\n",
    "\n",
    "### Using do notation with Writer\n",
    "\n",
    "Now that we have a `Monad` instance, we're free to use `do` notation for\n",
    "`Writer` values. It's handy for when we have a several `Writer` values and\n",
    "we want to do stuff with them. Like with other monads, we can treat them\n",
    "as normal values and the context gets taken for us. In this case, all\n",
    "the monoid values that come attached get `mappend`ed and so are reflected\n",
    "in the final result. Here's a simple example of using `do` notation with\n",
    "`Writer` to multiply two numbers:"
   ]
  },
  {
   "cell_type": "code",
   "execution_count": null,
   "metadata": {
    "attributes": {
     "classes": [
      "haskell:hs"
     ],
     "id": "",
     "name": "\"code\""
    }
   },
   "outputs": [],
   "source": [
    "import Control.Monad.Writer\n",
    "\n",
    "logNumber :: Int -> Writer [String] Int\n",
    "logNumber x = Writer (x, [\"Got number: \" ++ show x])\n",
    "\n",
    "multWithLog :: Writer [String] Int\n",
    "multWithLog = do\n",
    "    a <- logNumber 3\n",
    "    b <- logNumber 5\n",
    "    return (a*b)"
   ]
  },
  {
   "cell_type": "markdown",
   "metadata": {},
   "source": [
    "`logNumber` takes a number and makes a `Writer` value out of it. For the\n",
    "monoid, we use a list of strings and we equip the number with a\n",
    "singleton list that just says that we have that number. `multWithLog` is a\n",
    "`Writer` value which multiplies `3` and `5` and makes sure that their attached\n",
    "logs get included in the final log. We use `return` to present `a*b` as the\n",
    "result. Because `return` just takes something and puts it in a minimal\n",
    "context, we can be sure that it won't add anything to the log. Here's\n",
    "what we see if we run this:"
   ]
  },
  {
   "cell_type": "code",
   "execution_count": null,
   "metadata": {
    "attributes": {
     "classes": [
      "haskell:hs"
     ],
     "id": "",
     "name": "\"code\""
    }
   },
   "outputs": [],
   "source": [
    "ghci> runWriter multWithLog\n",
    "(15,[\"Got number: 3\",\"Got number: 5\"])"
   ]
  },
  {
   "cell_type": "markdown",
   "metadata": {},
   "source": [
    "Sometimes we just want some monoid value to be included at some\n",
    "particular point. For this, the `tell` function is useful. It's part of\n",
    "the `MonadWriter` type class and in the case of `Writer` it takes a monoid\n",
    "value, like `[\"This is going on\"]` and creates a `Writer` value that\n",
    "presents the dummy value `()` as its result but has our desired monoid\n",
    "value attached. When we have a monadic value that has () as its result,\n",
    "we don't bind it to a variable. Here's `multWithLog` but with some extra\n",
    "reporting included:"
   ]
  },
  {
   "cell_type": "code",
   "execution_count": null,
   "metadata": {
    "attributes": {
     "classes": [
      "haskell:hs"
     ],
     "id": "",
     "name": "\"code\""
    }
   },
   "outputs": [],
   "source": [
    "multWithLog :: Writer [String] Int\n",
    "multWithLog = do\n",
    "    a <- logNumber 3\n",
    "    b <- logNumber 5\n",
    "    tell [\"Gonna multiply these two\"]\n",
    "    return (a*b)"
   ]
  },
  {
   "cell_type": "markdown",
   "metadata": {},
   "source": [
    "It's important that `return (a*b)` is the last line, because the result\n",
    "of the last line in a `do` expression is the result of the whole `do`\n",
    "expression. Had we put `tell` as the last line, `()` would have been the\n",
    "result of this `do` expression. We'd lose the result of the\n",
    "multiplication. However, the log would be the same. Here is this in\n",
    "action:"
   ]
  },
  {
   "cell_type": "code",
   "execution_count": null,
   "metadata": {
    "attributes": {
     "classes": [
      "haskell:hs"
     ],
     "id": "",
     "name": "\"code\""
    }
   },
   "outputs": [],
   "source": [
    "ghci> runWriter multWithLog\n",
    "(15,[\"Got number: 3\",\"Got number: 5\",\"Gonna multiply these two\"])"
   ]
  },
  {
   "cell_type": "markdown",
   "metadata": {},
   "source": [
    "### Adding logging to programs\n",
    "\n",
    "Euclid's algorithm is an algorithm that takes two numbers and computes\n",
    "their greatest common divisor. That is, the biggest number that still\n",
    "divides both of them. Haskell already features the `gcd` function, which\n",
    "does exactly this, but let's implement our own and then equip it with\n",
    "logging capabilities. Here's the normal algorithm:"
   ]
  },
  {
   "cell_type": "code",
   "execution_count": null,
   "metadata": {
    "attributes": {
     "classes": [
      "haskell:hs"
     ],
     "id": "",
     "name": "\"code\""
    }
   },
   "outputs": [],
   "source": [
    "gcd' :: Int -> Int -> Int\n",
    "gcd' a b\n",
    "    | b == 0    = a\n",
    "    | otherwise = gcd' b (a `mod` b)"
   ]
  },
  {
   "cell_type": "markdown",
   "metadata": {},
   "source": [
    "The algorithm is very simple. First, it checks if the second number is\n",
    "0. If it is, then the result is the first number. If it isn't, then the\n",
    "result is the greatest common divisor of the second number and the\n",
    "remainder of dividing the first number with the second one. For\n",
    "instance, if we want to know what the greatest common divisor of 8 and 3\n",
    "is, we just follow the algorithm outlined. Because 3 isn't 0, we have to\n",
    "find the greatest common divisor of 3 and 2 (if we divide 8 by 3, the\n",
    "remainder is 2). Next, we find the greatest common divisor of 3 and 2. 2\n",
    "still isn't 0, so now we have have 2 and 1. The second number isn't 0,\n",
    "so we run the algorithm again for 1 and 0, as dividing 2 by 1 gives us a\n",
    "remainder of 0. And finally, because the second number is now 0, the\n",
    "final result is 1. Let's see if our code agrees:"
   ]
  },
  {
   "cell_type": "code",
   "execution_count": null,
   "metadata": {
    "attributes": {
     "classes": [
      "haskell:hs"
     ],
     "id": "",
     "name": "\"code\""
    }
   },
   "outputs": [],
   "source": [
    "ghci> gcd' 8 3\n",
    "1"
   ]
  },
  {
   "cell_type": "markdown",
   "metadata": {},
   "source": [
    "It does. Very good! Now, we want to equip our result with a context, and\n",
    "the context will be a monoid value that acts as a log. Like before,\n",
    "we'll use a list of strings as our monoid. So the type of our new `gcd'`\n",
    "function should be:"
   ]
  },
  {
   "cell_type": "code",
   "execution_count": null,
   "metadata": {
    "attributes": {
     "classes": [
      "haskell:hs"
     ],
     "id": "",
     "name": "\"code\""
    }
   },
   "outputs": [],
   "source": [
    "gcd' :: Int -> Int -> Writer [String] Int"
   ]
  },
  {
   "cell_type": "markdown",
   "metadata": {},
   "source": [
    "All that's left now is to equip our function with log values. Here's the\n",
    "code:"
   ]
  },
  {
   "cell_type": "code",
   "execution_count": null,
   "metadata": {
    "attributes": {
     "classes": [
      "haskell:hs"
     ],
     "id": "",
     "name": "\"code\""
    }
   },
   "outputs": [],
   "source": [
    "import Control.Monad.Writer\n",
    "\n",
    "gcd' :: Int -> Int -> Writer [String] Int\n",
    "gcd' a b\n",
    "    | b == 0 = do\n",
    "        tell [\"Finished with \" ++ show a]\n",
    "        return a\n",
    "    | otherwise = do\n",
    "        tell [show a ++ \" mod \" ++ show b ++ \" = \" ++ show (a `mod` b)]\n",
    "        gcd' b (a `mod` b)"
   ]
  },
  {
   "cell_type": "markdown",
   "metadata": {},
   "source": [
    "This function takes two normal `Int` values and returns a `Writer [String] Int`,\n",
    "that is, an `Int` that has a log context. In the case where `b` is `0`,\n",
    "instead of just giving `a` as the result, we use a `do` expression to put\n",
    "together a `Writer` value as a result. First we use `tell` to report that\n",
    "we're finished and then we use `return` to present `a` as the result of the\n",
    "`do` expression. Instead of this `do` expression, we could have also written\n",
    "this:"
   ]
  },
  {
   "cell_type": "code",
   "execution_count": null,
   "metadata": {
    "attributes": {
     "classes": [
      "haskell:hs"
     ],
     "id": "",
     "name": "\"code\""
    }
   },
   "outputs": [],
   "source": [
    "Writer (a, [\"Finished with \" ++ show a])"
   ]
  },
  {
   "cell_type": "markdown",
   "metadata": {},
   "source": [
    "However, I think the `do` expression is easier to read. Next, we have the\n",
    "case when `b` isn't `0`. In this case, we log that we're using `mod` to figure\n",
    "out the remainder of dividing `a` and `b`. Then, the second line of the `do`\n",
    "expression just recursively calls `gcd'`. Remember, `gcd'` now ultimately\n",
    "returns a `Writer` value, so it's perfectly valid that\n",
    "``gcd' b (a `mod` b)`` is a line in a `do` expression.\n",
    "\n",
    "While it may be kind of useful to trace the execution of this new `gcd'`\n",
    "by hand to see how the logs get appended, I think it's more insightful\n",
    "to just look at the big picture and view these as values with a context\n",
    "and from that gain insight as to what the final result will be.\n",
    "\n",
    "Let's try our new `gcd'` out. Its result is a `Writer [String] Int` value\n",
    "and if we unwrap that from its `newtype`, we get a tuple. The first part\n",
    "of the tuple is the result. Let's see if it's okay:"
   ]
  },
  {
   "cell_type": "code",
   "execution_count": null,
   "metadata": {
    "attributes": {
     "classes": [
      "haskell:hs"
     ],
     "id": "",
     "name": "\"code\""
    }
   },
   "outputs": [],
   "source": [
    "ghci> fst $ runWriter (gcd' 8 3)\n",
    "1"
   ]
  },
  {
   "cell_type": "markdown",
   "metadata": {},
   "source": [
    "Good! Now what about the log? Because the log is a list of strings,\n",
    "let's use `mapM_ putStrLn` to print those strings to the screen:"
   ]
  },
  {
   "cell_type": "code",
   "execution_count": null,
   "metadata": {
    "attributes": {
     "classes": [
      "haskell:hs"
     ],
     "id": "",
     "name": "\"code\""
    }
   },
   "outputs": [],
   "source": [
    "ghci> mapM_ putStrLn $ snd $ runWriter (gcd' 8 3)\n",
    "8 mod 3 = 2\n",
    "3 mod 2 = 1\n",
    "2 mod 1 = 0\n",
    "Finished with 1"
   ]
  },
  {
   "cell_type": "markdown",
   "metadata": {},
   "source": [
    "I think it's awesome how we were able to change our ordinary algorithm\n",
    "to one that reports what it does as it goes along just by changing\n",
    "normal values to monadic values and letting the implementation of `>>=`\n",
    "for `Writer` take care of the logs for us. We can add a logging mechanism\n",
    "to pretty much any function. We just replace normal values with `Writer`\n",
    "values where we want and change normal function application to `>>=` (or\n",
    "`do` expressions if it increases readability).\n",
    "\n",
    "### Inefficient list construction\n",
    "\n",
    "When using the `Writer` monad, you have to be careful which monoid to use,\n",
    "because using lists can sometimes turn out to be very slow. That's\n",
    "because lists use `++` for `mappend` and using `++` to add something to the\n",
    "end of a list is slow if that list is really long.\n",
    "\n",
    "In our `gcd'` function, the logging is fast because the list appending\n",
    "ends up looking like this:"
   ]
  },
  {
   "cell_type": "code",
   "execution_count": null,
   "metadata": {
    "attributes": {
     "classes": [
      "haskell:hs"
     ],
     "id": "",
     "name": "\"code\""
    }
   },
   "outputs": [],
   "source": [
    "a ++ (b ++ (c ++ (d ++ (e ++ f))))"
   ]
  },
  {
   "cell_type": "markdown",
   "metadata": {},
   "source": [
    "Lists are a data structure that's constructed from left to right, and\n",
    "this is efficient because we first fully construct the left part of a\n",
    "list and only then add a longer list on the right. But if we're not\n",
    "careful, using the `Writer` monad can produce list appending that looks\n",
    "like this:"
   ]
  },
  {
   "cell_type": "code",
   "execution_count": null,
   "metadata": {
    "attributes": {
     "classes": [
      "haskell:hs"
     ],
     "id": "",
     "name": "\"code\""
    }
   },
   "outputs": [],
   "source": [
    "((((a ++ b) ++ c) ++ d) ++ e) ++ f"
   ]
  },
  {
   "cell_type": "markdown",
   "metadata": {},
   "source": [
    "This associates to the left instead of to the right. This is inefficient\n",
    "because every time it wants to add the right part to the left part, it\n",
    "has to construct the left part all the way from the beginning!\n",
    "\n",
    "The following function works like `gcd'`, only it logs stuff in reverse.\n",
    "First it produces the log for the rest of the procedure and then adds\n",
    "the current step to the end of the log."
   ]
  },
  {
   "cell_type": "code",
   "execution_count": null,
   "metadata": {
    "attributes": {
     "classes": [
      "haskell:hs"
     ],
     "id": "",
     "name": "\"code\""
    }
   },
   "outputs": [],
   "source": [
    "import Control.Monad.Writer\n",
    "\n",
    "gcdReverse :: Int -> Int -> Writer [String] Int\n",
    "gcdReverse a b\n",
    "    | b == 0 = do\n",
    "        tell [\"Finished with \" ++ show a]\n",
    "        return a\n",
    "    | otherwise = do\n",
    "        result <- gcdReverse b (a `mod` b)\n",
    "        tell [show a ++ \" mod \" ++ show b ++ \" = \" ++ show (a `mod` b)]\n",
    "        return result"
   ]
  },
  {
   "cell_type": "markdown",
   "metadata": {},
   "source": [
    "It does the recursion first, and binds its `result` value to result. Then\n",
    "it adds the current step to the log, but the current step goes at the\n",
    "end of the log that was produced by the recursion. Finally, it presents\n",
    "the result of the recursion as the final result. Here it is in action:"
   ]
  },
  {
   "cell_type": "code",
   "execution_count": null,
   "metadata": {
    "attributes": {
     "classes": [
      "haskell:hs"
     ],
     "id": "",
     "name": "\"code\""
    }
   },
   "outputs": [],
   "source": [
    "ghci> mapM_ putStrLn $ snd $ runWriter (gcdReverse 8 3)\n",
    "Finished with 1\n",
    "2 mod 1 = 0\n",
    "3 mod 2 = 1\n",
    "8 mod 3 = 2"
   ]
  },
  {
   "cell_type": "markdown",
   "metadata": {},
   "source": [
    "It's inefficient because it ends up associating the use of `++` to the\n",
    "left instead of to the right.\n",
    "\n",
    "### Difference lists\n",
    "\n",
    "![cactuses](img/cactus.png)\n",
    "\n",
    "Because lists can sometimes be inefficient when repeatedly appended in\n",
    "this manner, it's best to use a data structure that always supports\n",
    "efficient appending. One such data structure is the difference list. A\n",
    "difference list is similar to a list, only instead of being a normal\n",
    "list, it's a function that takes a list and prepends another list to it.\n",
    "The difference list equivalent of a list like `[1,2,3]` would be the\n",
    "function `\\xs -> [1,2,3] ++ xs`. A normal empty list is `[]`, whereas an\n",
    "empty difference list is the function `\\xs -> [] ++ xs`.\n",
    "\n",
    "The cool thing about difference lists is that they support efficient\n",
    "appending. When we append two normal lists with `++`, it has to walk all\n",
    "the way to the end of the list on the left of `++` and then stick the\n",
    "other one there. But what if we take the difference list approach and\n",
    "represent our lists as functions? Well then, appending two difference\n",
    "lists can be done like so:"
   ]
  },
  {
   "cell_type": "code",
   "execution_count": null,
   "metadata": {
    "attributes": {
     "classes": [
      "haskell:hs"
     ],
     "id": "",
     "name": "\"code\""
    }
   },
   "outputs": [],
   "source": [
    "f `append` g = \\xs -> f (g xs)"
   ]
  },
  {
   "cell_type": "markdown",
   "metadata": {},
   "source": [
    "Remember, `f` and `g` are functions that take lists and prepend something to\n",
    "them. So, for instance, if `f` is the function `(\"dog\"++)` (just another way\n",
    "of writing `\\xs -> \"dog\" ++ xs`) and `g` the function `(\"meat\"++)`, then\n",
    "``f `append` g`` makes a new function that's equivalent to the following:"
   ]
  },
  {
   "cell_type": "code",
   "execution_count": null,
   "metadata": {
    "attributes": {
     "classes": [
      "haskell:hs"
     ],
     "id": "",
     "name": "\"code\""
    }
   },
   "outputs": [],
   "source": [
    "\\xs -> \"dog\" ++ (\"meat\" ++ xs)"
   ]
  },
  {
   "cell_type": "markdown",
   "metadata": {},
   "source": [
    "We've appended two difference lists just by making a new function that\n",
    "first applies one difference list some list and then the other.\n",
    "\n",
    "Let's make a `newtype` wrapper for difference lists so that we can easily\n",
    "give them monoid instances:"
   ]
  },
  {
   "cell_type": "code",
   "execution_count": null,
   "metadata": {
    "attributes": {
     "classes": [
      "haskell:hs"
     ],
     "id": "",
     "name": "\"code\""
    }
   },
   "outputs": [],
   "source": [
    "newtype DiffList a = DiffList { getDiffList :: [a] -> [a] }"
   ]
  },
  {
   "cell_type": "markdown",
   "metadata": {},
   "source": [
    "The type that we wrap is `[a] -> [a]` because a difference list is just a\n",
    "function that takes a list and returns another. Converting normal lists\n",
    "to difference lists and vice versa is easy:"
   ]
  },
  {
   "cell_type": "code",
   "execution_count": null,
   "metadata": {
    "attributes": {
     "classes": [
      "haskell:hs"
     ],
     "id": "",
     "name": "\"code\""
    }
   },
   "outputs": [],
   "source": [
    "toDiffList :: [a] -> DiffList a\n",
    "toDiffList xs = DiffList (xs++)\n",
    "\n",
    "fromDiffList :: DiffList a -> [a]\n",
    "fromDiffList (DiffList f) = f []"
   ]
  },
  {
   "cell_type": "markdown",
   "metadata": {},
   "source": [
    "To make a normal list into a difference list we just do what we did\n",
    "before and make it a function that prepends it to another list. Because\n",
    "a difference list is a function that prepends something to another list,\n",
    "if we just want that something, we apply the function to an empty list!\n",
    "\n",
    "Here's the `Monoid` instance:"
   ]
  },
  {
   "cell_type": "code",
   "execution_count": null,
   "metadata": {
    "attributes": {
     "classes": [
      "haskell:hs"
     ],
     "id": "",
     "name": "\"code\""
    }
   },
   "outputs": [],
   "source": [
    "instance Monoid (DiffList a) where\n",
    "    mempty = DiffList (\\xs -> [] ++ xs)\n",
    "    (DiffList f) `mappend` (DiffList g) = DiffList (\\xs -> f (g xs))"
   ]
  },
  {
   "cell_type": "markdown",
   "metadata": {},
   "source": [
    "Notice how for lists, `mempty` is just the `id` function and `mappend` is\n",
    "actually just function composition. Let's see if this works:"
   ]
  },
  {
   "cell_type": "code",
   "execution_count": null,
   "metadata": {
    "attributes": {
     "classes": [
      "haskell:hs"
     ],
     "id": "",
     "name": "\"code\""
    }
   },
   "outputs": [],
   "source": [
    "ghci> fromDiffList (toDiffList [1,2,3,4] `mappend` toDiffList [1,2,3])\n",
    "[1,2,3,4,1,2,3]"
   ]
  },
  {
   "cell_type": "markdown",
   "metadata": {},
   "source": [
    "Tip top! Now we can increase the efficiency of our `gcdReverse` function\n",
    "by making it use difference lists instead of normal lists:"
   ]
  },
  {
   "cell_type": "code",
   "execution_count": null,
   "metadata": {
    "attributes": {
     "classes": [
      "haskell:hs"
     ],
     "id": "",
     "name": "\"code\""
    }
   },
   "outputs": [],
   "source": [
    "import Control.Monad.Writer\n",
    "\n",
    "gcd' :: Int -> Int -> Writer (DiffList String) Int\n",
    "gcd' a b\n",
    "    | b == 0 = do\n",
    "        tell (toDiffList [\"Finished with \" ++ show a])\n",
    "        return a\n",
    "    | otherwise = do\n",
    "        result <- gcd' b (a `mod` b)\n",
    "        tell (toDiffList [show a ++ \" mod \" ++ show b ++ \" = \" ++ show (a `mod` b)])\n",
    "        return result"
   ]
  },
  {
   "cell_type": "markdown",
   "metadata": {},
   "source": [
    "We only had to change the type of the monoid from `[String]` to\n",
    "`DiffList String` and then when using `tell`, convert our normal lists into\n",
    "difference lists with `toDiffList`. Let's see if the log gets assembled\n",
    "properly:"
   ]
  },
  {
   "cell_type": "code",
   "execution_count": null,
   "metadata": {
    "attributes": {
     "classes": [
      "haskell:hs"
     ],
     "id": "",
     "name": "\"code\""
    }
   },
   "outputs": [],
   "source": [
    "ghci> mapM_ putStrLn . fromDiffList . snd . runWriter $ gcdReverse 110 34\n",
    "Finished with 2\n",
    "8 mod 2 = 0\n",
    "34 mod 8 = 2\n",
    "110 mod 34 = 8"
   ]
  },
  {
   "cell_type": "markdown",
   "metadata": {},
   "source": [
    "We do `gcdReverse 110 34`, then use `runWriter` to unwrap it from the\n",
    "`newtype`, then apply `snd` to that to just get the log, then apply\n",
    "`fromDiffList` to convert it to a normal list and then finally print its\n",
    "entries to the screen.\n",
    "\n",
    "### Comparing Performance\n",
    "\n",
    "To get a feel for just how much difference lists may improve your\n",
    "performance, consider this function that just counts down from some\n",
    "number to zero, but produces its log in reverse, like `gcdReverse`, so\n",
    "that the numbers in the log will actually be counted up:"
   ]
  },
  {
   "cell_type": "code",
   "execution_count": null,
   "metadata": {
    "attributes": {
     "classes": [
      "haskell:hs"
     ],
     "id": "",
     "name": "\"code\""
    }
   },
   "outputs": [],
   "source": [
    "finalCountDown :: Int -> Writer (DiffList String) ()\n",
    "finalCountDown 0 = do\n",
    "    tell (toDiffList [\"0\"])\n",
    "finalCountDown x = do\n",
    "    finalCountDown (x-1)\n",
    "    tell (toDiffList [show x])"
   ]
  },
  {
   "cell_type": "markdown",
   "metadata": {},
   "source": [
    "If we give it `0`, it just logs it. For any other number, it first counts\n",
    "down its predecessor to `0` and then appends that number to the log. So if\n",
    "we apply `finalCountDown` to `100`, the string `\"100\"` will come last in the\n",
    "log.\n",
    "\n",
    "Anyway, if you load this function in GHCi and apply it to a big number,\n",
    "like `500000`, you'll see that it quickly starts counting from `0` onwards:"
   ]
  },
  {
   "cell_type": "code",
   "execution_count": null,
   "metadata": {
    "attributes": {
     "classes": [
      "haskell:hs"
     ],
     "id": "",
     "name": "\"code\""
    }
   },
   "outputs": [],
   "source": [
    "ghci> mapM_ putStrLn . fromDiffList . snd . runWriter $ finalCountDown 500000\n",
    "0\n",
    "1\n",
    "2\n",
    "..."
   ]
  },
  {
   "cell_type": "markdown",
   "metadata": {},
   "source": [
    "However, if we change it to use normal lists instead of difference\n",
    "lists, like so:"
   ]
  },
  {
   "cell_type": "code",
   "execution_count": null,
   "metadata": {
    "attributes": {
     "classes": [
      "haskell:hs"
     ],
     "id": "",
     "name": "\"code\""
    }
   },
   "outputs": [],
   "source": [
    "finalCountDown :: Int -> Writer [String] ()\n",
    "finalCountDown 0 = do\n",
    "    tell [\"0\"]\n",
    "finalCountDown x = do\n",
    "    finalCountDown (x-1)\n",
    "    tell [show x]"
   ]
  },
  {
   "cell_type": "markdown",
   "metadata": {},
   "source": [
    "And then tell GHCi to start counting:"
   ]
  },
  {
   "cell_type": "code",
   "execution_count": null,
   "metadata": {
    "attributes": {
     "classes": [
      "haskell:hs"
     ],
     "id": "",
     "name": "\"code\""
    }
   },
   "outputs": [],
   "source": [
    "ghci> mapM_ putStrLn . snd . runWriter $ finalCountDown 500000"
   ]
  },
  {
   "cell_type": "markdown",
   "metadata": {},
   "source": [
    "We'll see that the counting is really slow.\n",
    "\n",
    "Of course, this is not the proper and scientific way to test how fast\n",
    "our programs are, but we were able to see that in this case, using\n",
    "difference lists starts producing results right away whereas normal\n",
    "lists take forever.\n",
    "\n",
    "Oh, by the way, the song Final Countdown by Europe is now stuck in your\n",
    "head. Enjoy!\n",
    "\n",
    "Reader? Ugh, not this joke again.\n",
    "---------------------------------\n",
    "\n",
    "![bang youre dead](img/revolver.png)\n",
    "\n",
    "In the [chapter about\n",
    "applicatives](#functors-applicative-functors-and-monoids), we saw that\n",
    "the function type, `(->) r` is an instance of `Functor`. Mapping a function\n",
    "`f` over a function `g` will make a function that takes the same thing as `g`,\n",
    "applies `g` to it and then applies `f` to that result. So basically, we're\n",
    "making a new function that's like `g`, only before returning its result, `f`\n",
    "gets applied to that result as well. For instance:"
   ]
  },
  {
   "cell_type": "code",
   "execution_count": null,
   "metadata": {
    "attributes": {
     "classes": [
      "haskell:hs"
     ],
     "id": "",
     "name": "\"code\""
    }
   },
   "outputs": [],
   "source": [
    "ghci> let f = (*5)\n",
    "ghci> let g = (+3)\n",
    "ghci> (fmap f g) 8\n",
    "55"
   ]
  },
  {
   "cell_type": "markdown",
   "metadata": {},
   "source": [
    "We've also seen that functions are applicative functors. They allow us\n",
    "to operate on the eventual results of functions as if we already had\n",
    "their results. Here's an example:"
   ]
  },
  {
   "cell_type": "code",
   "execution_count": null,
   "metadata": {
    "attributes": {
     "classes": [
      "haskell:hs"
     ],
     "id": "",
     "name": "\"code\""
    }
   },
   "outputs": [],
   "source": [
    "ghci> let f = (+) <$> (*2) <*> (+10)\n",
    "ghci> f 3\n",
    "19"
   ]
  },
  {
   "cell_type": "markdown",
   "metadata": {},
   "source": [
    "The expression `(+) <$> (*2) <*> (+10)` makes a function that takes\n",
    "a number, gives that number to `(*2)` and `(+10)` and then adds together\n",
    "the results. For instance, if we apply this function to `3`, it applies\n",
    "both `(*2)` and `(+10)` to `3`, giving `6` and `13`. Then, it calls `(+)` with `6`\n",
    "and `13` and the result is `19`.\n",
    "\n",
    "Not only is the function type `(->) r` a functor and an applicative\n",
    "functor, but it's also a monad. Just like other monadic values that\n",
    "we've met so far, a function can also be considered a value with a\n",
    "context. The context for functions is that that value is not present yet\n",
    "and that we have to apply that function to something in order to get its\n",
    "result value.\n",
    "\n",
    "Because we're already acquainted with how functions work as functors and\n",
    "applicative functors, let's dive right in and see what their `Monad`\n",
    "instance looks like. It's located in `Control.Monad.Instances` and it goes\n",
    "a little something like this:"
   ]
  },
  {
   "cell_type": "code",
   "execution_count": null,
   "metadata": {
    "attributes": {
     "classes": [
      "haskell:hs"
     ],
     "id": "",
     "name": "\"code\""
    }
   },
   "outputs": [],
   "source": [
    "instance Monad ((->) r) where\n",
    "    return x = \\_ -> x\n",
    "    h >>= f = \\w -> f (h w) w"
   ]
  },
  {
   "cell_type": "markdown",
   "metadata": {},
   "source": [
    "We've already seen how `pure` is implemented for functions, and `return` is\n",
    "pretty much the same thing as `pure`. It takes a value and puts it in a\n",
    "minimal context that always has that value as its result. And the only\n",
    "way to make a function that always has a certain value as its result is\n",
    "to make it completely ignore its parameter.\n",
    "\n",
    "The implementation for `>>=` seems a bit cryptic, but it's really not\n",
    "all that. When we use `>>=` to feed a monadic value to a function, the\n",
    "result is always a monadic value. So in this case, when we feed a\n",
    "function to another function, the result is a function as well. That's\n",
    "why the result starts off as a lambda. All of the implementations of\n",
    "`>>=` so far always somehow isolated the result from the monadic value\n",
    "and then applied the function `f` to that result. The same thing happens\n",
    "here. To get the result from a function, we have to apply it to\n",
    "something, which is why we do `(h w)` here to get the result from the\n",
    "function and then we apply `f` to that. `f` returns a monadic value, which\n",
    "is a function in our case, so we apply it to `w` as well.\n",
    "\n",
    "If don't get how `>>=` works at this point, don't worry, because with\n",
    "examples we'll see how this is a really simple monad. Here's a `do`\n",
    "expression that utilizes this monad:"
   ]
  },
  {
   "cell_type": "code",
   "execution_count": null,
   "metadata": {
    "attributes": {
     "classes": [
      "haskell:hs"
     ],
     "id": "",
     "name": "\"code\""
    }
   },
   "outputs": [],
   "source": [
    "import Control.Monad.Instances\n",
    "\n",
    "addStuff :: Int -> Int\n",
    "addStuff = do\n",
    "    a <- (*2)\n",
    "    b <- (+10)\n",
    "    return (a+b)"
   ]
  },
  {
   "cell_type": "markdown",
   "metadata": {},
   "source": [
    "This is the same thing as the applicative expression that we wrote\n",
    "earlier, only now it relies on functions being monads. A `do` expression\n",
    "always results in a monadic value and this one is no different. The\n",
    "result of this monadic value is a function. What happens here is that it\n",
    "takes a number and then `(*2)` gets applied to that number and the result\n",
    "becomes `a`. `(+10)` is applied to the same number that `(*2)` got applied to\n",
    "and the result becomes `b`. `return`, like in other monads, doesn't have any\n",
    "other effect but to make a monadic value that presents some result. This\n",
    "presents `a+b` as the result of this function. If we test it out, we get\n",
    "the same result as before:"
   ]
  },
  {
   "cell_type": "code",
   "execution_count": null,
   "metadata": {
    "attributes": {
     "classes": [
      "haskell:hs"
     ],
     "id": "",
     "name": "\"code\""
    }
   },
   "outputs": [],
   "source": [
    "ghci> addStuff 3\n",
    "19"
   ]
  },
  {
   "cell_type": "markdown",
   "metadata": {},
   "source": [
    "Both `(*2)` and `(+10)` get applied to the number `3` in this case.\n",
    "`return (a+b)` does as well, but it ignores it and always presents `a+b` as the\n",
    "result. For this reason, the function monad is also called the reader\n",
    "monad. All the functions read from a common source. To illustrate this\n",
    "even better, we can rewrite `addStuff` like so:"
   ]
  },
  {
   "cell_type": "code",
   "execution_count": null,
   "metadata": {
    "attributes": {
     "classes": [
      "haskell:hs"
     ],
     "id": "",
     "name": "\"code\""
    }
   },
   "outputs": [],
   "source": [
    "addStuff :: Int -> Int\n",
    "addStuff x = let\n",
    "    a = (*2) x\n",
    "    b = (+10) x\n",
    "    in a+b"
   ]
  },
  {
   "cell_type": "markdown",
   "metadata": {},
   "source": [
    "We see that the reader monad allows us to treat functions as values with\n",
    "a context. We can act as if we already know what the functions will\n",
    "return. It does this by gluing functions together into one function and\n",
    "then giving that function's parameter to all of the functions that it\n",
    "was glued from. So if we have a lot of functions that are all just\n",
    "missing one parameter and they'd eventually be applied to the same\n",
    "thing, we can use the reader monad to sort of extract their future\n",
    "results and the `>>=` implementation will make sure that it all works\n",
    "out.\n",
    "\n",
    "Tasteful stateful computations\n",
    "------------------------------\n",
    "\n",
    "![don't jest with texas](img/texas.png)\n",
    "\n",
    "Haskell is a pure language and because of that, our programs are made of\n",
    "functions that can't change any global state or variables, they can only\n",
    "do some computations and return them results. This restriction actually\n",
    "makes it easier to think about our programs, as it frees us from\n",
    "worrying what every variable's value is at some point in time. However,\n",
    "some problems are inherently stateful in that they rely on some state\n",
    "that changes over time. While such problems aren't a problem for\n",
    "Haskell, they can be a bit tedious to model sometimes. That's why\n",
    "Haskell features a thing called the state monad, which makes dealing\n",
    "with stateful problems a breeze while still keeping everything nice and\n",
    "pure.\n",
    "\n",
    "[When we were dealing with random numbers](#randomness),\n",
    "we dealt with functions that took a random generator as a parameter and\n",
    "returned a random number and a new random generator. If we wanted to\n",
    "generate several random numbers, we always had to use the random\n",
    "generator that a previous function returned along with its result. When\n",
    "making a function that takes a `StdGen` and tosses a coin three times\n",
    "based on that generator, we had to do this:"
   ]
  },
  {
   "cell_type": "code",
   "execution_count": null,
   "metadata": {
    "attributes": {
     "classes": [
      "haskell:hs"
     ],
     "id": "",
     "name": "\"code\""
    }
   },
   "outputs": [],
   "source": [
    "threeCoins :: StdGen -> (Bool, Bool, Bool)\n",
    "threeCoins gen =\n",
    "    let (firstCoin, newGen) = random gen\n",
    "        (secondCoin, newGen') = random newGen\n",
    "        (thirdCoin, newGen'') = random newGen'\n",
    "    in  (firstCoin, secondCoin, thirdCoin)"
   ]
  },
  {
   "cell_type": "markdown",
   "metadata": {},
   "source": [
    "It took a generator `gen` and then `random gen` returned a `Bool` value along\n",
    "with a new generator. To throw the second coin, we used the new\n",
    "generator, and so on. In most other languages, we wouldn't have to\n",
    "return a new generator along with a random number. We could just modify\n",
    "the existing one! But since Haskell is pure, we can't do that, so we had\n",
    "to take some state, make a result from it and a new state and then use\n",
    "that new state to generate new results.\n",
    "\n",
    "You'd think that to avoid manually dealing with stateful computations in\n",
    "this way, we'd have to give up the purity of Haskell. Well, we don't\n",
    "have to, since there exist a special little monad called the state monad\n",
    "which handles all this state business for us and without giving up any\n",
    "of the purity that makes Haskell programming so cool.\n",
    "\n",
    "So, to help us understand this concept of stateful computations better,\n",
    "let's go ahead and give them a type. We'll say that a stateful\n",
    "computation is a function that takes some state and returns a value\n",
    "along with some new state. That function would have the following type:"
   ]
  },
  {
   "cell_type": "code",
   "execution_count": null,
   "metadata": {
    "attributes": {
     "classes": [
      "haskell:hs"
     ],
     "id": "",
     "name": "\"code\""
    }
   },
   "outputs": [],
   "source": [
    "s -> (a,s)"
   ]
  },
  {
   "cell_type": "markdown",
   "metadata": {},
   "source": [
    "`s` is the type of the state and `a` the result of the stateful\n",
    "computations.\n",
    "\n",
    "> Assignment in most other languages could be thought of as a stateful\n",
    "> computation. For instance, when we do `x = 5` in an imperative language,\n",
    "> it will usually assign the value `5` to the variable `x` and it will also\n",
    "> have the value `5` as an expression. If you look at that functionally, you\n",
    "> could look at it as a function that takes a state (that is, all the\n",
    "> variables that have been assigned previously) and returns a result (in\n",
    "> this case `5`) and a new state, which would be all the previous variable\n",
    "> mappings plus the newly assigned variable.\n",
    "\n",
    "This stateful computation, a function that takes a state and returns a\n",
    "result and a new state, can be thought of as a value with a context as\n",
    "well. The actual value is the result, whereas the context is that we\n",
    "have to provide some initial state to actually get that result and that\n",
    "apart from getting a result we also get a new state.\n",
    "\n",
    "### Stacks and stones\n",
    "\n",
    "Say we want to model operating a stack. You have a stack of things one\n",
    "on top of another and you can either push stuff on top of that stack or\n",
    "you can take stuff off the top of the stack. When you're putting an item\n",
    "on top of the stack we say that you're pushing it to the stack and when\n",
    "you're taking stuff off the top we say that you're popping it. If you\n",
    "want to something that's at the bottom of the stack, you have to pop\n",
    "everything that's above it.\n",
    "\n",
    "We'll use a list to represent our stack and the head of the list will be\n",
    "the top of the stack. To help us with our task, we'll make two\n",
    "functions: `pop` and `push`. `pop` will take a stack, pop one item and return\n",
    "that item as the result and also return a new stack, without that item.\n",
    "`push` will take an item and a stack and then push that item onto the\n",
    "stack. It will return `()` as its result, along with a new stack. Here\n",
    "goes:"
   ]
  },
  {
   "cell_type": "code",
   "execution_count": null,
   "metadata": {
    "attributes": {
     "classes": [
      "haskell:hs"
     ],
     "id": "",
     "name": "\"code\""
    }
   },
   "outputs": [],
   "source": [
    "type Stack = [Int]\n",
    "\n",
    "pop :: Stack -> (Int,Stack)\n",
    "pop (x:xs) = (x,xs)\n",
    "\n",
    "push :: Int -> Stack -> ((),Stack)\n",
    "push a xs = ((),a:xs)"
   ]
  },
  {
   "cell_type": "markdown",
   "metadata": {},
   "source": [
    "We used `()` as the result when pushing to the stack because pushing an\n",
    "item onto the stack doesn't have any important result value, its main\n",
    "job is to change the stack. Notice how we just apply the first parameter\n",
    "of `push`, we get a stateful computation. `pop` is already a stateful\n",
    "computation because of its type.\n",
    "\n",
    "Let's write a small piece of code to simulate a stack using these\n",
    "functions. We'll take a stack, push 3 to it and then pop two items, just\n",
    "for kicks. Here it is:"
   ]
  },
  {
   "cell_type": "code",
   "execution_count": null,
   "metadata": {
    "attributes": {
     "classes": [
      "haskell:hs"
     ],
     "id": "",
     "name": "\"code\""
    }
   },
   "outputs": [],
   "source": [
    "stackManip :: Stack -> (Int, Stack)\n",
    "stackManip stack = let\n",
    "    ((),newStack1) = push 3 stack\n",
    "    (a ,newStack2) = pop newStack1\n",
    "    in pop newStack2"
   ]
  },
  {
   "cell_type": "markdown",
   "metadata": {},
   "source": [
    "We take a `stack` and then we do `push 3 stack`, which results in a tuple.\n",
    "The first part of the tuple is a `()` and the second is a new stack and we\n",
    "call it `newStack1`. Then, we pop a number from `newStack1`, which results\n",
    "in a number `a` (which is the `3`) that we pushed and a new stack which we\n",
    "call `newStack2`. Then, we pop a number off `newStack2` and we get a number\n",
    "that's `b` and a `newStack3`. We return a tuple with that number and that\n",
    "stack. Let's try it out:"
   ]
  },
  {
   "cell_type": "code",
   "execution_count": null,
   "metadata": {
    "attributes": {
     "classes": [
      "haskell:hs"
     ],
     "id": "",
     "name": "\"code\""
    }
   },
   "outputs": [],
   "source": [
    "ghci> stackManip [5,8,2,1]\n",
    "(5,[8,2,1])"
   ]
  },
  {
   "cell_type": "markdown",
   "metadata": {},
   "source": [
    "Cool, the result is `5` and the new stack is `[8,2,1]`. Notice how\n",
    "`stackManip` is itself a stateful computation. We've taken a bunch of\n",
    "stateful computations and we've sort of glued them together. Hmm, sounds\n",
    "familiar.\n",
    "\n",
    "The above code for `stackManip` is kind of tedious since we're manually\n",
    "giving the state to every stateful computation and storing it and then\n",
    "giving it to the next one. Wouldn't it be cooler if, instead of giving\n",
    "the stack manually to each function, we could write something like this:"
   ]
  },
  {
   "cell_type": "code",
   "execution_count": null,
   "metadata": {
    "attributes": {
     "classes": [
      "haskell:hs"
     ],
     "id": "",
     "name": "\"code\""
    }
   },
   "outputs": [],
   "source": [
    "stackManip = do\n",
    "    push 3\n",
    "    a <- pop\n",
    "    pop"
   ]
  },
  {
   "cell_type": "markdown",
   "metadata": {},
   "source": [
    "Well, using the state monad will allow us to do exactly this. With it,\n",
    "we will be able to take stateful computations like these and use them\n",
    "without having to manage the state manually.\n",
    "\n",
    "### The State monad\n",
    "\n",
    "The `Control.Monad.State` module provides a `newtype` that wraps stateful\n",
    "computations. Here's its definition:"
   ]
  },
  {
   "cell_type": "code",
   "execution_count": null,
   "metadata": {
    "attributes": {
     "classes": [
      "haskell:hs"
     ],
     "id": "",
     "name": "\"code\""
    }
   },
   "outputs": [],
   "source": [
    "newtype State s a = State { runState :: s -> (a,s) }"
   ]
  },
  {
   "cell_type": "markdown",
   "metadata": {},
   "source": [
    "A `State s a` is a stateful computation that manipulates a state of type `s`\n",
    "and has a result of type `a`.\n",
    "\n",
    "Now that we've seen what stateful computations are about and how they\n",
    "can even be thought of as values with contexts, let's check out their\n",
    "`Monad` instance:"
   ]
  },
  {
   "cell_type": "code",
   "execution_count": null,
   "metadata": {
    "attributes": {
     "classes": [
      "haskell:hs"
     ],
     "id": "",
     "name": "\"code\""
    }
   },
   "outputs": [],
   "source": [
    "instance Monad (State s) where\n",
    "    return x = State $ \\s -> (x,s)\n",
    "    (State h) >>= f = State $ \\s -> let (a, newState) = h s\n",
    "                                        (State g) = f a\n",
    "                                    in  g newState"
   ]
  },
  {
   "cell_type": "markdown",
   "metadata": {},
   "source": [
    "Let's take a gander at `return` first. Our aim with `return` is to take a\n",
    "value and make a stateful computation that always has that value as its\n",
    "result. That's why we just make a lambda `\\s -> (x,s)`. We always\n",
    "present `x` as the result of the stateful computation and the state is\n",
    "kept unchanged, because `return` has to put a value in a minimal context.\n",
    "So `return` will make a stateful computation that presents a certain value\n",
    "as the result and keeps the state unchanged.\n",
    "\n",
    "![im a cop](img/badge.png)\n",
    "\n",
    "What about `>>=`? Well, the result of feeding a stateful computation to\n",
    "a function with `>>=` has to be a stateful computation, right? So we\n",
    "start off with the `State` `newtype` wrapper and then we type out a lambda.\n",
    "This lambda will be our new stateful computation. But what goes on in\n",
    "it? Well, we somehow have to extract the result value from the first\n",
    "stateful computation. Because we're in a stateful computation right now,\n",
    "we can give the stateful computation `h` our current state `s`, which\n",
    "results in a pair of result and a new state: `(a, newState)`. Every time\n",
    "so far when we were implementing `>>=`, once we had the extracted the\n",
    "result from the monadic value, we applied the function `f` to it to get\n",
    "the new monadic value. In `Writer`, after doing that and getting the new\n",
    "monadic value, we still had to make sure that the context was taken care\n",
    "of by `mappend`ing the old monoid value with the new one. Here, we do `f a`\n",
    "and we get a new stateful computation `g`. Now that we have a new stateful\n",
    "computation and a new state (goes by the name of `newState`) we just apply\n",
    "that stateful computation `g` to the `newState`. The result is a tuple of\n",
    "final result and final state!\n",
    "\n",
    "So with `>>=`, we kind of glue two stateful computations together, only\n",
    "the second one is hidden inside a function that takes the previous one's\n",
    "result. Because `pop` and `push` are already stateful computations, it's\n",
    "easy to wrap them into a `State` wrapper. Watch:"
   ]
  },
  {
   "cell_type": "code",
   "execution_count": null,
   "metadata": {
    "attributes": {
     "classes": [
      "haskell:hs"
     ],
     "id": "",
     "name": "\"code\""
    }
   },
   "outputs": [],
   "source": [
    "import Control.Monad.State\n",
    "\n",
    "pop :: State Stack Int\n",
    "pop = State $ \\(x:xs) -> (x,xs)\n",
    "\n",
    "push :: Int -> State Stack ()\n",
    "push a = State $ \\xs -> ((),a:xs)"
   ]
  },
  {
   "cell_type": "markdown",
   "metadata": {},
   "source": [
    "`pop` is already a stateful computation and `push` takes an `Int` and returns\n",
    "a stateful computation. Now we can rewrite our previous example of\n",
    "pushing `3` onto the stack and then popping two numbers off like this:"
   ]
  },
  {
   "cell_type": "code",
   "execution_count": null,
   "metadata": {
    "attributes": {
     "classes": [
      "haskell:hs"
     ],
     "id": "",
     "name": "\"code\""
    }
   },
   "outputs": [],
   "source": [
    "import Control.Monad.State\n",
    "\n",
    "stackManip :: State Stack Int\n",
    "stackManip = do\n",
    "    push 3\n",
    "    a <- pop\n",
    "    pop"
   ]
  },
  {
   "cell_type": "markdown",
   "metadata": {},
   "source": [
    "See how we've glued a push and two pops into one stateful computation?\n",
    "When we unwrap it from its `newtype` wrapper we get a function to which we\n",
    "can provide some initial state:"
   ]
  },
  {
   "cell_type": "code",
   "execution_count": null,
   "metadata": {
    "attributes": {
     "classes": [
      "haskell:hs"
     ],
     "id": "",
     "name": "\"code\""
    }
   },
   "outputs": [],
   "source": [
    "ghci> runState stackManip [5,8,2,1]\n",
    "(5,[8,2,1])"
   ]
  },
  {
   "cell_type": "markdown",
   "metadata": {},
   "source": [
    "We didn't have to bind the second `pop` to `a` because we didn't use that `a`\n",
    "at all. So we could have written it like this:"
   ]
  },
  {
   "cell_type": "code",
   "execution_count": null,
   "metadata": {
    "attributes": {
     "classes": [
      "haskell:hs"
     ],
     "id": "",
     "name": "\"code\""
    }
   },
   "outputs": [],
   "source": [
    "stackManip :: State Stack Int\n",
    "stackManip = do\n",
    "    push 3\n",
    "    pop\n",
    "    pop"
   ]
  },
  {
   "cell_type": "markdown",
   "metadata": {},
   "source": [
    "Pretty cool. But what if we want to do this: pop one number off the\n",
    "stack and then if that number is `5` we just put it back onto the stack\n",
    "and stop but if it isn't `5`, we push `3` and `8` back on? Well, here's the\n",
    "code:"
   ]
  },
  {
   "cell_type": "code",
   "execution_count": null,
   "metadata": {
    "attributes": {
     "classes": [
      "haskell:hs"
     ],
     "id": "",
     "name": "\"code\""
    }
   },
   "outputs": [],
   "source": [
    "stackStuff :: State Stack ()\n",
    "stackStuff = do\n",
    "    a <- pop\n",
    "    if a == 5\n",
    "        then push 5\n",
    "        else do\n",
    "            push 3\n",
    "            push 8"
   ]
  },
  {
   "cell_type": "markdown",
   "metadata": {},
   "source": [
    "This is quite straightforward. Let's run it with an initial stack."
   ]
  },
  {
   "cell_type": "code",
   "execution_count": null,
   "metadata": {
    "attributes": {
     "classes": [
      "haskell:hs"
     ],
     "id": "",
     "name": "\"code\""
    }
   },
   "outputs": [],
   "source": [
    "ghci> runState stackStuff [9,0,2,1,0]\n",
    "((),[8,3,0,2,1,0])"
   ]
  },
  {
   "cell_type": "markdown",
   "metadata": {},
   "source": [
    "Remember, `do` expressions result in monadic values and with the `State`\n",
    "monad, a single `do` expression is also a stateful function. Because\n",
    "`stackManip` and `stackStuff` are ordinary stateful computations, we can\n",
    "glue them together to produce further stateful computations."
   ]
  },
  {
   "cell_type": "code",
   "execution_count": null,
   "metadata": {
    "attributes": {
     "classes": [
      "haskell:hs"
     ],
     "id": "",
     "name": "\"code\""
    }
   },
   "outputs": [],
   "source": [
    "moreStack :: State Stack ()\n",
    "moreStack = do\n",
    "    a <- stackManip\n",
    "    if a == 100\n",
    "        then stackStuff\n",
    "        else return ()"
   ]
  },
  {
   "cell_type": "markdown",
   "metadata": {},
   "source": [
    "If the result of `stackManip` on the current stack is `100`, we run\n",
    "`stackStuff`, otherwise we do nothing. `return ()` just keeps the state as\n",
    "it is and does nothing.\n",
    "\n",
    "The `Control.Monad.State` module provides a type class that's called\n",
    "`MonadState` and it features two pretty useful functions, namely `get` and\n",
    "`put`. For `State`, the `get` function is implemented like this:"
   ]
  },
  {
   "cell_type": "code",
   "execution_count": null,
   "metadata": {
    "attributes": {
     "classes": [
      "haskell:hs"
     ],
     "id": "",
     "name": "\"code\""
    }
   },
   "outputs": [],
   "source": [
    "get = State $ \\s -> (s,s)"
   ]
  },
  {
   "cell_type": "markdown",
   "metadata": {},
   "source": [
    "So it just takes the current state and presents it as the result. The\n",
    "`put` function takes some state and makes a stateful function that\n",
    "replaces the current state with it:"
   ]
  },
  {
   "cell_type": "code",
   "execution_count": null,
   "metadata": {
    "attributes": {
     "classes": [
      "haskell:hs"
     ],
     "id": "",
     "name": "\"code\""
    }
   },
   "outputs": [],
   "source": [
    "put newState = State $ \\s -> ((),newState)"
   ]
  },
  {
   "cell_type": "markdown",
   "metadata": {},
   "source": [
    "So with these, we can see what the current stack is or we can replace it\n",
    "with a whole other stack. Like so:"
   ]
  },
  {
   "cell_type": "code",
   "execution_count": null,
   "metadata": {
    "attributes": {
     "classes": [
      "haskell:hs"
     ],
     "id": "",
     "name": "\"code\""
    }
   },
   "outputs": [],
   "source": [
    "stackyStack :: State Stack ()\n",
    "stackyStack = do\n",
    "    stackNow <- get\n",
    "    if stackNow == [1,2,3]\n",
    "        then put [8,3,1]\n",
    "        else put [9,2,1]"
   ]
  },
  {
   "cell_type": "markdown",
   "metadata": {},
   "source": [
    "It's worth examining what the type of `>>=` would be if it only worked\n",
    "for `State` values:"
   ]
  },
  {
   "cell_type": "code",
   "execution_count": null,
   "metadata": {
    "attributes": {
     "classes": [
      "haskell:hs"
     ],
     "id": "",
     "name": "\"code\""
    }
   },
   "outputs": [],
   "source": [
    "(>>=) :: State s a -> (a -> State s b) -> State s b"
   ]
  },
  {
   "cell_type": "markdown",
   "metadata": {},
   "source": [
    "See how the type of the state `s` stays the same but the type of the\n",
    "result can change from `a` to `b`? This means that we can glue together\n",
    "several stateful computations whose results are of different types but\n",
    "the type of the state has to stay the same. Now why is that? Well, for\n",
    "instance, for `Maybe`, `>>=` has this type:"
   ]
  },
  {
   "cell_type": "code",
   "execution_count": null,
   "metadata": {
    "attributes": {
     "classes": [
      "haskell:hs"
     ],
     "id": "",
     "name": "\"code\""
    }
   },
   "outputs": [],
   "source": [
    "(>>=) :: Maybe a -> (a -> Maybe b) -> Maybe b"
   ]
  },
  {
   "cell_type": "markdown",
   "metadata": {},
   "source": [
    "It makes sense that the monad itself, `Maybe`, doesn't change. It wouldn't\n",
    "make sense to use `>>=` between two different monads. Well, for the\n",
    "state monad, the monad is actually `State s`, so if that `s` was different,\n",
    "we'd be using `>>=` between two different monads.\n",
    "\n",
    "### Randomness and the state monad\n",
    "\n",
    "At the beginning of this section, we saw how generating numbers can\n",
    "sometimes be awkward because every random function takes a generator and\n",
    "returns a random number along with a new generator, which must then be\n",
    "used instead of the old one if we want to generate another random\n",
    "number. The state monad makes dealing with this a lot easier.\n",
    "\n",
    "The `random` function from `System.Random` has the following type:"
   ]
  },
  {
   "cell_type": "code",
   "execution_count": null,
   "metadata": {
    "attributes": {
     "classes": [
      "haskell:hs"
     ],
     "id": "",
     "name": "\"code\""
    }
   },
   "outputs": [],
   "source": [
    "random :: (RandomGen g, Random a) => g -> (a, g)"
   ]
  },
  {
   "cell_type": "markdown",
   "metadata": {},
   "source": [
    "Meaning it takes a random generator and produces a random number along\n",
    "with a new generator. We can see that it's a stateful computation, so we\n",
    "can wrap it in the `State` `newtype` constructor and then use it as a\n",
    "monadic value so that passing of the state gets handled for us:"
   ]
  },
  {
   "cell_type": "code",
   "execution_count": null,
   "metadata": {
    "attributes": {
     "classes": [
      "haskell:hs"
     ],
     "id": "",
     "name": "\"code\""
    }
   },
   "outputs": [],
   "source": [
    "import System.Random\n",
    "import Control.Monad.State\n",
    "\n",
    "randomSt :: (RandomGen g, Random a) => State g a\n",
    "randomSt = State random"
   ]
  },
  {
   "cell_type": "markdown",
   "metadata": {},
   "source": [
    "So now if we want to throw three coins (`True` is tails, `False` is heads)\n",
    "we just do the following:"
   ]
  },
  {
   "cell_type": "code",
   "execution_count": null,
   "metadata": {
    "attributes": {
     "classes": [
      "haskell:hs"
     ],
     "id": "",
     "name": "\"code\""
    }
   },
   "outputs": [],
   "source": [
    "import System.Random\n",
    "import Control.Monad.State\n",
    "\n",
    "threeCoins :: State StdGen (Bool,Bool,Bool)\n",
    "threeCoins = do\n",
    "    a <- randomSt\n",
    "    b <- randomSt\n",
    "    c <- randomSt\n",
    "    return (a,b,c)"
   ]
  },
  {
   "cell_type": "markdown",
   "metadata": {},
   "source": [
    "`threeCoins` is now a stateful computations and after taking an initial\n",
    "random generator, it passes it to the first `randomSt`, which produces a\n",
    "number and a new generator, which gets passed to the next one and so on.\n",
    "We use `return (a,b,c)` to present `(a,b,c)` as the result without changing\n",
    "the most recent generator. Let's give this a go:"
   ]
  },
  {
   "cell_type": "code",
   "execution_count": null,
   "metadata": {
    "attributes": {
     "classes": [
      "haskell:hs"
     ],
     "id": "",
     "name": "\"code\""
    }
   },
   "outputs": [],
   "source": [
    "ghci> runState threeCoins (mkStdGen 33)\n",
    "((True,False,True),680029187 2103410263)"
   ]
  },
  {
   "cell_type": "markdown",
   "metadata": {},
   "source": [
    "Nice. Doing these sort of things that require some state to be kept in\n",
    "between steps just became much less of a hassle!\n",
    "\n",
    "Error error on the wall\n",
    "-----------------------\n",
    "\n",
    "We know by now that `Maybe` is used to add a context of possible failure\n",
    "to values. A value can be a `Just something` or a `Nothing`. However useful\n",
    "it may be, when we have a `Nothing`, all we know is that there was some\n",
    "sort of failure, but there's no way to cram some more info in there\n",
    "telling us what kind of failure it was or why it failed.\n",
    "\n",
    "The `Either e a` type on the other hand, allows us to incorporate a\n",
    "context of possible failure to our values while also being able to\n",
    "attach values to the failure, so that they can describe what went wrong\n",
    "or provide some other useful info regarding the failure. An `Either e a`\n",
    "value can either be a `Right` value, signifying the right answer and a\n",
    "success, or it can be a `Left` value, signifying failure. For instance:"
   ]
  },
  {
   "cell_type": "code",
   "execution_count": null,
   "metadata": {
    "attributes": {
     "classes": [
      "haskell:hs"
     ],
     "id": "",
     "name": "\"code\""
    }
   },
   "outputs": [],
   "source": [
    "ghci> :t Right 4\n",
    "Right 4 :: (Num t) => Either a t\n",
    "ghci> :t Left \"out of cheese error\"\n",
    "Left \"out of cheese error\" :: Either [Char] b"
   ]
  },
  {
   "cell_type": "markdown",
   "metadata": {},
   "source": [
    "This is pretty much just an enhanced `Maybe`, so it makes sense for it to\n",
    "be a monad, because it can also be viewed as a value with an added\n",
    "context of possible failure, only now there's a value attached when\n",
    "there's an error as well.\n",
    "\n",
    "Its `Monad` instance is similar to that of `Maybe` and it can be found in\n",
    "`Control.Monad.Error`:"
   ]
  },
  {
   "cell_type": "code",
   "execution_count": null,
   "metadata": {
    "attributes": {
     "classes": [
      "haskell:hs"
     ],
     "id": "",
     "name": "\"code\""
    }
   },
   "outputs": [],
   "source": [
    "instance (Error e) => Monad (Either e) where\n",
    "    return x = Right x\n",
    "    Right x >>= f = f x\n",
    "    Left err >>= f = Left err\n",
    "    fail msg = Left (strMsg msg)"
   ]
  },
  {
   "cell_type": "markdown",
   "metadata": {},
   "source": [
    "`return`, as always, takes a value and puts it in a default minimal\n",
    "context. It wraps our value in the `Right` constructor because we're using\n",
    "`Right` to represent a successful computation where a result is present.\n",
    "This is a lot like `return` for `Maybe`.\n",
    "\n",
    "The `>>=` examines two possible cases: a `Left` and a `Right`. In the case\n",
    "of a `Right`, the function `f` is applied to the value inside it, similar to\n",
    "how in the case of a `Just`, the function is just applied to its contents.\n",
    "In the case of an error, the `Left` value is kept, along with its\n",
    "contents, which describe the failure.\n",
    "\n",
    "The `Monad` instance for `Either e` makes an additional requirement, and\n",
    "that is that the type of the value contained in a `Left`, the one that's\n",
    "indexed by the `e` type parameter, has to be an instance of the `Error` type\n",
    "class. The `Error` type class is for types whose values can act like error\n",
    "messages. It defines the `strMsg` function, which takes an error in the\n",
    "form of a string and returns such a value. A good example of an `Error`\n",
    "instance is, well, the `String` type! In the case of `String`, the `strMsg`\n",
    "function just returns the string that it got:"
   ]
  },
  {
   "cell_type": "code",
   "execution_count": null,
   "metadata": {
    "attributes": {
     "classes": [
      "haskell:hs"
     ],
     "id": "",
     "name": "\"code\""
    }
   },
   "outputs": [],
   "source": [
    "ghci> :t strMsg\n",
    "strMsg :: (Error a) => String -> a\n",
    "ghci> strMsg \"boom!\" :: String\n",
    "\"boom!\""
   ]
  },
  {
   "cell_type": "markdown",
   "metadata": {},
   "source": [
    "But since we usually use `String` to describe the error when using `Either`,\n",
    "we don't have to worry about this too much. When a pattern match fails\n",
    "in `do` notation, a `Left` value is used to signify this failure.\n",
    "\n",
    "Anyway, here are a few examples of usage:"
   ]
  },
  {
   "cell_type": "code",
   "execution_count": null,
   "metadata": {
    "attributes": {
     "classes": [
      "haskell:hs"
     ],
     "id": "",
     "name": "\"code\""
    }
   },
   "outputs": [],
   "source": [
    "ghci> Left \"boom\" >>= \\x -> return (x+1)\n",
    "Left \"boom\"\n",
    "ghci> Right 100 >>= \\x -> Left \"no way!\"\n",
    "Left \"no way!\""
   ]
  },
  {
   "cell_type": "markdown",
   "metadata": {},
   "source": [
    "When we use `>>=` to feed a `Left` value to a function, the function is\n",
    "ignored and an identical `Left` value is returned. When we feed a `Right`\n",
    "value to a function, the function gets applied to what's on the inside,\n",
    "but in this case that function produced a `Left` value anyway!\n",
    "\n",
    "When we try to feed a `Right` value to a function that also succeeds,\n",
    "we're tripped up by a peculiar type error! Hmmm."
   ]
  },
  {
   "cell_type": "code",
   "execution_count": null,
   "metadata": {
    "attributes": {
     "classes": [
      "haskell:hs"
     ],
     "id": "",
     "name": "\"code\""
    }
   },
   "outputs": [],
   "source": [
    "ghci> Right 3 >>= \\x -> return (x + 100)\n",
    "\n",
    "<interactive>:1:0:\n",
    "    Ambiguous type variable `a' in the constraints:\n",
    "      `Error a' arising from a use of `it' at <interactive>:1:0-33\n",
    "      `Show a' arising from a use of `print' at <interactive>:1:0-33\n",
    "    Probable fix: add a type signature that fixes these type variable(s)"
   ]
  },
  {
   "cell_type": "markdown",
   "metadata": {},
   "source": [
    "Haskell says that it doesn't know which type to choose for the `e` part of\n",
    "our `Either e a` typed value, even though we're just printing the `Right`\n",
    "part. This is due to the `Error e` constraint on the `Monad` instance. So if\n",
    "you get type errors like this one when using `Either` as a monad, just add\n",
    "an explicit type signature:"
   ]
  },
  {
   "cell_type": "code",
   "execution_count": null,
   "metadata": {
    "attributes": {
     "classes": [
      "haskell:hs"
     ],
     "id": "",
     "name": "\"code\""
    }
   },
   "outputs": [],
   "source": [
    "ghci> Right 3 >>= \\x -> return (x + 100) :: Either String Int\n",
    "Right 103"
   ]
  },
  {
   "cell_type": "markdown",
   "metadata": {},
   "source": [
    "Alright, now it works!\n",
    "\n",
    "Other than this little hangup, using this monad is very similar to using\n",
    "`Maybe` as a monad. In the previous chapter, we used the monadic aspects\n",
    "of `Maybe` to simulate birds landing on the balancing pole of a tightrope\n",
    "walker. As an exercise, you can rewrite that with the error monad so\n",
    "that when the tightrope walker slips and falls, we remember how many\n",
    "birds were on each side of the pole when he fell.\n",
    "\n",
    "Some useful monadic functions\n",
    "-----------------------------\n",
    "\n",
    "In this section, we're going to explore a few functions that either\n",
    "operate on monadic values or return monadic values as their results (or\n",
    "both!). Such functions are usually referred to as monadic functions.\n",
    "While some of them will be brand new, others will be monadic\n",
    "counterparts of functions that we already know, like `filter` and `foldl`.\n",
    "Let's see what they are then!\n",
    "\n",
    "### liftM and friends\n",
    "\n",
    "![im a cop too](img/wolf.png)\n",
    "\n",
    "When we started our journey to the top of Monad Mountain, we first\n",
    "looked at functors, which are for things that can be mapped over. Then,\n",
    "we learned about improved functors called applicative functors, which\n",
    "allowed us to apply normal functions between several applicative values\n",
    "as well as to take a normal value and put it in some default context.\n",
    "Finally, we introduced monads as improved applicative functors, which\n",
    "added the ability for these values with context to somehow be fed into\n",
    "normal functions.\n",
    "\n",
    "So every monad is an applicative functor and every applicative functor\n",
    "is a functor. The `Applicative` type class has a class constraint such\n",
    "that our type has to be an instance of `Functor` before we can make it an\n",
    "instance of `Applicative`. But even though `Monad` should have the same\n",
    "constraint for `Applicative`, as every monad is an applicative functor, it\n",
    "doesn't, because the `Monad` type class was introduced to Haskell way\n",
    "before `Applicative`.\n",
    "\n",
    "But even though every monad is a functor, we don't have to rely on it\n",
    "having a `Functor` instance because of the `liftM` function. `liftM` takes a\n",
    "function and a monadic value and maps it over the monadic value. So it's\n",
    "pretty much the same thing as `fmap`! This is `liftM`'s type:"
   ]
  },
  {
   "cell_type": "code",
   "execution_count": null,
   "metadata": {
    "attributes": {
     "classes": [
      "haskell:hs"
     ],
     "id": "",
     "name": "\"code\""
    }
   },
   "outputs": [],
   "source": [
    "liftM :: (Monad m) => (a -> b) -> m a -> m b"
   ]
  },
  {
   "cell_type": "markdown",
   "metadata": {},
   "source": [
    "And this is the type of `fmap`:"
   ]
  },
  {
   "cell_type": "code",
   "execution_count": null,
   "metadata": {
    "attributes": {
     "classes": [
      "haskell:hs"
     ],
     "id": "",
     "name": "\"code\""
    }
   },
   "outputs": [],
   "source": [
    "fmap :: (Functor f) => (a -> b) -> f a -> f b"
   ]
  },
  {
   "cell_type": "markdown",
   "metadata": {},
   "source": [
    "If the `Functor` and `Monad` instances for a type obey the functor and monad\n",
    "laws, these two amount to the same thing (and all the monads that we've\n",
    "met so far obey both). This is kind of like `pure` and `return` do the same\n",
    "thing, only one has an `Applicative` class constraint whereas the other\n",
    "has a `Monad` one. Let's try `liftM` out:"
   ]
  },
  {
   "cell_type": "code",
   "execution_count": null,
   "metadata": {
    "attributes": {
     "classes": [
      "haskell:hs"
     ],
     "id": "",
     "name": "\"code\""
    }
   },
   "outputs": [],
   "source": [
    "ghci> liftM (*3) (Just 8)\n",
    "Just 24\n",
    "ghci> fmap (*3) (Just 8)\n",
    "Just 24\n",
    "ghci> runWriter $ liftM not $ Writer (True, \"chickpeas\")\n",
    "(False,\"chickpeas\")\n",
    "ghci> runWriter $ fmap not $ Writer (True, \"chickpeas\")\n",
    "(False,\"chickpeas\")\n",
    "ghci> runState (liftM (+100) pop) [1,2,3,4]\n",
    "(101,[2,3,4])\n",
    "ghci> runState (fmap (+100) pop) [1,2,3,4]\n",
    "(101,[2,3,4])"
   ]
  },
  {
   "cell_type": "markdown",
   "metadata": {},
   "source": [
    "We already know quite well how `fmap` works with `Maybe` values. And `liftM`\n",
    "does the same thing. For `Writer` values, the function is mapped over the\n",
    "first component of the tuple, which is the result. Doing `fmap` or `liftM`\n",
    "over a stateful computation results in another stateful computation,\n",
    "only its eventual result is modified by the supplied function. Had we\n",
    "not mapped `(+100)` over `pop` in this case before running it, it would have\n",
    "returned `(1,[2,3,4])`.\n",
    "\n",
    "This is how `liftM` is implemented:"
   ]
  },
  {
   "cell_type": "code",
   "execution_count": null,
   "metadata": {
    "attributes": {
     "classes": [
      "haskell:hs"
     ],
     "id": "",
     "name": "\"code\""
    }
   },
   "outputs": [],
   "source": [
    "liftM :: (Monad m) => (a -> b) -> m a -> m b\n",
    "liftM f m = m >>= (\\x -> return (f x))"
   ]
  },
  {
   "cell_type": "markdown",
   "metadata": {},
   "source": [
    "Or with `do` notation:"
   ]
  },
  {
   "cell_type": "code",
   "execution_count": null,
   "metadata": {
    "attributes": {
     "classes": [
      "haskell:hs"
     ],
     "id": "",
     "name": "\"code\""
    }
   },
   "outputs": [],
   "source": [
    "liftM :: (Monad m) => (a -> b) -> m a -> m b\n",
    "liftM f m = do\n",
    "    x <- m\n",
    "    return (f x)"
   ]
  },
  {
   "cell_type": "markdown",
   "metadata": {},
   "source": [
    "We feed the monadic value `m` into the function and then we apply the\n",
    "function `f` to its result before putting it back into a default context.\n",
    "Because of the monad laws, this is guaranteed not to change the context,\n",
    "only the result that the monadic value presents. We see that `liftM` is\n",
    "implemented without referencing the `Functor` type class at all. This\n",
    "means that we can implement `fmap` (or `liftM`, whatever you want to call\n",
    "it) just by using the goodies that monads offer us. Because of this, we\n",
    "can conclude that monads are stronger than just regular old functors.\n",
    "\n",
    "The `Applicative` type class allows us to apply functions between values\n",
    "with contexts as if they were normal values. Like this:"
   ]
  },
  {
   "cell_type": "code",
   "execution_count": null,
   "metadata": {
    "attributes": {
     "classes": [
      "haskell:hs"
     ],
     "id": "",
     "name": "\"code\""
    }
   },
   "outputs": [],
   "source": [
    "ghci> (+) <$> Just 3 <*> Just 5\n",
    "Just 8\n",
    "ghci> (+) <$> Just 3 <*> Nothing\n",
    "Nothing"
   ]
  },
  {
   "cell_type": "markdown",
   "metadata": {},
   "source": [
    "Using this applicative style makes things pretty easy. `<$>` is just\n",
    "`fmap` and `<*>` is a function from the `Applicative` type class that has\n",
    "the following type:"
   ]
  },
  {
   "cell_type": "code",
   "execution_count": null,
   "metadata": {
    "attributes": {
     "classes": [
      "haskell:hs"
     ],
     "id": "",
     "name": "\"code\""
    }
   },
   "outputs": [],
   "source": [
    "(<*>) :: (Applicative f) => f (a -> b) -> f a -> f b"
   ]
  },
  {
   "cell_type": "markdown",
   "metadata": {},
   "source": [
    "So it's kind of like `fmap`, only the function itself is in a context. We\n",
    "have to somehow extract it from the context and map it over the `f a`\n",
    "value and then assemble the context back together. Because all functions\n",
    "are curried in Haskell by default, we can use the combination of `<$>`\n",
    "and `<*>` to apply functions that take several parameters between\n",
    "applicative values.\n",
    "\n",
    "Anyway, it turns out that just like `fmap`, `<*>` can also be implemented\n",
    "by using only what the `Monad` type class give us. The `ap` function is\n",
    "basically `<*>`, only it has a `Monad` constraint instead of an\n",
    "`Applicative` one. Here's its definition:"
   ]
  },
  {
   "cell_type": "code",
   "execution_count": null,
   "metadata": {
    "attributes": {
     "classes": [
      "haskell:hs"
     ],
     "id": "",
     "name": "\"code\""
    }
   },
   "outputs": [],
   "source": [
    "ap :: (Monad m) => m (a -> b) -> m a -> m b\n",
    "ap mf m = do\n",
    "    f <- mf\n",
    "    x <- m\n",
    "    return (f x)"
   ]
  },
  {
   "cell_type": "markdown",
   "metadata": {},
   "source": [
    "`mf` is a monadic value whose result is a function. Because the function\n",
    "is in a context as well as the value, we get the function from the\n",
    "context and call it `f`, then get the value and call that `x` and then\n",
    "finally apply the function to the value and present that as a result.\n",
    "Here's a quick demonstration:"
   ]
  },
  {
   "cell_type": "code",
   "execution_count": null,
   "metadata": {
    "attributes": {
     "classes": [
      "haskell:hs"
     ],
     "id": "",
     "name": "\"code\""
    }
   },
   "outputs": [],
   "source": [
    "ghci> Just (+3) <*> Just 4\n",
    "Just 7\n",
    "ghci> Just (+3) `ap` Just 4\n",
    "Just 7\n",
    "ghci> [(+1),(+2),(+3)] <*> [10,11]\n",
    "[11,12,12,13,13,14]\n",
    "ghci> [(+1),(+2),(+3)] `ap` [10,11]\n",
    "[11,12,12,13,13,14]"
   ]
  },
  {
   "cell_type": "markdown",
   "metadata": {},
   "source": [
    "Now we see that monads are stronger than applicatives as well, because\n",
    "we can use the functions from `Monad` to implement the ones for\n",
    "`Applicative`. In fact, many times when a type is found to be a monad,\n",
    "people first write up a `Monad` instance and then make an `Applicative`\n",
    "instance by just saying that `pure` is `return` and `<*>` is `ap`. Similarly,\n",
    "if you already have a `Monad` instance for something, you can give it a\n",
    "`Functor` instance just saying that `fmap` is `liftM`.\n",
    "\n",
    "The `liftA2` function is a convenience function for applying a function\n",
    "between two applicative values. It's defined simply like so:"
   ]
  },
  {
   "cell_type": "code",
   "execution_count": null,
   "metadata": {
    "attributes": {
     "classes": [
      "haskell:hs"
     ],
     "id": "",
     "name": "\"code\""
    }
   },
   "outputs": [],
   "source": [
    "liftA2 :: (Applicative f) => (a -> b -> c) -> f a -> f b -> f c\n",
    "liftA2 f x y = f <$> x <*> y"
   ]
  },
  {
   "cell_type": "markdown",
   "metadata": {},
   "source": [
    "The `liftM2` function does the same thing, only it has a `Monad` constraint.\n",
    "There also exist `liftM3` and `liftM4` and `liftM5`.\n",
    "\n",
    "We saw how monads are stronger than applicatives and functors and how\n",
    "even though all monads are functors and applicative functors, they don't\n",
    "necessarily have `Functor` and `Applicative` instances, so we examined the\n",
    "monadic equivalents of the functions that functors and applicative\n",
    "functors use.\n",
    "\n",
    "### The join function\n",
    "\n",
    "Here's some food for thought: if the result of one monadic value is\n",
    "another monadic value i.e. if one monadic value is nested inside the\n",
    "other, can you flatten them to just a single normal monadic value? Like,\n",
    "if we have `Just (Just 9)`, can we make that into `Just 9`? It turns out\n",
    "that any nested monadic value can be flattened and that this is actually\n",
    "a property unique to monads. For this, the `join` function exists. Its\n",
    "type is this:"
   ]
  },
  {
   "cell_type": "code",
   "execution_count": null,
   "metadata": {
    "attributes": {
     "classes": [
      "haskell:hs"
     ],
     "id": "",
     "name": "\"code\""
    }
   },
   "outputs": [],
   "source": [
    "join :: (Monad m) => m (m a) -> m a"
   ]
  },
  {
   "cell_type": "markdown",
   "metadata": {},
   "source": [
    "So it takes a monadic value within a monadic value and gives us just a\n",
    "monadic value, so it sort of flattens it. Here it is with some `Maybe`\n",
    "values:"
   ]
  },
  {
   "cell_type": "code",
   "execution_count": null,
   "metadata": {
    "attributes": {
     "classes": [
      "haskell:hs"
     ],
     "id": "",
     "name": "\"code\""
    }
   },
   "outputs": [],
   "source": [
    "ghci> join (Just (Just 9))\n",
    "Just 9\n",
    "ghci> join (Just Nothing)\n",
    "Nothing\n",
    "ghci> join Nothing\n",
    "Nothing"
   ]
  },
  {
   "cell_type": "markdown",
   "metadata": {},
   "source": [
    "The first line has a successful computation as a result of a successful\n",
    "computation, so they're both just joined into one big successful\n",
    "computation. The second line features a `Nothing` as a result of a `Just`\n",
    "value. Whenever we were dealing with `Maybe` values before and we wanted\n",
    "to combine several of them into one, be it with `<*>` or `>>=`, they\n",
    "all had to be `Just` values for the result to be a `Just` value. If there\n",
    "was any failure along the way, the result was a failure and the same\n",
    "thing happens here. In the third line, we try to flatten what is from\n",
    "the onset a failure, so the result is a failure as well.\n",
    "\n",
    "Flattening lists is pretty intuitive:"
   ]
  },
  {
   "cell_type": "code",
   "execution_count": null,
   "metadata": {
    "attributes": {
     "classes": [
      "haskell:hs"
     ],
     "id": "",
     "name": "\"code\""
    }
   },
   "outputs": [],
   "source": [
    "ghci> join [[1,2,3],[4,5,6]]\n",
    "[1,2,3,4,5,6]"
   ]
  },
  {
   "cell_type": "markdown",
   "metadata": {},
   "source": [
    "As you can see, for lists, `join` is just `concat`. To flatten a `Writer`\n",
    "value whose result is a `Writer` value itself, we have to `mappend` the\n",
    "monoid value."
   ]
  },
  {
   "cell_type": "code",
   "execution_count": null,
   "metadata": {
    "attributes": {
     "classes": [
      "haskell:hs"
     ],
     "id": "",
     "name": "\"code\""
    }
   },
   "outputs": [],
   "source": [
    "ghci> runWriter $ join (Writer (Writer (1,\"aaa\"),\"bbb\"))\n",
    "(1,\"bbbaaa\")"
   ]
  },
  {
   "cell_type": "markdown",
   "metadata": {},
   "source": [
    "The outer monoid value `\"bbb\"` comes first and then to it `\"aaa\"` is\n",
    "appended. Intuitively speaking, when you want to examine what the result\n",
    "of a `Writer` value is, you have to write its monoid value to the log\n",
    "first and only then can you examine what it has inside.\n",
    "\n",
    "Flattening `Either` values is very similar to flattening `Maybe` values:"
   ]
  },
  {
   "cell_type": "code",
   "execution_count": null,
   "metadata": {
    "attributes": {
     "classes": [
      "haskell:hs"
     ],
     "id": "",
     "name": "\"code\""
    }
   },
   "outputs": [],
   "source": [
    "ghci> join (Right (Right 9)) :: Either String Int\n",
    "Right 9\n",
    "ghci> join (Right (Left \"error\")) :: Either String Int\n",
    "Left \"error\"\n",
    "ghci> join (Left \"error\") :: Either String Int\n",
    "Left \"error\""
   ]
  },
  {
   "cell_type": "markdown",
   "metadata": {},
   "source": [
    "If we apply `join` to a stateful computation whose result is a stateful\n",
    "computation, the result is a stateful computation that first runs the\n",
    "outer stateful computation and then the resulting one. Watch:"
   ]
  },
  {
   "cell_type": "code",
   "execution_count": null,
   "metadata": {
    "attributes": {
     "classes": [
      "haskell:hs"
     ],
     "id": "",
     "name": "\"code\""
    }
   },
   "outputs": [],
   "source": [
    "ghci> runState (join (State $ \\s -> (push 10,1:2:s))) [0,0,0]\n",
    "((),[10,1,2,0,0,0])"
   ]
  },
  {
   "cell_type": "markdown",
   "metadata": {},
   "source": [
    "The lambda here takes a state and puts `2` and `1` onto the stack and\n",
    "presents `push 10` as its result. So when this whole thing is flattened\n",
    "with `join` and then run, it first puts `2` and `1` onto the stack and then\n",
    "`push 10` gets carried out, pushing a `10` on to the top.\n",
    "\n",
    "The implementation for `join` is as follows:"
   ]
  },
  {
   "cell_type": "code",
   "execution_count": null,
   "metadata": {
    "attributes": {
     "classes": [
      "haskell:hs"
     ],
     "id": "",
     "name": "\"code\""
    }
   },
   "outputs": [],
   "source": [
    "join :: (Monad m) => m (m a) -> m a\n",
    "join mm = do\n",
    "    m <- mm\n",
    "    m"
   ]
  },
  {
   "cell_type": "markdown",
   "metadata": {},
   "source": [
    "Because the result of `mm` is a monadic value, we get that result and then\n",
    "just put it on a line of its own because it's a monadic value. The trick\n",
    "here is that when we do `m <- mm`, the context of the monad in which we\n",
    "are in gets taken care of. That's why, for instance, `Maybe` values result\n",
    "in `Just` values only if the outer and inner values are both `Just` values.\n",
    "Here's what this would look like if the `mm` value was set in advance to\n",
    "`Just (Just 8)`:"
   ]
  },
  {
   "cell_type": "code",
   "execution_count": null,
   "metadata": {
    "attributes": {
     "classes": [
      "haskell:hs"
     ],
     "id": "",
     "name": "\"code\""
    }
   },
   "outputs": [],
   "source": [
    "joinedMaybes :: Maybe Int\n",
    "joinedMaybes = do\n",
    "    m <- Just (Just 8)\n",
    "    m"
   ]
  },
  {
   "cell_type": "markdown",
   "metadata": {},
   "source": [
    "![im a cop too as well also](img/tipi.png)\n",
    "\n",
    "Perhaps the most interesting thing about `join` is that for every monad,\n",
    "feeding a monadic value to a function with `>>=` is the same thing as\n",
    "just mapping that function over the value and then using `join` to flatten\n",
    "the resulting nested monadic value! In other words, `m >>= f` is always\n",
    "the same thing as `join (fmap f m)`! It makes sense when you think about\n",
    "it. With `>>=`, we're always thinking about how to feed a monadic value\n",
    "to a function that takes a normal value but returns a monadic value. If\n",
    "we just map that function over the monadic value, we have a monadic\n",
    "value inside a monadic value. For instance, say we have `Just 9` and the\n",
    "function `\\x -> Just (x+1)`. If we map this function over `Just 9`, we're\n",
    "left with `Just (Just 10)`.\n",
    "\n",
    "The fact that `m >>= f` always equals `join (fmap f m)` is very useful if\n",
    "we're making our own `Monad` instance for some type because it's often\n",
    "easier to figure out how we would flatten a nested monadic value than\n",
    "figuring out how to implement `>>=`.\n",
    "\n",
    "### filterM\n",
    "\n",
    "The `filter` function is pretty much the bread of Haskell programming (`map`\n",
    "being the butter). It takes a predicate and a list to filter out and\n",
    "then returns a new list where only the elements that satisfy the\n",
    "predicate are kept. Its type is this:"
   ]
  },
  {
   "cell_type": "code",
   "execution_count": null,
   "metadata": {
    "attributes": {
     "classes": [
      "haskell:hs"
     ],
     "id": "",
     "name": "\"code\""
    }
   },
   "outputs": [],
   "source": [
    "filter :: (a -> Bool) -> [a] -> [a]"
   ]
  },
  {
   "cell_type": "markdown",
   "metadata": {},
   "source": [
    "The predicate takes an element of the list and returns a `Bool` value.\n",
    "Now, what if the `Bool` value that it returned was actually a monadic\n",
    "value? Whoa! That is, what if it came with a context? Could that work?\n",
    "For instance, what if every `True` or a `False` value that the predicate\n",
    "produced also had an accompanying monoid value, like\n",
    "`[\"Accepted the number 5\"]` or `[\"3 is too small\"]`? That sounds like it could work. If\n",
    "that were the case, we'd expect the resulting list to also come with a\n",
    "log of all the log values that were produced along the way. So if the\n",
    "`Bool` that the predicate returned came with a context, we'd expect the\n",
    "final resulting list to have some context attached as well, otherwise\n",
    "the context that each `Bool` came with would be lost.\n",
    "\n",
    "The `filterM` function from `Control.Monad` does just what we want! Its type\n",
    "is this:"
   ]
  },
  {
   "cell_type": "code",
   "execution_count": null,
   "metadata": {
    "attributes": {
     "classes": [
      "haskell:hs"
     ],
     "id": "",
     "name": "\"code\""
    }
   },
   "outputs": [],
   "source": [
    "filterM :: (Monad m) => (a -> m Bool) -> [a] -> m [a]"
   ]
  },
  {
   "cell_type": "markdown",
   "metadata": {},
   "source": [
    "The predicate returns a monadic value whose result is a `Bool`, but\n",
    "because it's a monadic value, its context can be anything from a\n",
    "possible failure to non-determinism and more! To ensure that the context\n",
    "is reflected in the final result, the result is also a monadic value.\n",
    "\n",
    "Let's take a list and only keep those values that are smaller than 4. To\n",
    "start, we'll just use the regular `filter` function:"
   ]
  },
  {
   "cell_type": "code",
   "execution_count": null,
   "metadata": {
    "attributes": {
     "classes": [
      "haskell:hs"
     ],
     "id": "",
     "name": "\"code\""
    }
   },
   "outputs": [],
   "source": [
    "ghci> filter (\\x -> x < 4) [9,1,5,2,10,3]\n",
    "[1,2,3]"
   ]
  },
  {
   "cell_type": "markdown",
   "metadata": {},
   "source": [
    "That's pretty easy. Now, let's make a predicate that, aside from\n",
    "presenting a `True` or `False` result, also provides a log of what it did.\n",
    "Of course, we'll be using the `Writer` monad for this:"
   ]
  },
  {
   "cell_type": "code",
   "execution_count": null,
   "metadata": {
    "attributes": {
     "classes": [
      "haskell:hs"
     ],
     "id": "",
     "name": "\"code\""
    }
   },
   "outputs": [],
   "source": [
    "keepSmall :: Int -> Writer [String] Bool\n",
    "keepSmall x\n",
    "    | x < 4 = do\n",
    "        tell [\"Keeping \" ++ show x]\n",
    "        return True\n",
    "    | otherwise = do\n",
    "        tell [show x ++ \" is too large, throwing it away\"]\n",
    "        return False"
   ]
  },
  {
   "cell_type": "markdown",
   "metadata": {},
   "source": [
    "Instead of just returning a `Bool`, this function returns a\n",
    "`Writer [String] Bool`. It's a monadic predicate. Sounds fancy, doesn't it? If\n",
    "the number is smaller than `4` we report that we're keeping it and then\n",
    "`return True`.\n",
    "\n",
    "Now, let's give it to `filterM` along with a list. Because the predicate\n",
    "returns a `Writer` value, the resulting list will also be a `Writer` value."
   ]
  },
  {
   "cell_type": "code",
   "execution_count": null,
   "metadata": {
    "attributes": {
     "classes": [
      "haskell:hs"
     ],
     "id": "",
     "name": "\"code\""
    }
   },
   "outputs": [],
   "source": [
    "ghci> fst $ runWriter $ filterM keepSmall [9,1,5,2,10,3]\n",
    "[1,2,3]"
   ]
  },
  {
   "cell_type": "markdown",
   "metadata": {},
   "source": [
    "Examining the result of the resulting `Writer` value, we see that\n",
    "everything is in order. Now, let's print the log and see what we got:"
   ]
  },
  {
   "cell_type": "code",
   "execution_count": null,
   "metadata": {
    "attributes": {
     "classes": [
      "haskell:hs"
     ],
     "id": "",
     "name": "\"code\""
    }
   },
   "outputs": [],
   "source": [
    "ghci> mapM_ putStrLn $ snd $ runWriter $ filterM keepSmall [9,1,5,2,10,3]\n",
    "9 is too large, throwing it away\n",
    "Keeping 1\n",
    "5 is too large, throwing it away\n",
    "Keeping 2\n",
    "10 is too large, throwing it away\n",
    "Keeping 3"
   ]
  },
  {
   "cell_type": "markdown",
   "metadata": {},
   "source": [
    "Awesome. So just by providing a monadic predicate to `filterM`, we were\n",
    "able to filter a list while taking advantage of the monadic context that\n",
    "we used.\n",
    "\n",
    "A very cool Haskell trick is using `filterM` to get the powerset of a list\n",
    "(if we think of them as sets for now). The powerset of some set is a set\n",
    "of all subsets of that set. So if we have a set like `[1,2,3]`, its\n",
    "powerset would include the following sets:"
   ]
  },
  {
   "cell_type": "code",
   "execution_count": null,
   "metadata": {
    "attributes": {
     "classes": [
      "haskell:hs"
     ],
     "id": "",
     "name": "\"code\""
    }
   },
   "outputs": [],
   "source": [
    "[1,2,3]\n",
    "[1,2]\n",
    "[1,3]\n",
    "[1]\n",
    "[2,3]\n",
    "[2]\n",
    "[3]\n",
    "[]"
   ]
  },
  {
   "cell_type": "markdown",
   "metadata": {},
   "source": [
    "In other words, getting a powerset is like getting all the combinations\n",
    "of keeping and throwing out elements from a set. `[2,3]` is like the\n",
    "original set, only we excluded the number `1`.\n",
    "\n",
    "To make a function that returns a powerset of some list, we're going to\n",
    "rely on non-determinism. We take the list `[1,2,3]` and then look at the\n",
    "first element, which is `1` and we ask ourselves: should we keep it or\n",
    "drop it? Well, we'd like to do both actually. So we are going to filter\n",
    "a list and we'll use a predicate that non-deterministically both keeps\n",
    "and drops every element from the list. Here's our `powerset` function:"
   ]
  },
  {
   "cell_type": "code",
   "execution_count": null,
   "metadata": {
    "attributes": {
     "classes": [
      "haskell:hs"
     ],
     "id": "",
     "name": "\"code\""
    }
   },
   "outputs": [],
   "source": [
    "powerset :: [a] -> [[a]]\n",
    "powerset xs = filterM (\\x -> [True, False]) xs"
   ]
  },
  {
   "cell_type": "markdown",
   "metadata": {},
   "source": [
    "Wait, that's it? Yup. We choose to drop and keep every element,\n",
    "regardless of what that element is. We have a non-deterministic\n",
    "predicate, so the resulting list will also be a non-deterministic value\n",
    "and will thus be a list of lists. Let's give this a go:"
   ]
  },
  {
   "cell_type": "code",
   "execution_count": null,
   "metadata": {
    "attributes": {
     "classes": [
      "haskell:hs"
     ],
     "id": "",
     "name": "\"code\""
    }
   },
   "outputs": [],
   "source": [
    "ghci> powerset [1,2,3]\n",
    "[[1,2,3],[1,2],[1,3],[1],[2,3],[2],[3],[]]"
   ]
  },
  {
   "cell_type": "markdown",
   "metadata": {},
   "source": [
    "This takes a bit of thinking to wrap your head around, but if you just\n",
    "consider lists as non-deterministic values that don't know what to be so\n",
    "they just decide to be everything at once, it's a bit easier.\n",
    "\n",
    "### foldM\n",
    "\n",
    "The monadic counterpart to `foldl` is `foldM`. If you remember your folds\n",
    "from the [folds section](#folds), you know that `foldl` takes a binary\n",
    "function, a starting accumulator and a list to fold up and then folds it\n",
    "from the left into a single value by using the binary function. `foldM`\n",
    "does the same thing, except it takes a binary function that produces a\n",
    "monadic value and folds the list up with that. Unsurprisingly, the\n",
    "resulting value is also monadic. The type of `foldl` is this:"
   ]
  },
  {
   "cell_type": "code",
   "execution_count": null,
   "metadata": {
    "attributes": {
     "classes": [
      "haskell:hs"
     ],
     "id": "",
     "name": "\"code\""
    }
   },
   "outputs": [],
   "source": [
    "foldl :: (a -> b -> a) -> a -> [b] -> a"
   ]
  },
  {
   "cell_type": "markdown",
   "metadata": {},
   "source": [
    "Whereas `foldM` has the following type:"
   ]
  },
  {
   "cell_type": "code",
   "execution_count": null,
   "metadata": {
    "attributes": {
     "classes": [
      "haskell:hs"
     ],
     "id": "",
     "name": "\"code\""
    }
   },
   "outputs": [],
   "source": [
    "foldM :: (Monad m) => (a -> b -> m a) -> a -> [b] -> m a"
   ]
  },
  {
   "cell_type": "markdown",
   "metadata": {},
   "source": [
    "The value that the binary function returns is monadic and so the result\n",
    "of the whole fold is monadic as well. Let's sum a list of numbers with a\n",
    "fold:"
   ]
  },
  {
   "cell_type": "code",
   "execution_count": null,
   "metadata": {
    "attributes": {
     "classes": [
      "haskell:hs"
     ],
     "id": "",
     "name": "\"code\""
    }
   },
   "outputs": [],
   "source": [
    "ghci> foldl (\\acc x -> acc + x) 0 [2,8,3,1]\n",
    "14"
   ]
  },
  {
   "cell_type": "markdown",
   "metadata": {},
   "source": [
    "The starting accumulator is `0` and then `2` gets added to the accumulator,\n",
    "resulting in a new accumulator that has a value of `2`. `8` gets added to\n",
    "this accumulator resulting in an accumulator of `10` and so on and when we\n",
    "reach the end, the final accumulator is the result.\n",
    "\n",
    "Now what if we wanted to sum a list of numbers but with the added\n",
    "condition that if any number is greater than `9` in the list, the whole\n",
    "thing fails? It would make sense to use a binary function that checks if\n",
    "the current number is greater than `9` and if it is, fails, and if it\n",
    "isn't, continues on its merry way. Because of this added possibility of\n",
    "failure, let's make our binary function return a `Maybe` accumulator\n",
    "instead of a normal one. Here's the binary function:"
   ]
  },
  {
   "cell_type": "code",
   "execution_count": null,
   "metadata": {
    "attributes": {
     "classes": [
      "haskell:hs"
     ],
     "id": "",
     "name": "\"code\""
    }
   },
   "outputs": [],
   "source": [
    "binSmalls :: Int -> Int -> Maybe Int\n",
    "binSmalls acc x\n",
    "    | x > 9     = Nothing\n",
    "    | otherwise = Just (acc + x)"
   ]
  },
  {
   "cell_type": "markdown",
   "metadata": {},
   "source": [
    "Because our binary function is now a monadic function, we can't use it\n",
    "with the normal `foldl`, but we have to use `foldM`. Here goes:"
   ]
  },
  {
   "cell_type": "code",
   "execution_count": null,
   "metadata": {
    "attributes": {
     "classes": [
      "haskell:hs"
     ],
     "id": "",
     "name": "\"code\""
    }
   },
   "outputs": [],
   "source": [
    "ghci> foldM binSmalls 0 [2,8,3,1]\n",
    "Just 14\n",
    "ghci> foldM binSmalls 0 [2,11,3,1]\n",
    "Nothing"
   ]
  },
  {
   "cell_type": "markdown",
   "metadata": {},
   "source": [
    "Excellent! Because one number in the list was greater than `9`, the whole\n",
    "thing resulted in a `Nothing`. Folding with a binary function that returns\n",
    "a `Writer` value is cool as well because then you log whatever you want as\n",
    "your fold goes along its way.\n",
    "\n",
    "### Making a safe RPN calculator\n",
    "\n",
    "![i've found yellow!](img/miner.png)\n",
    "\n",
    "When we were solving the problem of [implementing a RPN\n",
    "calculator](#reverse-polish-notation-calculator), we noted that it worked\n",
    "fine as long as the input that it got made sense. But if something went\n",
    "wrong, it caused our whole program to crash. Now that we know how to\n",
    "take some code that we have and make it monadic, let's take our RPN\n",
    "calculator and add error handling to it by taking advantage of the `Maybe`\n",
    "monad.\n",
    "\n",
    "We implemented our RPN calculator by taking a string like `\"1 3 + 2 *\"`,\n",
    "breaking it up into words to get something like `[\"1\",\"3\",\"+\",\"2\",\"*\"]`\n",
    "and then folding over that list by starting out with an empty stack and\n",
    "then using a binary folding function that adds numbers to the stack or\n",
    "manipulates numbers on the top of the stack to add them together and\n",
    "divide them and such.\n",
    "\n",
    "This was the main body of our function:"
   ]
  },
  {
   "cell_type": "code",
   "execution_count": null,
   "metadata": {
    "attributes": {
     "classes": [
      "haskell:hs"
     ],
     "id": "",
     "name": "\"code\""
    }
   },
   "outputs": [],
   "source": [
    "import Data.List\n",
    "\n",
    "solveRPN :: String -> Double\n",
    "solveRPN = head . foldl foldingFunction [] . words"
   ]
  },
  {
   "cell_type": "markdown",
   "metadata": {},
   "source": [
    "We made the expression into a list of strings, folded over it with our\n",
    "folding function and then when we were left with just one item in the\n",
    "stack, we returned that item as the answer. This was the folding\n",
    "function:"
   ]
  },
  {
   "cell_type": "code",
   "execution_count": null,
   "metadata": {
    "attributes": {
     "classes": [
      "haskell:hs"
     ],
     "id": "",
     "name": "\"code\""
    }
   },
   "outputs": [],
   "source": [
    "foldingFunction :: [Double] -> String -> [Double]\n",
    "foldingFunction (x:y:ys) \"*\" = (x * y):ys\n",
    "foldingFunction (x:y:ys) \"+\" = (x + y):ys\n",
    "foldingFunction (x:y:ys) \"-\" = (y - x):ys\n",
    "foldingFunction xs numberString = read numberString:xs"
   ]
  },
  {
   "cell_type": "markdown",
   "metadata": {},
   "source": [
    "The accumulator of the fold was a stack, which we represented with a\n",
    "list of `Double` values. As the folding function went over the RPN\n",
    "expression, if the current item was an operator, it took two items off\n",
    "the top of the stack, applied the operator between them and then put the\n",
    "result back on the stack. If the current item was a string that\n",
    "represented a number, it converted that string into an actual number and\n",
    "returned a new stack that was like the old one, except with that number\n",
    "pushed to the top.\n",
    "\n",
    "Let's first make our folding function capable of graceful failure. Its\n",
    "type is going to change from what it is now to this:"
   ]
  },
  {
   "cell_type": "code",
   "execution_count": null,
   "metadata": {
    "attributes": {
     "classes": [
      "haskell:hs"
     ],
     "id": "",
     "name": "\"code\""
    }
   },
   "outputs": [],
   "source": [
    "foldingFunction :: [Double] -> String -> Maybe [Double]"
   ]
  },
  {
   "cell_type": "markdown",
   "metadata": {},
   "source": [
    "So it will either return `Just` a new stack or it will fail with `Nothing`.\n",
    "\n",
    "The `reads` function is like `read`, only it returns a list with a single\n",
    "element in case of a successful read. If it fails to read something,\n",
    "then it returns an empty list. Apart from returning the value that it\n",
    "read, it also returns the part of the string that it didn't consume.\n",
    "We're going to say that it always has to consume the full input to work\n",
    "and make it into a `readMaybe` function for convenience. Here it is:"
   ]
  },
  {
   "cell_type": "code",
   "execution_count": null,
   "metadata": {
    "attributes": {
     "classes": [
      "haskell:hs"
     ],
     "id": "",
     "name": "\"code\""
    }
   },
   "outputs": [],
   "source": [
    "readMaybe :: (Read a) => String -> Maybe a\n",
    "readMaybe st = case reads st of [(x,\"\")] -> Just x\n",
    "                                _ -> Nothing"
   ]
  },
  {
   "cell_type": "markdown",
   "metadata": {},
   "source": [
    "Testing it out:"
   ]
  },
  {
   "cell_type": "code",
   "execution_count": null,
   "metadata": {
    "attributes": {
     "classes": [
      "haskell:hs"
     ],
     "id": "",
     "name": "\"code\""
    }
   },
   "outputs": [],
   "source": [
    "ghci> readMaybe \"1\" :: Maybe Int\n",
    "Just 1\n",
    "ghci> readMaybe \"GO TO HELL\" :: Maybe Int\n",
    "Nothing"
   ]
  },
  {
   "cell_type": "markdown",
   "metadata": {},
   "source": [
    "Okay, it seems to work. So, let's make our folding function into a\n",
    "monadic function that can fail:"
   ]
  },
  {
   "cell_type": "code",
   "execution_count": null,
   "metadata": {
    "attributes": {
     "classes": [
      "haskell:hs"
     ],
     "id": "",
     "name": "\"code\""
    }
   },
   "outputs": [],
   "source": [
    "foldingFunction :: [Double] -> String -> Maybe [Double]\n",
    "foldingFunction (x:y:ys) \"*\" = return ((x * y):ys)\n",
    "foldingFunction (x:y:ys) \"+\" = return ((x + y):ys)\n",
    "foldingFunction (x:y:ys) \"-\" = return ((y - x):ys)\n",
    "foldingFunction xs numberString = liftM (:xs) (readMaybe numberString)"
   ]
  },
  {
   "cell_type": "markdown",
   "metadata": {},
   "source": [
    "The first three cases are like the old ones, except the new stack gets\n",
    "wrapped in a `Just` (we used `return` here to do this, but we could have\n",
    "written `Just` just as well). In the last case, we do\n",
    "`readMaybe numberString` and then we map `(:xs)` over it. So if the stack `xs` is\n",
    "`[1.0,2.0]` and `readMaybe numberString` results in a `Just 3.0`, the result\n",
    "is `Just [3.0,1.0,2.0]`. If `readMaybe numberString` results in a `Nothing`\n",
    "then the result is `Nothing`. Let's try out the folding function by\n",
    "itself:"
   ]
  },
  {
   "cell_type": "code",
   "execution_count": null,
   "metadata": {
    "attributes": {
     "classes": [
      "haskell:hs"
     ],
     "id": "",
     "name": "\"code\""
    }
   },
   "outputs": [],
   "source": [
    "ghci> foldingFunction [3,2] \"*\"\n",
    "Just [6.0]\n",
    "ghci> foldingFunction [3,2] \"-\"\n",
    "Just [-1.0]\n",
    "ghci> foldingFunction [] \"*\"\n",
    "Nothing\n",
    "ghci> foldingFunction [] \"1\"\n",
    "Just [1.0]\n",
    "ghci> foldingFunction [] \"1 wawawawa\"\n",
    "Nothing"
   ]
  },
  {
   "cell_type": "markdown",
   "metadata": {},
   "source": [
    "It looks like it's working! And now it's time for the new and improved\n",
    "`solveRPN`. Here it is ladies and gents!"
   ]
  },
  {
   "cell_type": "code",
   "execution_count": null,
   "metadata": {
    "attributes": {
     "classes": [
      "haskell:hs"
     ],
     "id": "",
     "name": "\"code\""
    }
   },
   "outputs": [],
   "source": [
    "import Data.List\n",
    "\n",
    "solveRPN :: String -> Maybe Double\n",
    "solveRPN st = do\n",
    "    [result] <- foldM foldingFunction [] (words st)\n",
    "    return result"
   ]
  },
  {
   "cell_type": "markdown",
   "metadata": {},
   "source": [
    "Just like before, we take the string and make it into a list of words.\n",
    "Then, we do a fold, starting with the empty stack, only instead of doing\n",
    "a normal `foldl`, we do a `foldM`. The result of that `foldM` should be a\n",
    "`Maybe` value that contains a list (that's our final stack) and that list\n",
    "should have only one value. We use a `do` expression to get that value and\n",
    "we call it `result`. In case the `foldM` returns a `Nothing`, the whole thing\n",
    "will be a `Nothing`, because that's how `Maybe` works. Also notice that we\n",
    "pattern match in the `do` expression, so if the list has more than one\n",
    "value or none at all, the pattern match fails and a `Nothing` is produced.\n",
    "In the last line we just do `return result` to present the result of the\n",
    "RPN calculation as the result of the final `Maybe` value.\n",
    "\n",
    "Let's give it a shot:"
   ]
  },
  {
   "cell_type": "code",
   "execution_count": null,
   "metadata": {
    "attributes": {
     "classes": [
      "haskell:hs"
     ],
     "id": "",
     "name": "\"code\""
    }
   },
   "outputs": [],
   "source": [
    "ghci> solveRPN \"1 2 * 4 +\"\n",
    "Just 6.0\n",
    "ghci> solveRPN \"1 2 * 4 + 5 *\"\n",
    "Just 30.0\n",
    "ghci> solveRPN \"1 2 * 4\"\n",
    "Nothing\n",
    "ghci> solveRPN \"1 8 wharglbllargh\"\n",
    "Nothing"
   ]
  },
  {
   "cell_type": "markdown",
   "metadata": {},
   "source": [
    "The first failure happens because the final stack isn't a list with one\n",
    "element in it and so the pattern matching in the `do` expression fails.\n",
    "The second failure happens because `readMaybe` returns a `Nothing`.\n",
    "\n",
    "### Composing monadic functions\n",
    "\n",
    "When we were learning about the monad laws, we said that the `<=<`\n",
    "function is just like composition, only instead of working for normal\n",
    "functions like `a -> b`, it works for monadic functions like `a -> m b`.\n",
    "For instance:"
   ]
  },
  {
   "cell_type": "code",
   "execution_count": null,
   "metadata": {
    "attributes": {
     "classes": [
      "haskell:hs"
     ],
     "id": "",
     "name": "\"code\""
    }
   },
   "outputs": [],
   "source": [
    "ghci> let f = (+1) . (*100)\n",
    "ghci> f 4\n",
    "401\n",
    "ghci> let g = (\\x -> return (x+1)) <=< (\\x -> return (x*100))\n",
    "ghci> Just 4 >>= g\n",
    "Just 401"
   ]
  },
  {
   "cell_type": "markdown",
   "metadata": {},
   "source": [
    "In this example we first composed two normal functions, applied the\n",
    "resulting function to `4` and then we composed two monadic functions and\n",
    "fed `Just 4` to the resulting function with `>>=`.\n",
    "\n",
    "If we have a bunch of functions in a list, we can compose them one all\n",
    "into one big function by just using `id` as the starting accumulator and\n",
    "the `.` function as the binary function. Here's an example:"
   ]
  },
  {
   "cell_type": "code",
   "execution_count": null,
   "metadata": {
    "attributes": {
     "classes": [
      "haskell:hs"
     ],
     "id": "",
     "name": "\"code\""
    }
   },
   "outputs": [],
   "source": [
    "ghci> let f = foldr (.) id [(+1),(*100),(+1)]\n",
    "ghci> f 1\n",
    "201"
   ]
  },
  {
   "cell_type": "markdown",
   "metadata": {},
   "source": [
    "The function `f` takes a number and then adds `1` to it, multiplies the\n",
    "result by `100` and then adds `1` to that. Anyway, we can compose monadic\n",
    "functions in the same way, only instead of normal composition we use `<=<`\n",
    "and instead of `id` we use `return`. We don't have to use a `foldM` over a\n",
    "`foldr` or anything because the `<=<` function makes sure that composition\n",
    "happens in a monadic fashion.\n",
    "\n",
    "When we were getting to know the list monad in the [previous\n",
    "chapter](#the-list-monad), we used it to figure out\n",
    "if a knight can go from one position on a chessboard to another in\n",
    "exactly three moves. We had a function called `moveKnight` which took the\n",
    "knight's position on the board and returned all the possible moves that\n",
    "he can make next. Then, to generate all the possible positions that he\n",
    "can have after taking three moves, we made the following function:"
   ]
  },
  {
   "cell_type": "code",
   "execution_count": null,
   "metadata": {
    "attributes": {
     "classes": [
      "haskell:hs"
     ],
     "id": "",
     "name": "\"code\""
    }
   },
   "outputs": [],
   "source": [
    "in3 start = return start >>= moveKnight >>= moveKnight >>= moveKnight"
   ]
  },
  {
   "cell_type": "markdown",
   "metadata": {},
   "source": [
    "And to check if he can go from `start` to `end` in three moves, we did the\n",
    "following:"
   ]
  },
  {
   "cell_type": "code",
   "execution_count": null,
   "metadata": {
    "attributes": {
     "classes": [
      "haskell:hs"
     ],
     "id": "",
     "name": "\"code\""
    }
   },
   "outputs": [],
   "source": [
    "canReachIn3 :: KnightPos -> KnightPos -> Bool\n",
    "canReachIn3 start end = end `elem` in3 start"
   ]
  },
  {
   "cell_type": "markdown",
   "metadata": {},
   "source": [
    "Using monadic function composition, we can make a function like `in3`,\n",
    "only instead of generating all the positions that the knight can have\n",
    "after making three moves, we can do it for an arbitrary number of moves.\n",
    "If you look at in3, we see that we used `moveKnight` three times and each\n",
    "time we used `>>=` to feed it all the possible previous positions. So\n",
    "now, let's make it more general. Here's how to do it:"
   ]
  },
  {
   "cell_type": "code",
   "execution_count": null,
   "metadata": {
    "attributes": {
     "classes": [
      "haskell:hs"
     ],
     "id": "",
     "name": "\"code\""
    }
   },
   "outputs": [],
   "source": [
    "import Data.List\n",
    "\n",
    "inMany :: Int -> KnightPos -> [KnightPos]\n",
    "inMany x start = return start >>= foldr (<=<) return (replicate x moveKnight)"
   ]
  },
  {
   "cell_type": "markdown",
   "metadata": {},
   "source": [
    "First we use `replicate` to make a list that contains `x` copies of the\n",
    "function `moveKnight`. Then, we monadically compose all those functions\n",
    "into one, which gives us a function that takes a starting position and\n",
    "non-deterministically moves the knight `x` times. Then, we just make the\n",
    "starting position into a singleton list with `return` and feed it to the\n",
    "function.\n",
    "\n",
    "Now, we can change our `canReachIn3` function to be more general as well:"
   ]
  },
  {
   "cell_type": "code",
   "execution_count": null,
   "metadata": {
    "attributes": {
     "classes": [
      "haskell:hs"
     ],
     "id": "",
     "name": "\"code\""
    }
   },
   "outputs": [],
   "source": [
    "canReachIn :: Int -> KnightPos -> KnightPos -> Bool\n",
    "canReachIn x start end = end `elem` inMany x start"
   ]
  },
  {
   "cell_type": "markdown",
   "metadata": {},
   "source": [
    "Making monads\n",
    "-------------\n",
    "\n",
    "![kewl](img/spearhead.png)\n",
    "\n",
    "In this section, we're going to look at an example of how a type gets\n",
    "made, identified as a monad and then given the appropriate `Monad`\n",
    "instance. We don't usually set out to make a monad with the sole purpose\n",
    "of making a monad. Instead, we usually make a type whose purpose is\n",
    "to model an aspect of some problem and then later on if we see that the\n",
    "type represents a value with a context and can act like a monad, we give\n",
    "it a `Monad` instance.\n",
    "\n",
    "As we've seen, lists are used to represent non-deterministic values. A\n",
    "list like `[3,5,9]` can be viewed as a single non-deterministic value that\n",
    "just can't decide what it's going to be. When we feed a list into a\n",
    "function with `>>=`, it just makes all the possible choices of taking an\n",
    "element from the list and applying the function to it and then presents\n",
    "those results in a list as well.\n",
    "\n",
    "If we look at the list `[3,5,9]` as the numbers `3`, `5` and `9` occurring at\n",
    "once, we might notice that there's no info regarding the probability\n",
    "that each of those numbers occurs. What if we wanted to model a\n",
    "non-deterministic value like `[3,5,9]`, but we wanted to express that `3`\n",
    "has a 50% chance of happening and `5` and `9` both have a 25% chance of\n",
    "happening? Let's try and make this happen!\n",
    "\n",
    "Let's say that every item in the list comes with another value, a\n",
    "probability of it happening. It might make sense to present this like\n",
    "this then:"
   ]
  },
  {
   "cell_type": "code",
   "execution_count": null,
   "metadata": {
    "attributes": {
     "classes": [
      "haskell:hs"
     ],
     "id": "",
     "name": "\"code\""
    }
   },
   "outputs": [],
   "source": [
    "[(3,0.5),(5,0.25),(9,0.25)]"
   ]
  },
  {
   "cell_type": "markdown",
   "metadata": {},
   "source": [
    "In mathematics, probabilities aren't usually expressed in percentages,\n",
    "but rather in real numbers between a 0 and 1. A 0 means that there's no\n",
    "chance in hell for something to happen and a 1 means that it's happening\n",
    "for sure. Floating point numbers can get real messy real fast because\n",
    "they tend to lose precision, so Haskell offers us a data type for\n",
    "rational numbers that doesn't lose precision. That type is called\n",
    "`Rational` and it lives in `Data.Ratio`. To make a `Rational`, we write it as\n",
    "if it were a fraction. The numerator and the denominator are separated\n",
    "by a `%`. Here are a few examples:"
   ]
  },
  {
   "cell_type": "code",
   "execution_count": null,
   "metadata": {
    "attributes": {
     "classes": [
      "haskell:hs"
     ],
     "id": "",
     "name": "\"code\""
    }
   },
   "outputs": [],
   "source": [
    "ghci> 1%4\n",
    "1 % 4\n",
    "ghci> 1%2 + 1%2\n",
    "1 % 1\n",
    "ghci> 1%3 + 5%4\n",
    "19 % 12"
   ]
  },
  {
   "cell_type": "markdown",
   "metadata": {},
   "source": [
    "The first line is just one quarter. In the second line we add two halves\n",
    "to get a whole and in the third line we add one third with five quarters\n",
    "and get nineteen twelfths. So let'use throw out our floating points and\n",
    "use `Rational` for our probabilities:"
   ]
  },
  {
   "cell_type": "code",
   "execution_count": null,
   "metadata": {
    "attributes": {
     "classes": [
      "haskell:hs"
     ],
     "id": "",
     "name": "\"code\""
    }
   },
   "outputs": [],
   "source": [
    "ghci> [(3,1%2),(5,1%4),(9,1%4)]\n",
    "[(3,1 % 2),(5,1 % 4),(9,1 % 4)]"
   ]
  },
  {
   "cell_type": "markdown",
   "metadata": {},
   "source": [
    "Okay, so `3` has a one out of two chance of happening while `5` and `9` will\n",
    "happen one time out of four. Pretty neat.\n",
    "\n",
    "We took lists and we added some extra context to them, so this\n",
    "represents values with contexts too. Before we go any further, let's\n",
    "wrap this into a `newtype` because something tells me we'll be making some\n",
    "instances."
   ]
  },
  {
   "cell_type": "code",
   "execution_count": null,
   "metadata": {
    "attributes": {
     "classes": [
      "haskell:hs"
     ],
     "id": "",
     "name": "\"code\""
    }
   },
   "outputs": [],
   "source": [
    "import Data.Ratio\n",
    "\n",
    "newtype Prob a = Prob { getProb :: [(a,Rational)] } deriving Show"
   ]
  },
  {
   "cell_type": "markdown",
   "metadata": {},
   "source": [
    "Alright. Is this a functor? Well, the list is a functor, so this should\n",
    "probably be a functor as well, because we just added some stuff to the\n",
    "list. When we map a function over a list, we apply it to each element.\n",
    "Here, we'll apply it to each element as well, only we'll leave the\n",
    "probabilities as they are. Let's make an instance:"
   ]
  },
  {
   "cell_type": "code",
   "execution_count": null,
   "metadata": {
    "attributes": {
     "classes": [
      "haskell:hs"
     ],
     "id": "",
     "name": "\"code\""
    }
   },
   "outputs": [],
   "source": [
    "instance Functor Prob where\n",
    "    fmap f (Prob xs) = Prob $ map (\\(x,p) -> (f x,p)) xs"
   ]
  },
  {
   "cell_type": "markdown",
   "metadata": {},
   "source": [
    "We unwrap it from the `newtype` with pattern matching, apply the function\n",
    "`f` to the values while keeping the probabilities as they are and then\n",
    "wrap it back up. Let's see if it works:"
   ]
  },
  {
   "cell_type": "code",
   "execution_count": null,
   "metadata": {
    "attributes": {
     "classes": [
      "haskell:hs"
     ],
     "id": "",
     "name": "\"code\""
    }
   },
   "outputs": [],
   "source": [
    "ghci> fmap negate (Prob [(3,1%2),(5,1%4),(9,1%4)])\n",
    "Prob {getProb = [(-3,1 % 2),(-5,1 % 4),(-9,1 % 4)]}"
   ]
  },
  {
   "cell_type": "markdown",
   "metadata": {},
   "source": [
    "Another thing to note is that the probabilities should always add up to\n",
    "`1`. If those are all the things that can happen, it doesn't make sense\n",
    "for the sum of their probabilities to be anything other than `1`. A coin\n",
    "that lands tails 75% of the time and heads 50% of the time seems like it\n",
    "could only work in some other strange universe.\n",
    "\n",
    "Now the big question, is this a monad? Given how the list is a monad,\n",
    "this looks like it should be a monad as well. First, let's think about\n",
    "`return`. How does it work for lists? It takes a value and puts it in a\n",
    "singleton list. What about here? Well, since it's supposed to be a\n",
    "default minimal context, it should also make a singleton list. What\n",
    "about the probability? Well, `return x` is supposed to make a monadic\n",
    "value that always presents `x` as its result, so it doesn't make sense for\n",
    "the probability to be `0`. If it always has to present it as its result,\n",
    "the probability should be `1`!\n",
    "\n",
    "What about `>>=`? Seems kind of tricky, so let's make use of the fact\n",
    "that `m >>= f` always equals `join (fmap f m)` for monads and think about\n",
    "how we would flatten a probability list of probability lists. As an\n",
    "example, let's consider this list where there's a 25% chance that\n",
    "exactly one of `'a'` or `'b'` will happen. Both `'a'` and `'b'` are equally\n",
    "likely to occur. Also, there's a 75% chance that exactly one of `'c'` or\n",
    "`'d'` will happen. `'c'` and `'d'` are also equally likely to happen. Here's a\n",
    "picture of a probability list that models this scenario:\n",
    "\n",
    "![probs](img/prob.png)\n",
    "\n",
    "What are the chances for each of these letters to occur? If we were to\n",
    "draw this as just four boxes, each with a probability, what would those\n",
    "probabilities be? To find out, all we have to do is multiply each\n",
    "probability with all of probabilities that it contains. `'a'` would occur\n",
    "one time out of eight, as would `'b'`, because if we multiply one half by\n",
    "one quarter we get one eighth. `'c'` would happen three times out of eight\n",
    "because three quarters multiplied by one half is three eighths. `'d'`\n",
    "would also happen three times out of eight. If we sum all the\n",
    "probabilities, they still add up to one.\n",
    "\n",
    "Here's this situation expressed as a probability list:"
   ]
  },
  {
   "cell_type": "code",
   "execution_count": null,
   "metadata": {
    "attributes": {
     "classes": [
      "haskell:hs"
     ],
     "id": "",
     "name": "\"code\""
    }
   },
   "outputs": [],
   "source": [
    "thisSituation :: Prob (Prob Char)\n",
    "thisSituation = Prob\n",
    "    [( Prob [('a',1%2),('b',1%2)] , 1%4 )\n",
    "    ,( Prob [('c',1%2),('d',1%2)] , 3%4)\n",
    "    ]"
   ]
  },
  {
   "cell_type": "markdown",
   "metadata": {},
   "source": [
    "Notice that its type is `Prob (Prob Char)`. So now that we've figured out\n",
    "how to flatten a nested probability list, all we have to do is write the\n",
    "code for this and then we can write `>>=` simply as `join (fmap f m)` and\n",
    "we have ourselves a monad! So here's `flatten`, which we'll use because\n",
    "the name `join` is already taken:"
   ]
  },
  {
   "cell_type": "code",
   "execution_count": null,
   "metadata": {
    "attributes": {
     "classes": [
      "haskell:hs"
     ],
     "id": "",
     "name": "\"code\""
    }
   },
   "outputs": [],
   "source": [
    "flatten :: Prob (Prob a) -> Prob a\n",
    "flatten (Prob xs) = Prob $ concat $ map multAll xs\n",
    "    where multAll (Prob innerxs,p) = map (\\(x,r) -> (x,p*r)) innerxs"
   ]
  },
  {
   "cell_type": "markdown",
   "metadata": {},
   "source": [
    "The function `multAll` takes a tuple of probability list and a probability\n",
    "`p` that comes with it and then multiplies every inner probability with `p`,\n",
    "returning a list of pairs of items and probabilities. We map `multAll`\n",
    "over each pair in our nested probability list and then we just flatten\n",
    "the resulting nested list.\n",
    "\n",
    "Now we have all that we need, we can write a `Monad` instance!"
   ]
  },
  {
   "cell_type": "code",
   "execution_count": null,
   "metadata": {
    "attributes": {
     "classes": [
      "haskell:hs"
     ],
     "id": "",
     "name": "\"code\""
    }
   },
   "outputs": [],
   "source": [
    "instance Monad Prob where\n",
    "    return x = Prob [(x,1%1)]\n",
    "    m >>= f = flatten (fmap f m)\n",
    "    fail _ = Prob []"
   ]
  },
  {
   "cell_type": "markdown",
   "metadata": {},
   "source": [
    "![ride em cowboy](img/ride.png)\n",
    "\n",
    "Because we already did all the hard work, the instance is very simple.\n",
    "We also defined the `fail` function, which is the same as it is for lists,\n",
    "so if there's a pattern match failure in a `do` expression, a failure\n",
    "occurs within the context of a probability list.\n",
    "\n",
    "It's also important to check if the monad laws hold for the monad that\n",
    "we just made. The first one says that `return x >>= f` should be equal\n",
    "to `f x`. A rigorous proof would be rather tedious, but we can see that if\n",
    "we put a value in a default context with `return` and then `fmap` a function\n",
    "over that and flatten the resulting probability list, every probability\n",
    "that results from the function would be multiplied by the `1%1`\n",
    "probability that we made with `return`, so it wouldn't affect the context.\n",
    "The reasoning for `m >>= return` being equal to just `m` is similar. The\n",
    "third law states that `f <=< (g <=< h)` should be the same as\n",
    "`(f <=< g) <=< h`. This one holds as well, because it holds for the list monad\n",
    "which forms the basis of the probability monad and because\n",
    "multiplication is associative. `1%2 * (1%3 * 1%5)` is equal to\n",
    "`(1%2 * 1%3) * 1%5`.\n",
    "\n",
    "Now that we have a monad, what can we do with it? Well, it can help us\n",
    "do calculations with probabilities. We can treat probabilistic events as\n",
    "values with contexts and the probability monad will make sure that those\n",
    "probabilities get reflected in the probabilities of the final result.\n",
    "\n",
    "Say we have two normal coins and one loaded coin that gets tails an\n",
    "astounding nine times out of ten and heads only one time out of ten. If\n",
    "we throw all the coins at once, what are the odds of all of them landing\n",
    "tails? First, let's make probability values for a normal coin flip and\n",
    "for a loaded one:"
   ]
  },
  {
   "cell_type": "code",
   "execution_count": null,
   "metadata": {
    "attributes": {
     "classes": [
      "haskell:hs"
     ],
     "id": "",
     "name": "\"code\""
    }
   },
   "outputs": [],
   "source": [
    "data Coin = Heads | Tails deriving (Show, Eq)\n",
    "\n",
    "coin :: Prob Coin\n",
    "coin = Prob [(Heads,1%2),(Tails,1%2)]\n",
    "\n",
    "loadedCoin :: Prob Coin\n",
    "loadedCoin = Prob [(Heads,1%10),(Tails,9%10)]"
   ]
  },
  {
   "cell_type": "markdown",
   "metadata": {},
   "source": [
    "And finally, the coin throwing action:"
   ]
  },
  {
   "cell_type": "code",
   "execution_count": null,
   "metadata": {
    "attributes": {
     "classes": [
      "haskell:hs"
     ],
     "id": "",
     "name": "\"code\""
    }
   },
   "outputs": [],
   "source": [
    "import Data.List (all)\n",
    "\n",
    "flipThree :: Prob Bool\n",
    "flipThree = do\n",
    "    a <- coin\n",
    "    b <- coin\n",
    "    c <- loadedCoin\n",
    "    return (all (==Tails) [a,b,c])"
   ]
  },
  {
   "cell_type": "markdown",
   "metadata": {},
   "source": [
    "Giving it a go, we see that the odds of all three landing tails are not\n",
    "that good, despite cheating with our loaded coin:"
   ]
  },
  {
   "cell_type": "code",
   "execution_count": null,
   "metadata": {
    "attributes": {
     "classes": [
      "haskell:hs"
     ],
     "id": "",
     "name": "\"code\""
    }
   },
   "outputs": [],
   "source": [
    "ghci> getProb flipThree\n",
    "[(False,1 % 40),(False,9 % 40),(False,1 % 40),(False,9 % 40),\n",
    " (False,1 % 40),(False,9 % 40),(False,1 % 40),(True,9 % 40)]"
   ]
  },
  {
   "cell_type": "markdown",
   "metadata": {},
   "source": [
    "All three of them will land tails nine times out of forty, which is less\n",
    "than 25%. We see that our monad doesn't know how to join all of the\n",
    "`False` outcomes where all coins don't land tails into one outcome. That's\n",
    "not a big problem, since writing a function to put all the same outcomes\n",
    "into one outcome is pretty easy and is left as an exercise to the reader\n",
    "(you!)\n",
    "\n",
    "In this section, we went from having a question (what if lists also\n",
    "carried information about probability?) to making a type, recognizing a\n",
    "monad and finally making an instance and doing something with it. I\n",
    "think that's quite fetching! By now, we should have a pretty good grasp\n",
    "on monads and what they're about."
   ]
  }
 ],
 "metadata": {
  "kernelspec": {
   "display_name": "Haskell",
   "language": "haskell",
   "name": "haskell"
  },
  "language_info": {
   "codemirror_mode": "ihaskell",
   "file_extension": ".hs",
   "name": "haskell",
   "pygments_lexer": "Haskell",
   "version": "8.6.5"
  }
 },
 "nbformat": 4,
 "nbformat_minor": 2
}
